{
 "cells": [
  {
   "cell_type": "code",
   "execution_count": 1,
   "metadata": {},
   "outputs": [],
   "source": [
    "import pandas as pd\n",
    "import numpy as np\n",
    "import seaborn as sns\n",
    "from matplotlib import pyplot as plt\n",
    "\n",
    "import warnings\n",
    "warnings.filterwarnings('ignore')"
   ]
  },
  {
   "cell_type": "markdown",
   "metadata": {},
   "source": [
    "- Data cleaning and exploration\n",
    "- Data preparation \n",
    "- Build model and predict "
   ]
  },
  {
   "cell_type": "markdown",
   "metadata": {},
   "source": [
    "### Data cleaning and exploration"
   ]
  },
  {
   "cell_type": "code",
   "execution_count": 2,
   "metadata": {},
   "outputs": [],
   "source": [
    "train = pd.read_csv(\"Train.csv\")\n",
    "test = pd.read_csv(\"Test.csv\")\n",
    "sample_sub = pd.read_csv(\"SampleSubmission.csv\")\n",
    "definitions = pd.read_csv(\"VariableDefinitions.csv\")"
   ]
  },
  {
   "cell_type": "code",
   "execution_count": 3,
   "metadata": {},
   "outputs": [],
   "source": [
    "# test[\"Year\"].unique()"
   ]
  },
  {
   "cell_type": "code",
   "execution_count": 4,
   "metadata": {},
   "outputs": [
    {
     "data": {
      "text/html": [
       "<div>\n",
       "<style scoped>\n",
       "    .dataframe tbody tr th:only-of-type {\n",
       "        vertical-align: middle;\n",
       "    }\n",
       "\n",
       "    .dataframe tbody tr th {\n",
       "        vertical-align: top;\n",
       "    }\n",
       "\n",
       "    .dataframe thead th {\n",
       "        text-align: right;\n",
       "    }\n",
       "</style>\n",
       "<table border=\"1\" class=\"dataframe\">\n",
       "  <thead>\n",
       "    <tr style=\"text-align: right;\">\n",
       "      <th></th>\n",
       "      <th>VehicleID</th>\n",
       "      <th>This is the unique identifier of the car.</th>\n",
       "    </tr>\n",
       "  </thead>\n",
       "  <tbody>\n",
       "    <tr>\n",
       "      <th>0</th>\n",
       "      <td>Location</td>\n",
       "      <td>This is the location in Nigeria where the sell...</td>\n",
       "    </tr>\n",
       "    <tr>\n",
       "      <th>1</th>\n",
       "      <td>Maker</td>\n",
       "      <td>This is the manufacturer of the car. It is the...</td>\n",
       "    </tr>\n",
       "    <tr>\n",
       "      <th>2</th>\n",
       "      <td>Model</td>\n",
       "      <td>This is the the name of the car product within...</td>\n",
       "    </tr>\n",
       "    <tr>\n",
       "      <th>3</th>\n",
       "      <td>Year</td>\n",
       "      <td>This is the year the car was manufactured.</td>\n",
       "    </tr>\n",
       "    <tr>\n",
       "      <th>4</th>\n",
       "      <td>Colour</td>\n",
       "      <td>This is the colour of the car.</td>\n",
       "    </tr>\n",
       "    <tr>\n",
       "      <th>5</th>\n",
       "      <td>Amount (Million Naira)</td>\n",
       "      <td>This is the selling price of the car. It is th...</td>\n",
       "    </tr>\n",
       "    <tr>\n",
       "      <th>6</th>\n",
       "      <td>Type</td>\n",
       "      <td>This is the nature of previous use of the car,...</td>\n",
       "    </tr>\n",
       "    <tr>\n",
       "      <th>7</th>\n",
       "      <td>Distance</td>\n",
       "      <td>This is the mileage of the car. It is how much...</td>\n",
       "    </tr>\n",
       "  </tbody>\n",
       "</table>\n",
       "</div>"
      ],
      "text/plain": [
       "                VehicleID          This is the unique identifier of the car.\n",
       "0                Location  This is the location in Nigeria where the sell...\n",
       "1                   Maker  This is the manufacturer of the car. It is the...\n",
       "2                   Model  This is the the name of the car product within...\n",
       "3                    Year         This is the year the car was manufactured.\n",
       "4                  Colour                     This is the colour of the car.\n",
       "5  Amount (Million Naira)  This is the selling price of the car. It is th...\n",
       "6                    Type  This is the nature of previous use of the car,...\n",
       "7                Distance  This is the mileage of the car. It is how much..."
      ]
     },
     "execution_count": 4,
     "metadata": {},
     "output_type": "execute_result"
    }
   ],
   "source": [
    "definitions"
   ]
  },
  {
   "cell_type": "code",
   "execution_count": 5,
   "metadata": {},
   "outputs": [
    {
     "data": {
      "text/html": [
       "<div>\n",
       "<style scoped>\n",
       "    .dataframe tbody tr th:only-of-type {\n",
       "        vertical-align: middle;\n",
       "    }\n",
       "\n",
       "    .dataframe tbody tr th {\n",
       "        vertical-align: top;\n",
       "    }\n",
       "\n",
       "    .dataframe thead th {\n",
       "        text-align: right;\n",
       "    }\n",
       "</style>\n",
       "<table border=\"1\" class=\"dataframe\">\n",
       "  <thead>\n",
       "    <tr style=\"text-align: right;\">\n",
       "      <th></th>\n",
       "      <th>VehicleID</th>\n",
       "      <th>Location</th>\n",
       "      <th>Maker</th>\n",
       "      <th>Model</th>\n",
       "      <th>Year</th>\n",
       "      <th>Colour</th>\n",
       "      <th>Amount (Million Naira)</th>\n",
       "      <th>Type</th>\n",
       "      <th>Distance</th>\n",
       "    </tr>\n",
       "  </thead>\n",
       "  <tbody>\n",
       "    <tr>\n",
       "      <th>0</th>\n",
       "      <td>VHL12546</td>\n",
       "      <td>Abuja</td>\n",
       "      <td>Honda</td>\n",
       "      <td>Accord Coupe EX V-6</td>\n",
       "      <td>2,011</td>\n",
       "      <td>Silver</td>\n",
       "      <td>2.2</td>\n",
       "      <td>Nigerian Used</td>\n",
       "      <td>NaN</td>\n",
       "    </tr>\n",
       "    <tr>\n",
       "      <th>1</th>\n",
       "      <td>VHL18827</td>\n",
       "      <td>Ibadan</td>\n",
       "      <td>Hyundai</td>\n",
       "      <td>Sonata</td>\n",
       "      <td>2,012</td>\n",
       "      <td>Silver</td>\n",
       "      <td>3.5</td>\n",
       "      <td>Nigerian Used</td>\n",
       "      <td>125,000</td>\n",
       "    </tr>\n",
       "    <tr>\n",
       "      <th>2</th>\n",
       "      <td>VHL19499</td>\n",
       "      <td>Lagos</td>\n",
       "      <td>Lexus</td>\n",
       "      <td>RX 350</td>\n",
       "      <td>2,010</td>\n",
       "      <td>Red</td>\n",
       "      <td>9.2</td>\n",
       "      <td>Foreign Used</td>\n",
       "      <td>110,852</td>\n",
       "    </tr>\n",
       "    <tr>\n",
       "      <th>3</th>\n",
       "      <td>VHL17991</td>\n",
       "      <td>Abuja</td>\n",
       "      <td>Mercedes-Benz</td>\n",
       "      <td>GLE-Class</td>\n",
       "      <td>2,017</td>\n",
       "      <td>Blue</td>\n",
       "      <td>22.8</td>\n",
       "      <td>Foreign Used</td>\n",
       "      <td>30,000</td>\n",
       "    </tr>\n",
       "    <tr>\n",
       "      <th>4</th>\n",
       "      <td>VHL12170</td>\n",
       "      <td>Ibadan</td>\n",
       "      <td>Toyota</td>\n",
       "      <td>Highlander</td>\n",
       "      <td>2,002</td>\n",
       "      <td>Red</td>\n",
       "      <td>2.6</td>\n",
       "      <td>Nigerian Used</td>\n",
       "      <td>125,206</td>\n",
       "    </tr>\n",
       "  </tbody>\n",
       "</table>\n",
       "</div>"
      ],
      "text/plain": [
       "  VehicleID Location          Maker                Model   Year  Colour  \\\n",
       "0  VHL12546    Abuja          Honda  Accord Coupe EX V-6  2,011  Silver   \n",
       "1  VHL18827   Ibadan        Hyundai               Sonata  2,012  Silver   \n",
       "2  VHL19499    Lagos          Lexus               RX 350  2,010     Red   \n",
       "3  VHL17991    Abuja  Mercedes-Benz            GLE-Class  2,017    Blue   \n",
       "4  VHL12170   Ibadan         Toyota           Highlander  2,002     Red   \n",
       "\n",
       "   Amount (Million Naira)           Type Distance  \n",
       "0                     2.2  Nigerian Used      NaN  \n",
       "1                     3.5  Nigerian Used  125,000  \n",
       "2                     9.2   Foreign Used  110,852  \n",
       "3                    22.8   Foreign Used   30,000  \n",
       "4                     2.6  Nigerian Used  125,206  "
      ]
     },
     "execution_count": 5,
     "metadata": {},
     "output_type": "execute_result"
    }
   ],
   "source": [
    "train.head()"
   ]
  },
  {
   "cell_type": "code",
   "execution_count": 6,
   "metadata": {},
   "outputs": [
    {
     "data": {
      "text/html": [
       "<div>\n",
       "<style scoped>\n",
       "    .dataframe tbody tr th:only-of-type {\n",
       "        vertical-align: middle;\n",
       "    }\n",
       "\n",
       "    .dataframe tbody tr th {\n",
       "        vertical-align: top;\n",
       "    }\n",
       "\n",
       "    .dataframe thead th {\n",
       "        text-align: right;\n",
       "    }\n",
       "</style>\n",
       "<table border=\"1\" class=\"dataframe\">\n",
       "  <thead>\n",
       "    <tr style=\"text-align: right;\">\n",
       "      <th></th>\n",
       "      <th>VehicleID</th>\n",
       "      <th>Location</th>\n",
       "      <th>Maker</th>\n",
       "      <th>Model</th>\n",
       "      <th>Year</th>\n",
       "      <th>Colour</th>\n",
       "      <th>Type</th>\n",
       "      <th>Distance</th>\n",
       "    </tr>\n",
       "  </thead>\n",
       "  <tbody>\n",
       "    <tr>\n",
       "      <th>0</th>\n",
       "      <td>VHL18518</td>\n",
       "      <td>Abuja</td>\n",
       "      <td>BMW</td>\n",
       "      <td>323i</td>\n",
       "      <td>2,008</td>\n",
       "      <td>White</td>\n",
       "      <td>Foreign Used</td>\n",
       "      <td>30524.0</td>\n",
       "    </tr>\n",
       "    <tr>\n",
       "      <th>1</th>\n",
       "      <td>VHL17149</td>\n",
       "      <td>Lagos</td>\n",
       "      <td>Toyota</td>\n",
       "      <td>Camry</td>\n",
       "      <td>2,013</td>\n",
       "      <td>White</td>\n",
       "      <td>Foreign Used</td>\n",
       "      <td>NaN</td>\n",
       "    </tr>\n",
       "    <tr>\n",
       "      <th>2</th>\n",
       "      <td>VHL10927</td>\n",
       "      <td>Lagos</td>\n",
       "      <td>Toyota</td>\n",
       "      <td>Highlander Limited V6</td>\n",
       "      <td>2,005</td>\n",
       "      <td>Gold</td>\n",
       "      <td>Foreign Used</td>\n",
       "      <td>NaN</td>\n",
       "    </tr>\n",
       "    <tr>\n",
       "      <th>3</th>\n",
       "      <td>VHL12909</td>\n",
       "      <td>Lagos</td>\n",
       "      <td>Toyota</td>\n",
       "      <td>Camry</td>\n",
       "      <td>2,011</td>\n",
       "      <td>Gray</td>\n",
       "      <td>Foreign Used</td>\n",
       "      <td>166839.0</td>\n",
       "    </tr>\n",
       "    <tr>\n",
       "      <th>4</th>\n",
       "      <td>VHL12348</td>\n",
       "      <td>Lagos</td>\n",
       "      <td>Lexus</td>\n",
       "      <td>ES 350 FWD</td>\n",
       "      <td>2,013</td>\n",
       "      <td>Red</td>\n",
       "      <td>Foreign Used</td>\n",
       "      <td>88862.0</td>\n",
       "    </tr>\n",
       "  </tbody>\n",
       "</table>\n",
       "</div>"
      ],
      "text/plain": [
       "  VehicleID Location   Maker                  Model   Year Colour  \\\n",
       "0  VHL18518    Abuja     BMW                   323i  2,008  White   \n",
       "1  VHL17149    Lagos  Toyota                  Camry  2,013  White   \n",
       "2  VHL10927    Lagos  Toyota  Highlander Limited V6  2,005   Gold   \n",
       "3  VHL12909    Lagos  Toyota                  Camry  2,011   Gray   \n",
       "4  VHL12348    Lagos   Lexus             ES 350 FWD  2,013    Red   \n",
       "\n",
       "           Type  Distance  \n",
       "0  Foreign Used   30524.0  \n",
       "1  Foreign Used       NaN  \n",
       "2  Foreign Used       NaN  \n",
       "3  Foreign Used  166839.0  \n",
       "4  Foreign Used   88862.0  "
      ]
     },
     "execution_count": 6,
     "metadata": {},
     "output_type": "execute_result"
    }
   ],
   "source": [
    "test.head()"
   ]
  },
  {
   "cell_type": "code",
   "execution_count": 7,
   "metadata": {},
   "outputs": [
    {
     "data": {
      "text/html": [
       "<div>\n",
       "<style scoped>\n",
       "    .dataframe tbody tr th:only-of-type {\n",
       "        vertical-align: middle;\n",
       "    }\n",
       "\n",
       "    .dataframe tbody tr th {\n",
       "        vertical-align: top;\n",
       "    }\n",
       "\n",
       "    .dataframe thead th {\n",
       "        text-align: right;\n",
       "    }\n",
       "</style>\n",
       "<table border=\"1\" class=\"dataframe\">\n",
       "  <thead>\n",
       "    <tr style=\"text-align: right;\">\n",
       "      <th></th>\n",
       "      <th>VehicleID</th>\n",
       "      <th>Amount (Million Naira)</th>\n",
       "    </tr>\n",
       "  </thead>\n",
       "  <tbody>\n",
       "    <tr>\n",
       "      <th>0</th>\n",
       "      <td>VHL18518</td>\n",
       "      <td>1.0</td>\n",
       "    </tr>\n",
       "    <tr>\n",
       "      <th>1</th>\n",
       "      <td>VHL17149</td>\n",
       "      <td>1.0</td>\n",
       "    </tr>\n",
       "    <tr>\n",
       "      <th>2</th>\n",
       "      <td>VHL10927</td>\n",
       "      <td>1.0</td>\n",
       "    </tr>\n",
       "    <tr>\n",
       "      <th>3</th>\n",
       "      <td>VHL12909</td>\n",
       "      <td>1.0</td>\n",
       "    </tr>\n",
       "    <tr>\n",
       "      <th>4</th>\n",
       "      <td>VHL12348</td>\n",
       "      <td>1.0</td>\n",
       "    </tr>\n",
       "  </tbody>\n",
       "</table>\n",
       "</div>"
      ],
      "text/plain": [
       "  VehicleID  Amount (Million Naira)\n",
       "0  VHL18518                     1.0\n",
       "1  VHL17149                     1.0\n",
       "2  VHL10927                     1.0\n",
       "3  VHL12909                     1.0\n",
       "4  VHL12348                     1.0"
      ]
     },
     "execution_count": 7,
     "metadata": {},
     "output_type": "execute_result"
    }
   ],
   "source": [
    "sample_sub.head()"
   ]
  },
  {
   "cell_type": "code",
   "execution_count": 8,
   "metadata": {},
   "outputs": [
    {
     "name": "stdout",
     "output_type": "stream",
     "text": [
      "<class 'pandas.core.frame.DataFrame'>\n",
      "RangeIndex: 7205 entries, 0 to 7204\n",
      "Data columns (total 9 columns):\n",
      " #   Column                  Non-Null Count  Dtype  \n",
      "---  ------                  --------------  -----  \n",
      " 0   VehicleID               7205 non-null   object \n",
      " 1   Location                7205 non-null   object \n",
      " 2   Maker                   7205 non-null   object \n",
      " 3   Model                   7205 non-null   object \n",
      " 4   Year                    7184 non-null   object \n",
      " 5   Colour                  7205 non-null   object \n",
      " 6   Amount (Million Naira)  7188 non-null   float64\n",
      " 7   Type                    7008 non-null   object \n",
      " 8   Distance                4845 non-null   object \n",
      "dtypes: float64(1), object(8)\n",
      "memory usage: 506.7+ KB\n"
     ]
    }
   ],
   "source": [
    "train.info()"
   ]
  },
  {
   "cell_type": "code",
   "execution_count": 9,
   "metadata": {},
   "outputs": [
    {
     "name": "stdout",
     "output_type": "stream",
     "text": [
      "<class 'pandas.core.frame.DataFrame'>\n",
      "RangeIndex: 2061 entries, 0 to 2060\n",
      "Data columns (total 8 columns):\n",
      " #   Column     Non-Null Count  Dtype  \n",
      "---  ------     --------------  -----  \n",
      " 0   VehicleID  2061 non-null   object \n",
      " 1   Location   2061 non-null   object \n",
      " 2   Maker      2061 non-null   object \n",
      " 3   Model      2061 non-null   object \n",
      " 4   Year       2059 non-null   object \n",
      " 5   Colour     2061 non-null   object \n",
      " 6   Type       2007 non-null   object \n",
      " 7   Distance   1385 non-null   float64\n",
      "dtypes: float64(1), object(7)\n",
      "memory usage: 128.9+ KB\n"
     ]
    }
   ],
   "source": [
    "test.info()"
   ]
  },
  {
   "cell_type": "code",
   "execution_count": 10,
   "metadata": {},
   "outputs": [
    {
     "data": {
      "text/html": [
       "<div>\n",
       "<style scoped>\n",
       "    .dataframe tbody tr th:only-of-type {\n",
       "        vertical-align: middle;\n",
       "    }\n",
       "\n",
       "    .dataframe tbody tr th {\n",
       "        vertical-align: top;\n",
       "    }\n",
       "\n",
       "    .dataframe thead th {\n",
       "        text-align: right;\n",
       "    }\n",
       "</style>\n",
       "<table border=\"1\" class=\"dataframe\">\n",
       "  <thead>\n",
       "    <tr style=\"text-align: right;\">\n",
       "      <th></th>\n",
       "      <th>count</th>\n",
       "      <th>mean</th>\n",
       "      <th>std</th>\n",
       "      <th>min</th>\n",
       "      <th>25%</th>\n",
       "      <th>50%</th>\n",
       "      <th>75%</th>\n",
       "      <th>max</th>\n",
       "    </tr>\n",
       "  </thead>\n",
       "  <tbody>\n",
       "    <tr>\n",
       "      <th>Amount (Million Naira)</th>\n",
       "      <td>7188.0</td>\n",
       "      <td>11.847999</td>\n",
       "      <td>25.318922</td>\n",
       "      <td>0.45</td>\n",
       "      <td>3.5</td>\n",
       "      <td>5.65</td>\n",
       "      <td>11.6625</td>\n",
       "      <td>456.0</td>\n",
       "    </tr>\n",
       "  </tbody>\n",
       "</table>\n",
       "</div>"
      ],
      "text/plain": [
       "                         count       mean        std   min  25%   50%  \\\n",
       "Amount (Million Naira)  7188.0  11.847999  25.318922  0.45  3.5  5.65   \n",
       "\n",
       "                            75%    max  \n",
       "Amount (Million Naira)  11.6625  456.0  "
      ]
     },
     "execution_count": 10,
     "metadata": {},
     "output_type": "execute_result"
    }
   ],
   "source": [
    "train.describe().T"
   ]
  },
  {
   "cell_type": "code",
   "execution_count": 11,
   "metadata": {},
   "outputs": [
    {
     "name": "stdout",
     "output_type": "stream",
     "text": [
      "(7205, 9) (2061, 8)\n"
     ]
    }
   ],
   "source": [
    "print(train.shape, test.shape)"
   ]
  },
  {
   "cell_type": "code",
   "execution_count": 12,
   "metadata": {},
   "outputs": [
    {
     "name": "stdout",
     "output_type": "stream",
     "text": [
      "Train\n",
      "['Abuja' 'Ibadan' 'Lagos']\n",
      "3\n",
      "['Honda' 'Hyundai' 'Lexus' 'Mercedes-Benz' 'Toyota' 'Acura' 'Dodge'\n",
      " 'Nissan' 'Kia' 'BMW' 'Volvo' 'Ford' 'Land Rover' 'Lincoln' 'Peugeot'\n",
      " 'Chevrolet' 'Audi' 'Jaguar' 'Infiniti' 'Porsche' 'Fiat' 'Maserati'\n",
      " 'Volkswagen' 'Suzuki' 'Bentley' 'GAC' 'Mazda' 'Scion' 'Renault'\n",
      " 'Mitsubishi' 'Mini' 'Pontiac' 'Cadillac' 'Ferrari' 'Jeep' 'Buick'\n",
      " 'Rolls-Royce' 'GMC' 'Chrysler' 'Lamborghini' 'Citroen' 'King' 'BAW'\n",
      " 'Saturn' 'Tata' 'Opel' 'JAC' 'MG' 'Hummer' 'Subaru' 'Rover' 'Saab'\n",
      " 'Skoda' 'IVM' 'Brabus']\n",
      "55\n",
      "['Accord Coupe EX V-6' 'Sonata' 'RX 350' ... 'Almera 1.6 Lux'\n",
      " 'X5 3.0i Sports Activity' '320i SV Premium']\n",
      "1223\n",
      "['Silver' 'Red' 'Blue' 'Black' 'Gold' 'White' 'Gray' 'Burgandy' 'Green'\n",
      " 'Violet' 'Brown' 'Yellow' 'Orange' 'Pink' 'Beige' 'Purple' 'Ivory' 'G'\n",
      " 'Teal' 'Mica' 'Pearl']\n",
      "21\n",
      "['Nigerian Used' 'Foreign Used' 'Brand New' nan]\n",
      "4\n"
     ]
    }
   ],
   "source": [
    "# check unique values for categorical columns\n",
    "cat_feat = [\"Location\", \"Maker\", \"Model\", \"Colour\", \"Type\"]\n",
    "\n",
    "print(\"Train\")\n",
    "for col in cat_feat:\n",
    "    print(train[col].unique())\n",
    "    print(len(train[col].unique()))\n",
    "  \n",
    "\n",
    "# 'G' in train   "
   ]
  },
  {
   "cell_type": "code",
   "execution_count": 13,
   "metadata": {},
   "outputs": [
    {
     "name": "stdout",
     "output_type": "stream",
     "text": [
      "Test\n",
      "['Abuja' 'Lagos' 'Ibadan']\n",
      "3\n",
      "['BMW' 'Toyota' 'Lexus' 'Mercedes-Benz' 'Honda' 'Pontiac' 'Hyundai'\n",
      " 'Land Rover' 'Mitsubishi' 'Volkswagen' 'Acura' 'Mazda' 'Ford' 'Jaguar'\n",
      " 'Opel' 'Infiniti' 'Kia' 'Peugeot' 'Nissan' 'Chevrolet' 'Cadillac' 'Seat'\n",
      " 'Audi' 'Porsche' 'Dodge' 'GMC' 'Renault' 'Lincoln' 'Maserati' 'Chrysler'\n",
      " 'Fiat' 'Subaru' 'Mini' 'Scion' 'Buick' 'Rolls-Royce' 'Volvo' 'Jeep'\n",
      " 'Lamborghini' 'Brabus']\n",
      "40\n",
      "['323i' 'Camry' 'Highlander Limited V6' 'ES 350 FWD' 'GLE-Class'\n",
      " 'Sienna LE 4dr' 'ES 350' 'CR-V' 'RAV4 XLE FWD' 'RX' 'Sequoia'\n",
      " '4-Runner Limited' 'Corolla LE' 'Accord' 'Highlander SE' 'Vibe AWD'\n",
      " 'RX 350 F Sport FWD' 'Creta' 'Range Rover Vogue' 'E320'\n",
      " 'Land Cruiser Prado' 'Sonata' 'Sienna' '4-Runner Limited 4WD' 'C300'\n",
      " 'E350' 'L200 Double Cab 2.5 136hp' 'Avalon XLE Plus (3.5L 6cyl 6A)'\n",
      " '4-Runner' 'RX 330' 'Touareg' 'GX 460 Base' 'GL-Class' 'M Class'\n",
      " 'M Class ML 350 4Matic' 'GLK-Class' 'ES' 'Corolla' 'TLX' 'LX 570 Base'\n",
      " 'Hilux' 'RX 350' 'IS 350' 'Premacy' 'Venza XLE AWD V6' 'RX 350 AWD'\n",
      " 'E300' 'Edge SE 4dr FWD (3.5L 6cyl 6A)' 'Corolla CE' 'Venza AWD' 'Xj'\n",
      " 'Zafira' 'Highlander 3' 'Camry SE FWD (2.5L 4cyl 8AM)' 'X5 3.0i'\n",
      " 'Genesis' 'RVR' 'X3 xDrive30i AWD' 'Highlander XLE V6 4x2 (3.5L 6cyl 6A)'\n",
      " 'RX 300' 'Venza' 'GX 460' 'EX 35' 'S-Class S 63 AMG 4MATIC (W222)'\n",
      " 'C-Class C 350 (S204)' 'Venza V6' 'S-Class' 'Sienna LE AWD'\n",
      " 'Highlander Limited 3.5L 2WD' 'Santa Fe GLS' 'Sharan Automatic'\n",
      " 'MDX Base SH-AWD' 'Kia Sorento' 'Civic LX Sedan'\n",
      " 'Range Rover Sport HSE Lux' 'Santa Fe' 'Corolla 1.4 Advanced'\n",
      " 'Tacoma 4x4 Access Cab' 'CLA-Class' 'LX 570 AWD' 'GX 470 Sport Utility'\n",
      " '407 2 HDi FAP Esplanade' 'X6' 'Explorer' 'GLS-Class GLS550 4Matic'\n",
      " '4-Runner Limited 4x4' 'Avensis 2 Advanced Automatic' 'Hilux SR 4x4'\n",
      " 'Land Cruiser Prado 3 D-4D 3dr' 'Rover LR3 SE' 'Sonata 2.4 Automatic'\n",
      " 'Golf' 'Highlander Limited FWD' 'C-Class C 450 AMG 4MATIC (S205)'\n",
      " 'RAV4 Automatic' 'Land Cruiser Prado 3 190hp' 'GL Class' 'F-150' 'Tacoma'\n",
      " 'RAV4' 'NX' 'LX 570 (5 Seats) AWD' 'Fusion' 'Hilux 2 VVT-i SRX'\n",
      " 'Highlander XLE 4x4 V6 (3.5L 6cyl 8A)' 'GS'\n",
      " 'Tacoma Regular Cab Automatic' 'RX 350 XE 4x4' 'Ix35' '6 Series'\n",
      " 'GLC-Class' 'Outlander' 'GLS-Class GLS350d 4Matic' 'LX' 'Tundra'\n",
      " 'Civic Sedan EX Automatic' 'GLK-Class 350 4MATIC' 'Previa'\n",
      " 'GX 460 Luxury' 'E550' '4-Runner Limited V6 4x4' 'Sienna LE 7 Passenger'\n",
      " 'Highlander' 'IS' 'RX 350 FWD' 'Versa' 'Escape XLS Automatic'\n",
      " 'Sorento 3.3L SXL FWD' 'Accord Automatic' 'Land Cruiser 5.7 V8 VXR'\n",
      " 'Highlander 3.5L 4WD' 'LX 570' 'CR-V 2.4 EX 4x4 Automatic'\n",
      " 'Corolla LE Eco (1.8L 4cyl 2A)' 'RAV4 XLE AWD' 'Vibe' 'Elantra'\n",
      " 'Element EX 4WD' 'Avalon Touring' 'Sienna XLE' 'Highlander Limited' 'GX'\n",
      " 'RAV4 2.4' 'MDX' 'Sunny' 'C350' 'Camaro LS Coupe' 'Avalon' 'Land Cruiser'\n",
      " 'GLS-Class GLS450 4MATIC' 'Shuttle 2.2 2WD' 'Corolla 1.8 VVTL-i TS'\n",
      " 'G-Class G 63 AMG 4MATIC' 'Edge' 'ES 330 Sedan' '508'\n",
      " 'RAV4 XLE AWD (2.5L 4cyl 6A)' 'Cadillac Escalade Matt' 'GL-Class GL 450'\n",
      " 'S-Class S 550' 'CR-V EX AWD' 'Corolla SE (1.8L 4cyl 6M)' 'IS 250'\n",
      " 'Ibiza' 'Sienna XLE Limited FWD' 'Cerato' 'Tacoma Double Cab V6 4WD'\n",
      " 'Elantra GLS Automatic' 'RX 300 4WD' 'Highlander Limited V6 FWD' 'Civic'\n",
      " 'ES 300' 'RC 350 AWD' 'RAV4 2.5 Sport' 'IS 250 AWD Automatic'\n",
      " 'A4 2.0T Premium Quattro' 'RAV4 1.8' 'Venza V6 AWD' 'X6 xDrive35i AWD'\n",
      " 'Matrix' 'S-Class Maybach S 560 (X222)' 'Avalon 3' 'C-Hr XLE FWD'\n",
      " 'Venza Limited AWD V6' 'E63' 'Sentra' 'I8 1.5 Roadster' 'ES 330'\n",
      " 'Civic 1.8 5 Door Automatic' 'Corolla Sedan Automatic'\n",
      " 'RX 350L Luxury AWD' 'Camry XLE V6 (3.5L V6 8A)' 'Cayenne' 'RAV4 2 4x4'\n",
      " 'Camaro' 'Tacoma Double Cab V6 Automatic' 'Tacoma 4x4 Double Cab'\n",
      " 'Passat 2 Sedan' 'Pilot EX 4x2 (3.5L 6cyl 5A)' 'Highlander Base AWD'\n",
      " 'Charger RT' 'Rover Lr3 V6' 'Tacoma Double Cab V6' 'Sportage 2 L 4WD'\n",
      " 'Accord 3.5 EX-L Automatic' 'Tacoma Access Cab'\n",
      " 'Sienna XLE FWD (3.3L V6 5A)' 'CLS 55 AMG' 'Rover Discovery'\n",
      " 'Tribute i 4WD Automatic' 'Accent' 'Highlander Sport' 'Avensis 2 D Verso'\n",
      " 'GX 470' 'Solara 3 Convertible' 'Sienna LE' 'BMW 116i'\n",
      " 'RAV4 2.5 Limited 4x4' 'Camry LE FWD (2.5L 4cyl 8AM)' 'GLK-Class 350'\n",
      " 'Range Rover Evoque Off' 'RX 330 4WD' 'RAV4 Limited V6 4x4' 'QX56'\n",
      " 'Pilot' 'Land Cruiser Prado 2.7' '528i' 'Focus 1.8 TDDi Viva' '3 Series'\n",
      " 'M3' '5' 'Civic 1.6i ES Automatic' 'Tundra Double Cab 4x4 Limited'\n",
      " 'Land Cruiser Prado 4' 'Range Rover Velar P380 SE R-Dynamic 4x4'\n",
      " 'M Class ML 320' 'Pick-Up' 'A5' 'E430' 'CX-9' '330i' 'RAV4 Limited 4x4'\n",
      " 'Odyssey 2.4 Absolute 4WD' 'Rio' 'Rav4' 'Highlander XLE FWD' 'CLS'\n",
      " 'Highlander Limited V6 4x4' 'GL Class GL 450' 'Sienna LE FWD'\n",
      " 'CX-9 Grand Touring' 'Range Rover Sport'\n",
      " 'Land Cruiser Prado 4 V6 Dual VVT-i' 'IS 250 4WD' 'X5'\n",
      " 'Land Cruiser 4.5 V8 VXR' 'MDX SUV 4dr AWD (3.7 6cyl 5A)'\n",
      " 'Corolla 1.6 VVT-i Sol' 'Range Rover' 'Hilux 2 VVT-i' 'NX 200t FWD'\n",
      " '6 Wagon' 'CX-9 Touring AWD' 'Jetta' '328i' 'GS 300 Automatic'\n",
      " 'Pathfinder' 'Ridgeline' 'Hilux 2.8 Diesel' 'Highlander V6'\n",
      " 'Tundra 4x4 SR5 Access Cab' '7 Series' 'C230' 'M Class ML 350 TEC 4Matic'\n",
      " 'R Class' 'Accent SE' 'E-350' 'Accord Sedan EX-L'\n",
      " 'Camry XSE V6 (3.5L V6 8A)' 'IS 350 RWD' 'GLA 250'\n",
      " 'Highlander Limited 3.5l 4WD' 'RX 350 2WD' 'Escape' 'NX 200 FWD' 'TL'\n",
      " 'Hilux SR5+ 4x4' 'Tacoma Access Cab I4 AWD' 'Accord EX V6 Automatic'\n",
      " 'Land Cruiser Prado GX' 'XF Premium' 'RAV4 2.5' 'Veloster' 'G-Class'\n",
      " 'RX 350L 4WD' 'CC' 'RX 400h AWD' '530i' 'Soul' '307' 'RX 350 4WD'\n",
      " 'Veracruz' 'MDX 4dr SUV (3.5L 6cyl 6A)' 'GMC Terrain'\n",
      " 'Camry SE (2.5L 4cyl 8A)' '206 1.4 D' 'Accord Sedan EX Automatic'\n",
      " 'Touran' 'ES 350 Ultra Luxury FWD' 'Venza LE AWD' 'CR-V EX 4WD Automatic'\n",
      " 'Accord 2.4 Exec Automatic' 'Altima' '406' 'RX 350 4x4' 'Sienna CE'\n",
      " 'Edge SE 4dr AWD (2.0L 4cyl 6A)' 'Forte EX'\n",
      " 'Golf 1.6 Comfortline Automatic' 'Sonic LS'\n",
      " 'Pilot EX 4dr SUV (3.5L 6cyl 5A)' 'F-150 FX2' 'RAV4 LE AWD'\n",
      " '6 3.0s Sport Wagon Touring' 'Galaxy 1.9 TDI Trend' 'Avalon XLS'\n",
      " 'Pathfinder Automatic' 'Hilux 2.7 VVT-i 4X4 SRX' 'Duster'\n",
      " 'Sienna LE FWD 8-Passenger' 'Beetle 2 Highline Automatic'\n",
      " 'Tacoma X-Runner V6' 'CR-V EX Automatic' '6' 'X-Trail Automatic' 'C450'\n",
      " 'Avensis' 'Pilot LX 4dr SUV (3.5L 6cyl 5A)' 'NX 200t AWD' 'Xterra SE'\n",
      " 'IS 250 AWD' 'S Class' '626' 'Caliber 1.8' 'Land Cruiser J300 4'\n",
      " 'Range Rover Evoque Pure Plus AWD' 'GX 460 Premium' 'Lincoln Navigator'\n",
      " 'Accord 2.4' 'HiAce' 'Jetta 2.5 SEL' '407 2 Esplanade' 'GLA-Class'\n",
      " 'Crown Royale' 'Accord Crosstour' 'Sienna CE AWD' 'Sienna LE 8 Passenger'\n",
      " 'Venza XLE AWD' 'Land Cruiser Prado 2.7 VVT-i' 'LS 460' 'Taurus'\n",
      " 'Range Rover Velar' 'GLS-Class GLS450 4Matic' 'LS 460 Luxury Sedan'\n",
      " 'Tundra Double Cab' 'Ghibli' 'Gx300' '335i' 'Camry 2.4 LE' 'Focus' '450'\n",
      " 'Passat' 'RX 350 F Sport AWD' 'C400' 'Highlander Limited V6 AWD'\n",
      " 'Caravan' 'ES 350 Crafted Line FWD' 'Sorento' 'Range Rover Evoque Matt'\n",
      " 'Camry 2.3 Hybrid' 'X3' 'C-Hr' 'X-Trail 2.5 4x4' 'Jetta 2.0T Sedan'\n",
      " 'ZDX Base AWD' 'MDX Tech & A-Spec Pkgs SH-AWD' 'Corolla 1.6 VVT-i'\n",
      " 'RAV4 XLE FWD (2.5L 4cyl 6A)' 'Camry Off' 'Accord 2.2 DTEC Estate'\n",
      " 'Land Cruiser Prado 4 I' 'Tacoma Access Cab V6 Automatic'\n",
      " '300 Limited RWD' 'Tacoma SR5' 'A8 4.2 Quattro'\n",
      " '4-Runner SR5 4x4 Premium' '300 Touring RWD 3.5'\n",
      " 'Corolla SE (1.8L 4cyl 2A)' 'Corolla 1.8' 'Camry 2.4 SE'\n",
      " 'Hilux 2.5 D-4d SRX' 'Highlander 4x4' 'Sienna XLE 8 Passenger' 'Ducato'\n",
      " 'Caravan Cargo Van' 'Land Cruiser 5.7 V8' 'X3 xDrive 30i' 'Venza LE FWD'\n",
      " 'E400' 'SC Cabriolet' 'A-Class' 'Corolla LE (1.8L 4cyl 2A)'\n",
      " 'Camry Hybrid' 'Avensis 1.6 VVT-i' 'Accord 2.0i Automatic'\n",
      " 'Rogue S Krom Edition' 'Montero 3.5 AWD' 'S-Class S 450 4MATIC (W221)'\n",
      " 'Camry Automatic' 'Vibe 1.8L' 'A6' 'Impreza' 'X1 xDrive28i AWD'\n",
      " 'Range Rover Evoque' 'GLE-Class Matt' 'Almera' 'Optima' 'Highlander XLE'\n",
      " 'Veloster Automatic' '4-Runner Limited 4X4' 'Rover Freelander' 'MKX'\n",
      " 'Golf GTI 2.0T SE' '406 2 HDi ST' 'GS 300 AWD' 'Vibe Automatic' 'Z4'\n",
      " 'RAV4 V6' 'Cooper' 'xD Base' 'C320' 'Enclave CXL AWD'\n",
      " 'Edge Sport 4dr AWD' 'RAV4 Limited' 'Camry XLE FWD (2.5L 4cyl 8AM)' 'X1'\n",
      " 'Rolls-Royce Cullinan Base' '206' 'Corolla Matt' 'Highlander Limited AWD'\n",
      " 'Previa 2.4 Sol' 'A4' 'Land Cruiser 4.5 V8 GXR' 'TT' 'XC90 4.4 Exec 4WD'\n",
      " 'Liberty' 'Venture' 'Yaris Sedan Automatic' 'CR-V LX AWD' 'Sharan 1.8 T'\n",
      " 'Land Cruiser 4 V6 GX-R' 'Honda CR-V Touring AWD' 'Frontier'\n",
      " 'Zafira 1.8 Automatic' 'E500' 'Hilux 2.7 VVTi 4x4 SRX' 'Odyssey EX-L'\n",
      " 'Hilux SR5 4x4' 'X1 xDrive28i' 'QX80' 'SLK Class'\n",
      " 'Land Cruiser 5.7 V8 VX-S' 'Sienna XLE 7 Passenger' 'F-Pace 25t AWD'\n",
      " 'Cooper S' 'Altima Automatic' 'Venza LE AWD V6' 'Qashqai' 'XC90 3.2'\n",
      " '407 2 ST Comfort' 'Range Rover Velar P380 HSE R-Dynamic 4x4' 'Mkx'\n",
      " 'Vibe 2.4 4WD' 'MKS EcoBoost' 'Solara' 'GLS-Class GLS63 AMG Base'\n",
      " 'Lamborghini Huracan Evo' 'RAV4 3.5 4x4' 'Civic LX Hatchback'\n",
      " 'Santa Fe 2.7 Automatic' 'Corolla Verso 1.8'\n",
      " 'RAV4 LE 4dr SUV (2.5L 4cyl 6A)' 'Highlander Base FWD' 'Odyssey 2.4 4WD'\n",
      " 'Accord Sedan LX' 'Land Rover Discovery' 'Brabus Rocket 900'\n",
      " 'Solara 2.2 Coupe' 'Sentra 2 SL' 'Gs' 'Sienna LE FWD (3.3L V6 5A)'\n",
      " 'Corolla Sedan' 'LX 470 AWD' 'Harrier' 'Escape Off' 'A6 3.2'\n",
      " 'Previa 2.4 GL 7-Seater' 'XJ' 'Land Cruiser 4 V6 GXR' 'Pajero'\n",
      " 'MDX W/Advance Pkg SH-AWD' 'GX 460 Premium Matt' 'ES 350 Luxury'\n",
      " 'Avensis Liftback' '407 2 Automatic' '408' 'S-Class Matt' 'RX 400h'\n",
      " '4-Runner SR5 4x4' 'RAV4 2 VVT-i' 'Beetle 2.5L'\n",
      " 'Corolla XSE (1.8L 4cyl 2A)' '4-Runner Limited V6'\n",
      " 'Pilot EX 4x4 (3.5L 6cyl 5A)' 'A8 L 4.2 Quattro' 'Camry 2.4 SE Automatic'\n",
      " 'RAV4 3.5 Sport 4x4' 'Tundra Automatic' 'Civic EX Sedan' '540i' '407'\n",
      " 'Land Cruiser 4x4' 'CL' 'Beetle' 'RAV4 XLE Premium AWD' 'Camry XLE FWD'\n",
      " 'FR-S 10 Series' 'Pathfinder Platinum 4x4' 'Avalon Limited'\n",
      " 'Land Cruiser 4.6 V8 GXR' 'Caliber 1.8 L SE' 'Accord Sedan EX'\n",
      " 'Matrix Hatchback 1.8 16V AWD' 'Solara 3.3 Convertible'\n",
      " 'LX 570 Three-Row' '230E' 'SLK-Class' 'RX 300 2WD' 'Camry LE FWD'\n",
      " 'Land Cruiser Prado 3 D-4d (190 Hp)' 'Range Rover Velar P340 S 4x4'\n",
      " 'Endeavor SE' 'Escape S 4dr SUV (2.5L 4cyl 6A)' 'Accord 2.4 EX' 'Micra'\n",
      " 'RAV4 LE FWD (2.5L 4cyl 6A)' 'X3 xDrive28i' 'Tacoma PreRunner'\n",
      " '6 2.5i Sport' 'C180' 'Titan' '4-Runner SR5' 'HS 250h' 'Tucson'\n",
      " 'Avalon XLS Buckets' 'ES 330 Off' 'TL Automatic' 'RAV4 Limited V6'\n",
      " 'BMW 7 Series' 'Accord 2.4 Executive' 'RX 330 AWD' 'Malibu LS'\n",
      " 'RX 350 F SPORT AWD' '6 2 MZR Automatic' 'Cube 1.8 S CVT'\n",
      " '4-Runner Trail' 'C250' 'Accord Coupe 3.5 EX-L V6' 'Highlander Sport 4x4'\n",
      " '308 CC 1.6' 'Land Cruiser Prado GXL' 'Q7' 'Tacoma TRD Off Road'\n",
      " 'Charger' 'Q5' 'IS 350 AWD' 'Torrent']\n",
      "587\n",
      "['White' 'Gold' 'Gray' 'Red' 'Black' 'Blue' 'Silver' 'Brown' 'Green'\n",
      " 'Purple' 'Beige' 'Burgandy' 'Auto' 'Cream' 'Pink' 'Yellow' 'V' 'Teal']\n",
      "18\n",
      "['Foreign Used' 'Nigerian Used' 'Brand New' nan]\n",
      "4\n"
     ]
    }
   ],
   "source": [
    "print(\"Test\")  \n",
    "for col in cat_feat:\n",
    "    print(test[col].unique())\n",
    "    print(len(test[col].unique()))\n",
    "    \n",
    "# 'V' in colours "
   ]
  },
  {
   "cell_type": "code",
   "execution_count": 14,
   "metadata": {},
   "outputs": [],
   "source": [
    "train.drop([\"Model\", \"VehicleID\"], axis=1, inplace=True)\n",
    "test.drop([\"Model\", \"VehicleID\"], axis=1, inplace=True)"
   ]
  },
  {
   "cell_type": "code",
   "execution_count": 15,
   "metadata": {},
   "outputs": [
    {
     "data": {
      "text/html": [
       "<div>\n",
       "<style scoped>\n",
       "    .dataframe tbody tr th:only-of-type {\n",
       "        vertical-align: middle;\n",
       "    }\n",
       "\n",
       "    .dataframe tbody tr th {\n",
       "        vertical-align: top;\n",
       "    }\n",
       "\n",
       "    .dataframe thead th {\n",
       "        text-align: right;\n",
       "    }\n",
       "</style>\n",
       "<table border=\"1\" class=\"dataframe\">\n",
       "  <thead>\n",
       "    <tr style=\"text-align: right;\">\n",
       "      <th></th>\n",
       "      <th>Location</th>\n",
       "      <th>Maker</th>\n",
       "      <th>Year</th>\n",
       "      <th>Colour</th>\n",
       "      <th>Amount (Million Naira)</th>\n",
       "      <th>Type</th>\n",
       "      <th>Distance</th>\n",
       "    </tr>\n",
       "  </thead>\n",
       "  <tbody>\n",
       "    <tr>\n",
       "      <th>4159</th>\n",
       "      <td>Lagos</td>\n",
       "      <td>Lexus</td>\n",
       "      <td>2,015</td>\n",
       "      <td>Gold</td>\n",
       "      <td>11.70</td>\n",
       "      <td>Foreign Used</td>\n",
       "      <td>89,555</td>\n",
       "    </tr>\n",
       "    <tr>\n",
       "      <th>2282</th>\n",
       "      <td>Abuja</td>\n",
       "      <td>Toyota</td>\n",
       "      <td>2,004</td>\n",
       "      <td>Green</td>\n",
       "      <td>1.60</td>\n",
       "      <td>Nigerian Used</td>\n",
       "      <td>NaN</td>\n",
       "    </tr>\n",
       "    <tr>\n",
       "      <th>1072</th>\n",
       "      <td>Lagos</td>\n",
       "      <td>Lexus</td>\n",
       "      <td>2,010</td>\n",
       "      <td>White</td>\n",
       "      <td>9.60</td>\n",
       "      <td>Foreign Used</td>\n",
       "      <td>71,224</td>\n",
       "    </tr>\n",
       "    <tr>\n",
       "      <th>4572</th>\n",
       "      <td>Lagos</td>\n",
       "      <td>Toyota</td>\n",
       "      <td>2,014</td>\n",
       "      <td>Gray</td>\n",
       "      <td>17.50</td>\n",
       "      <td>Foreign Used</td>\n",
       "      <td>NaN</td>\n",
       "    </tr>\n",
       "    <tr>\n",
       "      <th>3224</th>\n",
       "      <td>Lagos</td>\n",
       "      <td>Toyota</td>\n",
       "      <td>2,008</td>\n",
       "      <td>Black</td>\n",
       "      <td>4.61</td>\n",
       "      <td>Nigerian Used</td>\n",
       "      <td>105,274</td>\n",
       "    </tr>\n",
       "  </tbody>\n",
       "</table>\n",
       "</div>"
      ],
      "text/plain": [
       "     Location   Maker   Year Colour  Amount (Million Naira)           Type  \\\n",
       "4159    Lagos   Lexus  2,015   Gold                   11.70   Foreign Used   \n",
       "2282    Abuja  Toyota  2,004  Green                    1.60  Nigerian Used   \n",
       "1072    Lagos   Lexus  2,010  White                    9.60   Foreign Used   \n",
       "4572    Lagos  Toyota  2,014   Gray                   17.50   Foreign Used   \n",
       "3224    Lagos  Toyota  2,008  Black                    4.61  Nigerian Used   \n",
       "\n",
       "     Distance  \n",
       "4159   89,555  \n",
       "2282      NaN  \n",
       "1072   71,224  \n",
       "4572      NaN  \n",
       "3224  105,274  "
      ]
     },
     "execution_count": 15,
     "metadata": {},
     "output_type": "execute_result"
    }
   ],
   "source": [
    "train.sample(5)"
   ]
  },
  {
   "cell_type": "code",
   "execution_count": 16,
   "metadata": {},
   "outputs": [
    {
     "data": {
      "text/html": [
       "<div>\n",
       "<style scoped>\n",
       "    .dataframe tbody tr th:only-of-type {\n",
       "        vertical-align: middle;\n",
       "    }\n",
       "\n",
       "    .dataframe tbody tr th {\n",
       "        vertical-align: top;\n",
       "    }\n",
       "\n",
       "    .dataframe thead th {\n",
       "        text-align: right;\n",
       "    }\n",
       "</style>\n",
       "<table border=\"1\" class=\"dataframe\">\n",
       "  <thead>\n",
       "    <tr style=\"text-align: right;\">\n",
       "      <th></th>\n",
       "      <th>Location</th>\n",
       "      <th>Maker</th>\n",
       "      <th>Year</th>\n",
       "      <th>Colour</th>\n",
       "      <th>Amount (Million Naira)</th>\n",
       "      <th>Type</th>\n",
       "      <th>Distance</th>\n",
       "    </tr>\n",
       "  </thead>\n",
       "  <tbody>\n",
       "    <tr>\n",
       "      <th>3266</th>\n",
       "      <td>Lagos</td>\n",
       "      <td>Toyota</td>\n",
       "      <td>2,014</td>\n",
       "      <td>G</td>\n",
       "      <td>15.0</td>\n",
       "      <td>Nigerian Used</td>\n",
       "      <td>35,000</td>\n",
       "    </tr>\n",
       "  </tbody>\n",
       "</table>\n",
       "</div>"
      ],
      "text/plain": [
       "     Location   Maker   Year Colour  Amount (Million Naira)           Type  \\\n",
       "3266    Lagos  Toyota  2,014      G                    15.0  Nigerian Used   \n",
       "\n",
       "     Distance  \n",
       "3266   35,000  "
      ]
     },
     "execution_count": 16,
     "metadata": {},
     "output_type": "execute_result"
    }
   ],
   "source": [
    "train[train[\"Colour\"] == 'G']"
   ]
  },
  {
   "cell_type": "code",
   "execution_count": 17,
   "metadata": {},
   "outputs": [
    {
     "data": {
      "text/html": [
       "<div>\n",
       "<style scoped>\n",
       "    .dataframe tbody tr th:only-of-type {\n",
       "        vertical-align: middle;\n",
       "    }\n",
       "\n",
       "    .dataframe tbody tr th {\n",
       "        vertical-align: top;\n",
       "    }\n",
       "\n",
       "    .dataframe thead th {\n",
       "        text-align: right;\n",
       "    }\n",
       "</style>\n",
       "<table border=\"1\" class=\"dataframe\">\n",
       "  <thead>\n",
       "    <tr style=\"text-align: right;\">\n",
       "      <th></th>\n",
       "      <th>Location</th>\n",
       "      <th>Maker</th>\n",
       "      <th>Year</th>\n",
       "      <th>Colour</th>\n",
       "      <th>Type</th>\n",
       "      <th>Distance</th>\n",
       "    </tr>\n",
       "  </thead>\n",
       "  <tbody>\n",
       "    <tr>\n",
       "      <th>1753</th>\n",
       "      <td>Abuja</td>\n",
       "      <td>Toyota</td>\n",
       "      <td>2,009</td>\n",
       "      <td>V</td>\n",
       "      <td>Nigerian Used</td>\n",
       "      <td>NaN</td>\n",
       "    </tr>\n",
       "  </tbody>\n",
       "</table>\n",
       "</div>"
      ],
      "text/plain": [
       "     Location   Maker   Year Colour           Type  Distance\n",
       "1753    Abuja  Toyota  2,009      V  Nigerian Used       NaN"
      ]
     },
     "execution_count": 17,
     "metadata": {},
     "output_type": "execute_result"
    }
   ],
   "source": [
    "test[test[\"Colour\"] == 'V']"
   ]
  },
  {
   "cell_type": "code",
   "execution_count": 18,
   "metadata": {},
   "outputs": [],
   "source": [
    "# train_1 = train.copy()\n",
    "# train_1.drop(3266, axis=0, inplace=True)"
   ]
  },
  {
   "cell_type": "code",
   "execution_count": 19,
   "metadata": {},
   "outputs": [],
   "source": [
    "train[\"Colour\"].replace('G', np.nan, inplace=True)"
   ]
  },
  {
   "cell_type": "code",
   "execution_count": 20,
   "metadata": {},
   "outputs": [],
   "source": [
    "test[\"Colour\"].replace('V', np.nan, inplace=True)"
   ]
  },
  {
   "cell_type": "code",
   "execution_count": 21,
   "metadata": {},
   "outputs": [
    {
     "data": {
      "text/plain": [
       "Location                     0\n",
       "Maker                        0\n",
       "Year                        21\n",
       "Colour                       1\n",
       "Amount (Million Naira)      17\n",
       "Type                       197\n",
       "Distance                  2360\n",
       "dtype: int64"
      ]
     },
     "execution_count": 21,
     "metadata": {},
     "output_type": "execute_result"
    }
   ],
   "source": [
    "train.isna().sum()"
   ]
  },
  {
   "cell_type": "code",
   "execution_count": 22,
   "metadata": {},
   "outputs": [
    {
     "data": {
      "text/plain": [
       "Location      0\n",
       "Maker         0\n",
       "Year          2\n",
       "Colour        1\n",
       "Type         54\n",
       "Distance    676\n",
       "dtype: int64"
      ]
     },
     "execution_count": 22,
     "metadata": {},
     "output_type": "execute_result"
    }
   ],
   "source": [
    "test.isna().sum() "
   ]
  },
  {
   "cell_type": "code",
   "execution_count": 23,
   "metadata": {},
   "outputs": [
    {
     "data": {
      "text/html": [
       "<div>\n",
       "<style scoped>\n",
       "    .dataframe tbody tr th:only-of-type {\n",
       "        vertical-align: middle;\n",
       "    }\n",
       "\n",
       "    .dataframe tbody tr th {\n",
       "        vertical-align: top;\n",
       "    }\n",
       "\n",
       "    .dataframe thead th {\n",
       "        text-align: right;\n",
       "    }\n",
       "</style>\n",
       "<table border=\"1\" class=\"dataframe\">\n",
       "  <thead>\n",
       "    <tr style=\"text-align: right;\">\n",
       "      <th></th>\n",
       "      <th>Location</th>\n",
       "      <th>Maker</th>\n",
       "      <th>Year</th>\n",
       "      <th>Colour</th>\n",
       "      <th>Amount (Million Naira)</th>\n",
       "      <th>Type</th>\n",
       "      <th>Distance</th>\n",
       "    </tr>\n",
       "  </thead>\n",
       "  <tbody>\n",
       "    <tr>\n",
       "      <th>0</th>\n",
       "      <td>Abuja</td>\n",
       "      <td>Honda</td>\n",
       "      <td>2011</td>\n",
       "      <td>Silver</td>\n",
       "      <td>2.2</td>\n",
       "      <td>Nigerian Used</td>\n",
       "      <td>NaN</td>\n",
       "    </tr>\n",
       "    <tr>\n",
       "      <th>1</th>\n",
       "      <td>Ibadan</td>\n",
       "      <td>Hyundai</td>\n",
       "      <td>2012</td>\n",
       "      <td>Silver</td>\n",
       "      <td>3.5</td>\n",
       "      <td>Nigerian Used</td>\n",
       "      <td>125,000</td>\n",
       "    </tr>\n",
       "    <tr>\n",
       "      <th>2</th>\n",
       "      <td>Lagos</td>\n",
       "      <td>Lexus</td>\n",
       "      <td>2010</td>\n",
       "      <td>Red</td>\n",
       "      <td>9.2</td>\n",
       "      <td>Foreign Used</td>\n",
       "      <td>110,852</td>\n",
       "    </tr>\n",
       "    <tr>\n",
       "      <th>3</th>\n",
       "      <td>Abuja</td>\n",
       "      <td>Mercedes-Benz</td>\n",
       "      <td>2017</td>\n",
       "      <td>Blue</td>\n",
       "      <td>22.8</td>\n",
       "      <td>Foreign Used</td>\n",
       "      <td>30,000</td>\n",
       "    </tr>\n",
       "    <tr>\n",
       "      <th>4</th>\n",
       "      <td>Ibadan</td>\n",
       "      <td>Toyota</td>\n",
       "      <td>2002</td>\n",
       "      <td>Red</td>\n",
       "      <td>2.6</td>\n",
       "      <td>Nigerian Used</td>\n",
       "      <td>125,206</td>\n",
       "    </tr>\n",
       "  </tbody>\n",
       "</table>\n",
       "</div>"
      ],
      "text/plain": [
       "  Location          Maker  Year  Colour  Amount (Million Naira)  \\\n",
       "0    Abuja          Honda  2011  Silver                     2.2   \n",
       "1   Ibadan        Hyundai  2012  Silver                     3.5   \n",
       "2    Lagos          Lexus  2010     Red                     9.2   \n",
       "3    Abuja  Mercedes-Benz  2017    Blue                    22.8   \n",
       "4   Ibadan         Toyota  2002     Red                     2.6   \n",
       "\n",
       "            Type Distance  \n",
       "0  Nigerian Used      NaN  \n",
       "1  Nigerian Used  125,000  \n",
       "2   Foreign Used  110,852  \n",
       "3   Foreign Used   30,000  \n",
       "4  Nigerian Used  125,206  "
      ]
     },
     "execution_count": 23,
     "metadata": {},
     "output_type": "execute_result"
    }
   ],
   "source": [
    "train[\"Year\"] = train[\"Year\"].str.replace(\",\", \"\")\n",
    "train.head()"
   ]
  },
  {
   "cell_type": "code",
   "execution_count": 24,
   "metadata": {},
   "outputs": [
    {
     "data": {
      "text/html": [
       "<div>\n",
       "<style scoped>\n",
       "    .dataframe tbody tr th:only-of-type {\n",
       "        vertical-align: middle;\n",
       "    }\n",
       "\n",
       "    .dataframe tbody tr th {\n",
       "        vertical-align: top;\n",
       "    }\n",
       "\n",
       "    .dataframe thead th {\n",
       "        text-align: right;\n",
       "    }\n",
       "</style>\n",
       "<table border=\"1\" class=\"dataframe\">\n",
       "  <thead>\n",
       "    <tr style=\"text-align: right;\">\n",
       "      <th></th>\n",
       "      <th>Location</th>\n",
       "      <th>Maker</th>\n",
       "      <th>Year</th>\n",
       "      <th>Colour</th>\n",
       "      <th>Type</th>\n",
       "      <th>Distance</th>\n",
       "    </tr>\n",
       "  </thead>\n",
       "  <tbody>\n",
       "    <tr>\n",
       "      <th>0</th>\n",
       "      <td>Abuja</td>\n",
       "      <td>BMW</td>\n",
       "      <td>2008</td>\n",
       "      <td>White</td>\n",
       "      <td>Foreign Used</td>\n",
       "      <td>30524.0</td>\n",
       "    </tr>\n",
       "    <tr>\n",
       "      <th>1</th>\n",
       "      <td>Lagos</td>\n",
       "      <td>Toyota</td>\n",
       "      <td>2013</td>\n",
       "      <td>White</td>\n",
       "      <td>Foreign Used</td>\n",
       "      <td>NaN</td>\n",
       "    </tr>\n",
       "    <tr>\n",
       "      <th>2</th>\n",
       "      <td>Lagos</td>\n",
       "      <td>Toyota</td>\n",
       "      <td>2005</td>\n",
       "      <td>Gold</td>\n",
       "      <td>Foreign Used</td>\n",
       "      <td>NaN</td>\n",
       "    </tr>\n",
       "    <tr>\n",
       "      <th>3</th>\n",
       "      <td>Lagos</td>\n",
       "      <td>Toyota</td>\n",
       "      <td>2011</td>\n",
       "      <td>Gray</td>\n",
       "      <td>Foreign Used</td>\n",
       "      <td>166839.0</td>\n",
       "    </tr>\n",
       "    <tr>\n",
       "      <th>4</th>\n",
       "      <td>Lagos</td>\n",
       "      <td>Lexus</td>\n",
       "      <td>2013</td>\n",
       "      <td>Red</td>\n",
       "      <td>Foreign Used</td>\n",
       "      <td>88862.0</td>\n",
       "    </tr>\n",
       "  </tbody>\n",
       "</table>\n",
       "</div>"
      ],
      "text/plain": [
       "  Location   Maker  Year Colour          Type  Distance\n",
       "0    Abuja     BMW  2008  White  Foreign Used   30524.0\n",
       "1    Lagos  Toyota  2013  White  Foreign Used       NaN\n",
       "2    Lagos  Toyota  2005   Gold  Foreign Used       NaN\n",
       "3    Lagos  Toyota  2011   Gray  Foreign Used  166839.0\n",
       "4    Lagos   Lexus  2013    Red  Foreign Used   88862.0"
      ]
     },
     "execution_count": 24,
     "metadata": {},
     "output_type": "execute_result"
    }
   ],
   "source": [
    "test[\"Year\"] = test[\"Year\"].str.replace(\",\", \"\")\n",
    "test.head()"
   ]
  },
  {
   "cell_type": "code",
   "execution_count": 25,
   "metadata": {},
   "outputs": [],
   "source": [
    "# Conver year column to integer\n",
    "train[\"Year\"]  = pd.to_numeric(train[\"Year\"], errors='coerce', downcast=\"integer\")\n",
    "test[\"Year\"]  = pd.to_numeric(test[\"Year\"], errors='coerce', downcast=\"integer\")\n"
   ]
  },
  {
   "cell_type": "code",
   "execution_count": 26,
   "metadata": {},
   "outputs": [],
   "source": [
    "# Null values "
   ]
  },
  {
   "cell_type": "code",
   "execution_count": 27,
   "metadata": {},
   "outputs": [
    {
     "data": {
      "text/plain": [
       "2008.0"
      ]
     },
     "execution_count": 27,
     "metadata": {},
     "output_type": "execute_result"
    }
   ],
   "source": [
    "train[\"Year\"].mode()[0]"
   ]
  },
  {
   "cell_type": "code",
   "execution_count": 28,
   "metadata": {},
   "outputs": [],
   "source": [
    "to_fill_with_mode = [\"Year\", \"Colour\", \"Type\"]\n",
    "\n",
    "for item in to_fill_with_mode:\n",
    "    train[item].fillna(train[item].mode()[0], inplace=True)\n",
    "    test[item].fillna(test[item].mode()[0], inplace=True)"
   ]
  },
  {
   "cell_type": "code",
   "execution_count": 29,
   "metadata": {},
   "outputs": [],
   "source": [
    "# train[\"Year\"].fillna(train[\"Year\"].mode()[0], inplace=True)\n",
    "# test[\"Year\"].fillna(test[\"Year\"].mode()[0], inplace=True)"
   ]
  },
  {
   "cell_type": "code",
   "execution_count": 30,
   "metadata": {},
   "outputs": [],
   "source": [
    "train[\"Year\"] = train[\"Year\"].astype(int)\n",
    "test[\"Year\"] = test[\"Year\"].astype(int)"
   ]
  },
  {
   "cell_type": "code",
   "execution_count": 31,
   "metadata": {},
   "outputs": [
    {
     "data": {
      "text/plain": [
       "Location                     0\n",
       "Maker                        0\n",
       "Year                         0\n",
       "Colour                       0\n",
       "Amount (Million Naira)      17\n",
       "Type                         0\n",
       "Distance                  2360\n",
       "dtype: int64"
      ]
     },
     "execution_count": 31,
     "metadata": {},
     "output_type": "execute_result"
    }
   ],
   "source": [
    "train.isnull().sum()"
   ]
  },
  {
   "cell_type": "code",
   "execution_count": 32,
   "metadata": {},
   "outputs": [
    {
     "data": {
      "text/plain": [
       "Location      0\n",
       "Maker         0\n",
       "Year          0\n",
       "Colour        0\n",
       "Type          0\n",
       "Distance    676\n",
       "dtype: int64"
      ]
     },
     "execution_count": 32,
     "metadata": {},
     "output_type": "execute_result"
    }
   ],
   "source": [
    "test.isnull().sum()"
   ]
  },
  {
   "cell_type": "code",
   "execution_count": 33,
   "metadata": {},
   "outputs": [
    {
     "data": {
      "text/plain": [
       "Index(['Location', 'Maker', 'Year', 'Colour', 'Amount (Million Naira)', 'Type',\n",
       "       'Distance'],\n",
       "      dtype='object')"
      ]
     },
     "execution_count": 33,
     "metadata": {},
     "output_type": "execute_result"
    }
   ],
   "source": [
    "train.columns"
   ]
  },
  {
   "cell_type": "code",
   "execution_count": 34,
   "metadata": {},
   "outputs": [
    {
     "data": {
      "image/png": "[encoded data removed]",
      "text/plain": [
       "<Figure size 360x360 with 1 Axes>"
      ]
     },
     "metadata": {
      "needs_background": "light"
     },
     "output_type": "display_data"
    }
   ],
   "source": [
    "sns.displot(np.log1p(train[\"Amount (Million Naira)\"]));"
   ]
  },
  {
   "cell_type": "code",
   "execution_count": 35,
   "metadata": {},
   "outputs": [],
   "source": [
    "train[\"Amount (Million Naira)\"].fillna(train[\"Amount (Million Naira)\"].median(), inplace=True)"
   ]
  },
  {
   "cell_type": "code",
   "execution_count": 36,
   "metadata": {},
   "outputs": [
    {
     "data": {
      "text/html": [
       "<div>\n",
       "<style scoped>\n",
       "    .dataframe tbody tr th:only-of-type {\n",
       "        vertical-align: middle;\n",
       "    }\n",
       "\n",
       "    .dataframe tbody tr th {\n",
       "        vertical-align: top;\n",
       "    }\n",
       "\n",
       "    .dataframe thead th {\n",
       "        text-align: right;\n",
       "    }\n",
       "</style>\n",
       "<table border=\"1\" class=\"dataframe\">\n",
       "  <thead>\n",
       "    <tr style=\"text-align: right;\">\n",
       "      <th></th>\n",
       "      <th>Location</th>\n",
       "      <th>Maker</th>\n",
       "      <th>Year</th>\n",
       "      <th>Colour</th>\n",
       "      <th>Amount (Million Naira)</th>\n",
       "      <th>Type</th>\n",
       "      <th>Distance</th>\n",
       "    </tr>\n",
       "  </thead>\n",
       "  <tbody>\n",
       "    <tr>\n",
       "      <th>0</th>\n",
       "      <td>Abuja</td>\n",
       "      <td>Honda</td>\n",
       "      <td>2011</td>\n",
       "      <td>Silver</td>\n",
       "      <td>2.2</td>\n",
       "      <td>Nigerian Used</td>\n",
       "      <td>NaN</td>\n",
       "    </tr>\n",
       "    <tr>\n",
       "      <th>1</th>\n",
       "      <td>Ibadan</td>\n",
       "      <td>Hyundai</td>\n",
       "      <td>2012</td>\n",
       "      <td>Silver</td>\n",
       "      <td>3.5</td>\n",
       "      <td>Nigerian Used</td>\n",
       "      <td>125000</td>\n",
       "    </tr>\n",
       "    <tr>\n",
       "      <th>2</th>\n",
       "      <td>Lagos</td>\n",
       "      <td>Lexus</td>\n",
       "      <td>2010</td>\n",
       "      <td>Red</td>\n",
       "      <td>9.2</td>\n",
       "      <td>Foreign Used</td>\n",
       "      <td>110852</td>\n",
       "    </tr>\n",
       "    <tr>\n",
       "      <th>3</th>\n",
       "      <td>Abuja</td>\n",
       "      <td>Mercedes-Benz</td>\n",
       "      <td>2017</td>\n",
       "      <td>Blue</td>\n",
       "      <td>22.8</td>\n",
       "      <td>Foreign Used</td>\n",
       "      <td>30000</td>\n",
       "    </tr>\n",
       "    <tr>\n",
       "      <th>4</th>\n",
       "      <td>Ibadan</td>\n",
       "      <td>Toyota</td>\n",
       "      <td>2002</td>\n",
       "      <td>Red</td>\n",
       "      <td>2.6</td>\n",
       "      <td>Nigerian Used</td>\n",
       "      <td>125206</td>\n",
       "    </tr>\n",
       "  </tbody>\n",
       "</table>\n",
       "</div>"
      ],
      "text/plain": [
       "  Location          Maker  Year  Colour  Amount (Million Naira)  \\\n",
       "0    Abuja          Honda  2011  Silver                     2.2   \n",
       "1   Ibadan        Hyundai  2012  Silver                     3.5   \n",
       "2    Lagos          Lexus  2010     Red                     9.2   \n",
       "3    Abuja  Mercedes-Benz  2017    Blue                    22.8   \n",
       "4   Ibadan         Toyota  2002     Red                     2.6   \n",
       "\n",
       "            Type Distance  \n",
       "0  Nigerian Used      NaN  \n",
       "1  Nigerian Used   125000  \n",
       "2   Foreign Used   110852  \n",
       "3   Foreign Used    30000  \n",
       "4  Nigerian Used   125206  "
      ]
     },
     "execution_count": 36,
     "metadata": {},
     "output_type": "execute_result"
    }
   ],
   "source": [
    "train[\"Distance\"] = train[\"Distance\"].str.replace(\",\", \"\")\n",
    "train.head()"
   ]
  },
  {
   "cell_type": "code",
   "execution_count": 37,
   "metadata": {},
   "outputs": [],
   "source": [
    "train[\"Distance\"]  = pd.to_numeric(train[\"Distance\"], errors='coerce', downcast=\"integer\")"
   ]
  },
  {
   "cell_type": "code",
   "execution_count": 38,
   "metadata": {},
   "outputs": [
    {
     "data": {
      "text/plain": [
       "dtype('float64')"
      ]
     },
     "execution_count": 38,
     "metadata": {},
     "output_type": "execute_result"
    }
   ],
   "source": [
    "train[\"Distance\"].dtype"
   ]
  },
  {
   "cell_type": "code",
   "execution_count": 39,
   "metadata": {},
   "outputs": [],
   "source": [
    "train[\"Distance\"].fillna(train[\"Distance\"].median(), inplace=True)\n",
    "test[\"Distance\"].fillna(test[\"Distance\"].median(), inplace=True)"
   ]
  },
  {
   "cell_type": "code",
   "execution_count": 40,
   "metadata": {},
   "outputs": [
    {
     "data": {
      "text/plain": [
       "Location                  0\n",
       "Maker                     0\n",
       "Year                      0\n",
       "Colour                    0\n",
       "Amount (Million Naira)    0\n",
       "Type                      0\n",
       "Distance                  0\n",
       "dtype: int64"
      ]
     },
     "execution_count": 40,
     "metadata": {},
     "output_type": "execute_result"
    }
   ],
   "source": [
    "train.isna().sum()"
   ]
  },
  {
   "cell_type": "code",
   "execution_count": 41,
   "metadata": {},
   "outputs": [
    {
     "data": {
      "text/plain": [
       "Location    0\n",
       "Maker       0\n",
       "Year        0\n",
       "Colour      0\n",
       "Type        0\n",
       "Distance    0\n",
       "dtype: int64"
      ]
     },
     "execution_count": 41,
     "metadata": {},
     "output_type": "execute_result"
    }
   ],
   "source": [
    "test.isna().sum()"
   ]
  },
  {
   "cell_type": "markdown",
   "metadata": {},
   "source": [
    "### Data Preparation"
   ]
  },
  {
   "cell_type": "code",
   "execution_count": 42,
   "metadata": {},
   "outputs": [],
   "source": [
    "# encode categorical variables \n",
    "from sklearn.preprocessing import LabelEncoder\n",
    "enc = LabelEncoder()"
   ]
  },
  {
   "cell_type": "code",
   "execution_count": 43,
   "metadata": {},
   "outputs": [],
   "source": [
    "del cat_feat[2]"
   ]
  },
  {
   "cell_type": "code",
   "execution_count": 44,
   "metadata": {},
   "outputs": [
    {
     "data": {
      "text/plain": [
       "['Location', 'Maker', 'Colour', 'Type']"
      ]
     },
     "execution_count": 44,
     "metadata": {},
     "output_type": "execute_result"
    }
   ],
   "source": [
    "cat_feat"
   ]
  },
  {
   "cell_type": "code",
   "execution_count": 45,
   "metadata": {},
   "outputs": [
    {
     "name": "stdout",
     "output_type": "stream",
     "text": [
      "Train Set\n",
      "Location 3\n",
      "Maker 55\n",
      "Colour 20\n",
      "Type 3\n",
      "\n",
      "\n",
      "Test Set\n",
      "Location 3\n",
      "Maker 40\n",
      "Colour 17\n",
      "Type 3\n"
     ]
    }
   ],
   "source": [
    "print(\"Train Set\")\n",
    "for col in cat_feat:\n",
    "    print(col, len(train[col].unique()))\n",
    "print(\"\\n\")\n",
    "print(\"Test Set\")\n",
    "for col in cat_feat:\n",
    "    print(col, len(test[col].unique())) "
   ]
  },
  {
   "cell_type": "code",
   "execution_count": 46,
   "metadata": {},
   "outputs": [],
   "source": [
    "# train[\"urban_or_rural\"] = enc.fit_transform(train[\"urban_or_rural\"])\n",
    "# test[\"urban_or_rural\"] = enc.fit_transform(test[\"urban_or_rural\"])"
   ]
  },
  {
   "cell_type": "code",
   "execution_count": 47,
   "metadata": {},
   "outputs": [],
   "source": [
    "ntrain = train.shape[0]\n",
    "# ntest = test_df.shape[0]\n",
    "\n",
    "data = pd.concat((train, test)).reset_index(drop=True)"
   ]
  },
  {
   "cell_type": "code",
   "execution_count": 48,
   "metadata": {},
   "outputs": [],
   "source": [
    "for col in cat_feat:\n",
    "    # enc.fit(train[col])\n",
    "    data[col] = enc.fit_transform(data[col])\n",
    "    # test[col] = enc.fit_transform(test[col])"
   ]
  },
  {
   "cell_type": "code",
   "execution_count": 49,
   "metadata": {},
   "outputs": [
    {
     "data": {
      "text/html": [
       "<div>\n",
       "<style scoped>\n",
       "    .dataframe tbody tr th:only-of-type {\n",
       "        vertical-align: middle;\n",
       "    }\n",
       "\n",
       "    .dataframe tbody tr th {\n",
       "        vertical-align: top;\n",
       "    }\n",
       "\n",
       "    .dataframe thead th {\n",
       "        text-align: right;\n",
       "    }\n",
       "</style>\n",
       "<table border=\"1\" class=\"dataframe\">\n",
       "  <thead>\n",
       "    <tr style=\"text-align: right;\">\n",
       "      <th></th>\n",
       "      <th>Location</th>\n",
       "      <th>Maker</th>\n",
       "      <th>Year</th>\n",
       "      <th>Colour</th>\n",
       "      <th>Amount (Million Naira)</th>\n",
       "      <th>Type</th>\n",
       "      <th>Distance</th>\n",
       "    </tr>\n",
       "  </thead>\n",
       "  <tbody>\n",
       "    <tr>\n",
       "      <th>0</th>\n",
       "      <td>0</td>\n",
       "      <td>17</td>\n",
       "      <td>2011</td>\n",
       "      <td>17</td>\n",
       "      <td>2.2</td>\n",
       "      <td>2</td>\n",
       "      <td>80830.0</td>\n",
       "    </tr>\n",
       "    <tr>\n",
       "      <th>1</th>\n",
       "      <td>1</td>\n",
       "      <td>19</td>\n",
       "      <td>2012</td>\n",
       "      <td>17</td>\n",
       "      <td>3.5</td>\n",
       "      <td>2</td>\n",
       "      <td>125000.0</td>\n",
       "    </tr>\n",
       "    <tr>\n",
       "      <th>2</th>\n",
       "      <td>2</td>\n",
       "      <td>29</td>\n",
       "      <td>2010</td>\n",
       "      <td>16</td>\n",
       "      <td>9.2</td>\n",
       "      <td>1</td>\n",
       "      <td>110852.0</td>\n",
       "    </tr>\n",
       "    <tr>\n",
       "      <th>3</th>\n",
       "      <td>0</td>\n",
       "      <td>34</td>\n",
       "      <td>2017</td>\n",
       "      <td>3</td>\n",
       "      <td>22.8</td>\n",
       "      <td>1</td>\n",
       "      <td>30000.0</td>\n",
       "    </tr>\n",
       "    <tr>\n",
       "      <th>4</th>\n",
       "      <td>1</td>\n",
       "      <td>53</td>\n",
       "      <td>2002</td>\n",
       "      <td>16</td>\n",
       "      <td>2.6</td>\n",
       "      <td>2</td>\n",
       "      <td>125206.0</td>\n",
       "    </tr>\n",
       "  </tbody>\n",
       "</table>\n",
       "</div>"
      ],
      "text/plain": [
       "   Location  Maker  Year  Colour  Amount (Million Naira)  Type  Distance\n",
       "0         0     17  2011      17                     2.2     2   80830.0\n",
       "1         1     19  2012      17                     3.5     2  125000.0\n",
       "2         2     29  2010      16                     9.2     1  110852.0\n",
       "3         0     34  2017       3                    22.8     1   30000.0\n",
       "4         1     53  2002      16                     2.6     2  125206.0"
      ]
     },
     "execution_count": 49,
     "metadata": {},
     "output_type": "execute_result"
    }
   ],
   "source": [
    "data.head()"
   ]
  },
  {
   "cell_type": "code",
   "execution_count": 50,
   "metadata": {},
   "outputs": [
    {
     "data": {
      "text/plain": [
       "0      1970-01-01 00:00:00.000002011\n",
       "1      1970-01-01 00:00:00.000002012\n",
       "2      1970-01-01 00:00:00.000002010\n",
       "3      1970-01-01 00:00:00.000002017\n",
       "4      1970-01-01 00:00:00.000002002\n",
       "                    ...             \n",
       "9261   1970-01-01 00:00:00.000002020\n",
       "9262   1970-01-01 00:00:00.000002011\n",
       "9263   1970-01-01 00:00:00.000002015\n",
       "9264   1970-01-01 00:00:00.000002013\n",
       "9265   1970-01-01 00:00:00.000002009\n",
       "Name: Year, Length: 9266, dtype: datetime64[ns]"
      ]
     },
     "execution_count": 50,
     "metadata": {},
     "output_type": "execute_result"
    }
   ],
   "source": [
    "pd.to_datetime(data[\"Year\"])"
   ]
  },
  {
   "cell_type": "code",
   "execution_count": 51,
   "metadata": {},
   "outputs": [
    {
     "data": {
      "text/html": [
       "<div>\n",
       "<style scoped>\n",
       "    .dataframe tbody tr th:only-of-type {\n",
       "        vertical-align: middle;\n",
       "    }\n",
       "\n",
       "    .dataframe tbody tr th {\n",
       "        vertical-align: top;\n",
       "    }\n",
       "\n",
       "    .dataframe thead th {\n",
       "        text-align: right;\n",
       "    }\n",
       "</style>\n",
       "<table border=\"1\" class=\"dataframe\">\n",
       "  <thead>\n",
       "    <tr style=\"text-align: right;\">\n",
       "      <th></th>\n",
       "      <th>Location</th>\n",
       "      <th>Maker</th>\n",
       "      <th>Year</th>\n",
       "      <th>Colour</th>\n",
       "      <th>Amount (Million Naira)</th>\n",
       "      <th>Type</th>\n",
       "      <th>Distance</th>\n",
       "    </tr>\n",
       "  </thead>\n",
       "  <tbody>\n",
       "    <tr>\n",
       "      <th>0</th>\n",
       "      <td>0</td>\n",
       "      <td>17</td>\n",
       "      <td>2011</td>\n",
       "      <td>17</td>\n",
       "      <td>2.2</td>\n",
       "      <td>2</td>\n",
       "      <td>80830.0</td>\n",
       "    </tr>\n",
       "    <tr>\n",
       "      <th>1</th>\n",
       "      <td>1</td>\n",
       "      <td>19</td>\n",
       "      <td>2012</td>\n",
       "      <td>17</td>\n",
       "      <td>3.5</td>\n",
       "      <td>2</td>\n",
       "      <td>125000.0</td>\n",
       "    </tr>\n",
       "    <tr>\n",
       "      <th>2</th>\n",
       "      <td>2</td>\n",
       "      <td>29</td>\n",
       "      <td>2010</td>\n",
       "      <td>16</td>\n",
       "      <td>9.2</td>\n",
       "      <td>1</td>\n",
       "      <td>110852.0</td>\n",
       "    </tr>\n",
       "    <tr>\n",
       "      <th>3</th>\n",
       "      <td>0</td>\n",
       "      <td>34</td>\n",
       "      <td>2017</td>\n",
       "      <td>3</td>\n",
       "      <td>22.8</td>\n",
       "      <td>1</td>\n",
       "      <td>30000.0</td>\n",
       "    </tr>\n",
       "    <tr>\n",
       "      <th>4</th>\n",
       "      <td>1</td>\n",
       "      <td>53</td>\n",
       "      <td>2002</td>\n",
       "      <td>16</td>\n",
       "      <td>2.6</td>\n",
       "      <td>2</td>\n",
       "      <td>125206.0</td>\n",
       "    </tr>\n",
       "  </tbody>\n",
       "</table>\n",
       "</div>"
      ],
      "text/plain": [
       "   Location  Maker  Year  Colour  Amount (Million Naira)  Type  Distance\n",
       "0         0     17  2011      17                     2.2     2   80830.0\n",
       "1         1     19  2012      17                     3.5     2  125000.0\n",
       "2         2     29  2010      16                     9.2     1  110852.0\n",
       "3         0     34  2017       3                    22.8     1   30000.0\n",
       "4         1     53  2002      16                     2.6     2  125206.0"
      ]
     },
     "execution_count": 51,
     "metadata": {},
     "output_type": "execute_result"
    }
   ],
   "source": [
    "df = data.copy()\n",
    "# df[\"Year\"] = pd.to_datetime(df[\"Year\"])\n",
    "# df = df.set_index(\"Year\")\n",
    "df.head() "
   ]
  },
  {
   "cell_type": "code",
   "execution_count": 52,
   "metadata": {},
   "outputs": [
    {
     "data": {
      "text/html": [
       "<div>\n",
       "<style scoped>\n",
       "    .dataframe tbody tr th:only-of-type {\n",
       "        vertical-align: middle;\n",
       "    }\n",
       "\n",
       "    .dataframe tbody tr th {\n",
       "        vertical-align: top;\n",
       "    }\n",
       "\n",
       "    .dataframe thead th {\n",
       "        text-align: right;\n",
       "    }\n",
       "</style>\n",
       "<table border=\"1\" class=\"dataframe\">\n",
       "  <thead>\n",
       "    <tr style=\"text-align: right;\">\n",
       "      <th></th>\n",
       "      <th>Location</th>\n",
       "      <th>Maker</th>\n",
       "      <th>Year</th>\n",
       "      <th>Colour</th>\n",
       "      <th>Amount (Million Naira)</th>\n",
       "      <th>Type</th>\n",
       "      <th>Distance</th>\n",
       "      <th>Interval</th>\n",
       "    </tr>\n",
       "  </thead>\n",
       "  <tbody>\n",
       "    <tr>\n",
       "      <th>2816</th>\n",
       "      <td>0</td>\n",
       "      <td>34</td>\n",
       "      <td>2008</td>\n",
       "      <td>2</td>\n",
       "      <td>4.30</td>\n",
       "      <td>1</td>\n",
       "      <td>78000.0</td>\n",
       "      <td>2000</td>\n",
       "    </tr>\n",
       "    <tr>\n",
       "      <th>6855</th>\n",
       "      <td>1</td>\n",
       "      <td>53</td>\n",
       "      <td>2005</td>\n",
       "      <td>16</td>\n",
       "      <td>1.75</td>\n",
       "      <td>2</td>\n",
       "      <td>198653.0</td>\n",
       "      <td>2000</td>\n",
       "    </tr>\n",
       "    <tr>\n",
       "      <th>5210</th>\n",
       "      <td>2</td>\n",
       "      <td>34</td>\n",
       "      <td>2011</td>\n",
       "      <td>20</td>\n",
       "      <td>6.65</td>\n",
       "      <td>1</td>\n",
       "      <td>80830.0</td>\n",
       "      <td>2010</td>\n",
       "    </tr>\n",
       "    <tr>\n",
       "      <th>3149</th>\n",
       "      <td>2</td>\n",
       "      <td>53</td>\n",
       "      <td>2018</td>\n",
       "      <td>20</td>\n",
       "      <td>48.00</td>\n",
       "      <td>0</td>\n",
       "      <td>80830.0</td>\n",
       "      <td>2010</td>\n",
       "    </tr>\n",
       "    <tr>\n",
       "      <th>2891</th>\n",
       "      <td>2</td>\n",
       "      <td>29</td>\n",
       "      <td>2020</td>\n",
       "      <td>2</td>\n",
       "      <td>65.00</td>\n",
       "      <td>0</td>\n",
       "      <td>25.0</td>\n",
       "      <td>2020</td>\n",
       "    </tr>\n",
       "    <tr>\n",
       "      <th>3320</th>\n",
       "      <td>2</td>\n",
       "      <td>29</td>\n",
       "      <td>2013</td>\n",
       "      <td>8</td>\n",
       "      <td>11.00</td>\n",
       "      <td>1</td>\n",
       "      <td>50214.0</td>\n",
       "      <td>2010</td>\n",
       "    </tr>\n",
       "    <tr>\n",
       "      <th>5754</th>\n",
       "      <td>2</td>\n",
       "      <td>53</td>\n",
       "      <td>2001</td>\n",
       "      <td>17</td>\n",
       "      <td>1.01</td>\n",
       "      <td>2</td>\n",
       "      <td>319360.0</td>\n",
       "      <td>2000</td>\n",
       "    </tr>\n",
       "    <tr>\n",
       "      <th>3986</th>\n",
       "      <td>0</td>\n",
       "      <td>29</td>\n",
       "      <td>2005</td>\n",
       "      <td>8</td>\n",
       "      <td>3.04</td>\n",
       "      <td>2</td>\n",
       "      <td>117149.0</td>\n",
       "      <td>2000</td>\n",
       "    </tr>\n",
       "  </tbody>\n",
       "</table>\n",
       "</div>"
      ],
      "text/plain": [
       "      Location  Maker  Year  Colour  Amount (Million Naira)  Type  Distance  \\\n",
       "2816         0     34  2008       2                    4.30     1   78000.0   \n",
       "6855         1     53  2005      16                    1.75     2  198653.0   \n",
       "5210         2     34  2011      20                    6.65     1   80830.0   \n",
       "3149         2     53  2018      20                   48.00     0   80830.0   \n",
       "2891         2     29  2020       2                   65.00     0      25.0   \n",
       "3320         2     29  2013       8                   11.00     1   50214.0   \n",
       "5754         2     53  2001      17                    1.01     2  319360.0   \n",
       "3986         0     29  2005       8                    3.04     2  117149.0   \n",
       "\n",
       "      Interval  \n",
       "2816      2000  \n",
       "6855      2000  \n",
       "5210      2010  \n",
       "3149      2010  \n",
       "2891      2020  \n",
       "3320      2010  \n",
       "5754      2000  \n",
       "3986      2000  "
      ]
     },
     "execution_count": 52,
     "metadata": {},
     "output_type": "execute_result"
    }
   ],
   "source": [
    "df['Interval'] = (10 * (df['Year'] // 10))\n",
    "df.sample(8)"
   ]
  },
  {
   "cell_type": "code",
   "execution_count": 53,
   "metadata": {},
   "outputs": [],
   "source": [
    "# df['decade'] = (df['Year'].apply(lambda x: x[:2])).astype('category')\n",
    "# df.groupby(pd.Grouper(freq = '10Y')).mean()"
   ]
  },
  {
   "cell_type": "code",
   "execution_count": null,
   "metadata": {},
   "outputs": [],
   "source": []
  },
  {
   "cell_type": "code",
   "execution_count": 54,
   "metadata": {},
   "outputs": [],
   "source": [
    "train = df[:ntrain]\n",
    "test = df[ntrain:].copy()"
   ]
  },
  {
   "cell_type": "code",
   "execution_count": 55,
   "metadata": {},
   "outputs": [
    {
     "data": {
      "text/html": [
       "<div>\n",
       "<style scoped>\n",
       "    .dataframe tbody tr th:only-of-type {\n",
       "        vertical-align: middle;\n",
       "    }\n",
       "\n",
       "    .dataframe tbody tr th {\n",
       "        vertical-align: top;\n",
       "    }\n",
       "\n",
       "    .dataframe thead th {\n",
       "        text-align: right;\n",
       "    }\n",
       "</style>\n",
       "<table border=\"1\" class=\"dataframe\">\n",
       "  <thead>\n",
       "    <tr style=\"text-align: right;\">\n",
       "      <th></th>\n",
       "      <th>Location</th>\n",
       "      <th>Maker</th>\n",
       "      <th>Year</th>\n",
       "      <th>Colour</th>\n",
       "      <th>Amount (Million Naira)</th>\n",
       "      <th>Type</th>\n",
       "      <th>Distance</th>\n",
       "      <th>Interval</th>\n",
       "    </tr>\n",
       "  </thead>\n",
       "  <tbody>\n",
       "    <tr>\n",
       "      <th>0</th>\n",
       "      <td>0</td>\n",
       "      <td>17</td>\n",
       "      <td>2011</td>\n",
       "      <td>17</td>\n",
       "      <td>2.2</td>\n",
       "      <td>2</td>\n",
       "      <td>80830.0</td>\n",
       "      <td>2010</td>\n",
       "    </tr>\n",
       "    <tr>\n",
       "      <th>1</th>\n",
       "      <td>1</td>\n",
       "      <td>19</td>\n",
       "      <td>2012</td>\n",
       "      <td>17</td>\n",
       "      <td>3.5</td>\n",
       "      <td>2</td>\n",
       "      <td>125000.0</td>\n",
       "      <td>2010</td>\n",
       "    </tr>\n",
       "    <tr>\n",
       "      <th>2</th>\n",
       "      <td>2</td>\n",
       "      <td>29</td>\n",
       "      <td>2010</td>\n",
       "      <td>16</td>\n",
       "      <td>9.2</td>\n",
       "      <td>1</td>\n",
       "      <td>110852.0</td>\n",
       "      <td>2010</td>\n",
       "    </tr>\n",
       "    <tr>\n",
       "      <th>3</th>\n",
       "      <td>0</td>\n",
       "      <td>34</td>\n",
       "      <td>2017</td>\n",
       "      <td>3</td>\n",
       "      <td>22.8</td>\n",
       "      <td>1</td>\n",
       "      <td>30000.0</td>\n",
       "      <td>2010</td>\n",
       "    </tr>\n",
       "    <tr>\n",
       "      <th>4</th>\n",
       "      <td>1</td>\n",
       "      <td>53</td>\n",
       "      <td>2002</td>\n",
       "      <td>16</td>\n",
       "      <td>2.6</td>\n",
       "      <td>2</td>\n",
       "      <td>125206.0</td>\n",
       "      <td>2000</td>\n",
       "    </tr>\n",
       "  </tbody>\n",
       "</table>\n",
       "</div>"
      ],
      "text/plain": [
       "   Location  Maker  Year  Colour  Amount (Million Naira)  Type  Distance  \\\n",
       "0         0     17  2011      17                     2.2     2   80830.0   \n",
       "1         1     19  2012      17                     3.5     2  125000.0   \n",
       "2         2     29  2010      16                     9.2     1  110852.0   \n",
       "3         0     34  2017       3                    22.8     1   30000.0   \n",
       "4         1     53  2002      16                     2.6     2  125206.0   \n",
       "\n",
       "   Interval  \n",
       "0      2010  \n",
       "1      2010  \n",
       "2      2010  \n",
       "3      2010  \n",
       "4      2000  "
      ]
     },
     "execution_count": 55,
     "metadata": {},
     "output_type": "execute_result"
    }
   ],
   "source": [
    "train.head()"
   ]
  },
  {
   "cell_type": "code",
   "execution_count": 56,
   "metadata": {},
   "outputs": [
    {
     "data": {
      "text/html": [
       "<div>\n",
       "<style scoped>\n",
       "    .dataframe tbody tr th:only-of-type {\n",
       "        vertical-align: middle;\n",
       "    }\n",
       "\n",
       "    .dataframe tbody tr th {\n",
       "        vertical-align: top;\n",
       "    }\n",
       "\n",
       "    .dataframe thead th {\n",
       "        text-align: right;\n",
       "    }\n",
       "</style>\n",
       "<table border=\"1\" class=\"dataframe\">\n",
       "  <thead>\n",
       "    <tr style=\"text-align: right;\">\n",
       "      <th></th>\n",
       "      <th>Location</th>\n",
       "      <th>Maker</th>\n",
       "      <th>Year</th>\n",
       "      <th>Colour</th>\n",
       "      <th>Type</th>\n",
       "      <th>Distance</th>\n",
       "      <th>Interval</th>\n",
       "    </tr>\n",
       "  </thead>\n",
       "  <tbody>\n",
       "    <tr>\n",
       "      <th>0</th>\n",
       "      <td>0</td>\n",
       "      <td>3</td>\n",
       "      <td>2008</td>\n",
       "      <td>20</td>\n",
       "      <td>1</td>\n",
       "      <td>30524.0</td>\n",
       "      <td>2000</td>\n",
       "    </tr>\n",
       "    <tr>\n",
       "      <th>1</th>\n",
       "      <td>2</td>\n",
       "      <td>53</td>\n",
       "      <td>2013</td>\n",
       "      <td>20</td>\n",
       "      <td>1</td>\n",
       "      <td>82000.0</td>\n",
       "      <td>2010</td>\n",
       "    </tr>\n",
       "    <tr>\n",
       "      <th>2</th>\n",
       "      <td>2</td>\n",
       "      <td>53</td>\n",
       "      <td>2005</td>\n",
       "      <td>7</td>\n",
       "      <td>1</td>\n",
       "      <td>82000.0</td>\n",
       "      <td>2000</td>\n",
       "    </tr>\n",
       "    <tr>\n",
       "      <th>3</th>\n",
       "      <td>2</td>\n",
       "      <td>53</td>\n",
       "      <td>2011</td>\n",
       "      <td>8</td>\n",
       "      <td>1</td>\n",
       "      <td>166839.0</td>\n",
       "      <td>2010</td>\n",
       "    </tr>\n",
       "    <tr>\n",
       "      <th>4</th>\n",
       "      <td>2</td>\n",
       "      <td>29</td>\n",
       "      <td>2013</td>\n",
       "      <td>16</td>\n",
       "      <td>1</td>\n",
       "      <td>88862.0</td>\n",
       "      <td>2010</td>\n",
       "    </tr>\n",
       "  </tbody>\n",
       "</table>\n",
       "</div>"
      ],
      "text/plain": [
       "   Location  Maker  Year  Colour  Type  Distance  Interval\n",
       "0         0      3  2008      20     1   30524.0      2000\n",
       "1         2     53  2013      20     1   82000.0      2010\n",
       "2         2     53  2005       7     1   82000.0      2000\n",
       "3         2     53  2011       8     1  166839.0      2010\n",
       "4         2     29  2013      16     1   88862.0      2010"
      ]
     },
     "execution_count": 56,
     "metadata": {},
     "output_type": "execute_result"
    }
   ],
   "source": [
    "test.drop(\"Amount (Million Naira)\", axis=1, inplace=True)\n",
    "test.reset_index(drop=True, inplace=True)\n",
    "test.head()"
   ]
  },
  {
   "cell_type": "code",
   "execution_count": null,
   "metadata": {},
   "outputs": [],
   "source": []
  },
  {
   "cell_type": "markdown",
   "metadata": {},
   "source": [
    "### Train and Evaluate Models"
   ]
  },
  {
   "cell_type": "code",
   "execution_count": 57,
   "metadata": {},
   "outputs": [],
   "source": [
    "y = train[\"Amount (Million Naira)\"]\n",
    "X = train.drop(\"Amount (Million Naira)\", axis=1)"
   ]
  },
  {
   "cell_type": "code",
   "execution_count": 58,
   "metadata": {},
   "outputs": [],
   "source": [
    "# train"
   ]
  },
  {
   "cell_type": "code",
   "execution_count": 59,
   "metadata": {},
   "outputs": [],
   "source": [
    "from sklearn.model_selection import train_test_split\n",
    "\n",
    "X_train, X_test, y_train, y_test = train_test_split(X, y, test_size=0.2, random_state=58) # Random state keeps the split consistent"
   ]
  },
  {
   "cell_type": "code",
   "execution_count": 60,
   "metadata": {},
   "outputs": [
    {
     "name": "stdout",
     "output_type": "stream",
     "text": [
      "(5764, 7) (5764,)\n",
      "(1441, 7) (1441,)\n"
     ]
    }
   ],
   "source": [
    "print(X_train.shape, y_train.shape)\n",
    "print(X_test.shape, y_test.shape)"
   ]
  },
  {
   "cell_type": "code",
   "execution_count": null,
   "metadata": {},
   "outputs": [],
   "source": []
  },
  {
   "cell_type": "code",
   "execution_count": 61,
   "metadata": {},
   "outputs": [
    {
     "data": {
      "text/plain": [
       "LinearRegression()"
      ]
     },
     "execution_count": 61,
     "metadata": {},
     "output_type": "execute_result"
    }
   ],
   "source": [
    "from sklearn.linear_model import LinearRegression\n",
    "from sklearn.metrics import mean_squared_error\n",
    "\n",
    "lr = LinearRegression()\n",
    "lr.fit(X_train, y_train)"
   ]
  },
  {
   "cell_type": "code",
   "execution_count": 62,
   "metadata": {},
   "outputs": [
    {
     "data": {
      "text/plain": [
       "15.790095529598814"
      ]
     },
     "execution_count": 62,
     "metadata": {},
     "output_type": "execute_result"
    }
   ],
   "source": [
    "lr_pred = lr.predict(X_test)\n",
    "\n",
    "# The `squared=False` bit tells this function to return the ROOT mean squared error\n",
    "mean_squared_error(y_test, lr_pred, squared=False)"
   ]
  },
  {
   "cell_type": "code",
   "execution_count": null,
   "metadata": {},
   "outputs": [],
   "source": []
  },
  {
   "cell_type": "code",
   "execution_count": 63,
   "metadata": {},
   "outputs": [
    {
     "data": {
      "text/plain": [
       "RandomForestRegressor(random_state=200)"
      ]
     },
     "execution_count": 63,
     "metadata": {},
     "output_type": "execute_result"
    }
   ],
   "source": [
    "from sklearn.ensemble import RandomForestRegressor\n",
    "\n",
    "model = RandomForestRegressor(random_state=200) # Create the model\n",
    "model.fit(X_train, y_train) # Train it (this syntax looks the same for all sklearn models)"
   ]
  },
  {
   "cell_type": "code",
   "execution_count": 64,
   "metadata": {},
   "outputs": [
    {
     "data": {
      "image/png": "[encoded data removed]",
      "text/plain": [
       "<Figure size 432x288 with 1 Axes>"
      ]
     },
     "metadata": {
      "needs_background": "light"
     },
     "output_type": "display_data"
    }
   ],
   "source": [
    "plt.scatter(y_test, model.predict(X_test), alpha=0.3);"
   ]
  },
  {
   "cell_type": "code",
   "execution_count": 65,
   "metadata": {},
   "outputs": [
    {
     "data": {
      "text/plain": [
       "12.853944229028869"
      ]
     },
     "execution_count": 65,
     "metadata": {},
     "output_type": "execute_result"
    }
   ],
   "source": [
    "mean_squared_error(y_test, model.predict(X_test), squared=False)"
   ]
  },
  {
   "cell_type": "code",
   "execution_count": 66,
   "metadata": {},
   "outputs": [],
   "source": [
    "# model.fit(X, y)"
   ]
  },
  {
   "cell_type": "code",
   "execution_count": 67,
   "metadata": {},
   "outputs": [
    {
     "data": {
      "image/png": "[encoded data removed]",
      "text/plain": [
       "<Figure size 1440x1080 with 1 Axes>"
      ]
     },
     "metadata": {
      "needs_background": "light"
     },
     "output_type": "display_data"
    }
   ],
   "source": [
    "def feat_importance(model):\n",
    "    feat_imp = pd.DataFrame(sorted(zip(model.feature_importances_,X.columns)), \n",
    "                                columns=['Value','Feature']) \n",
    "    plt.figure(figsize=(20,15))\n",
    "    imp_data = feat_imp.sort_values(by=\"Value\", ascending=False)\n",
    "    sns.barplot(x=\"Value\", y=\"Feature\", data=imp_data)\n",
    "    plt.ylabel('Feature Importance Score')\n",
    "    plt.title('Feature Importance Plot', size=15)\n",
    "    plt.show() \n",
    "    \n",
    "feat_importance(model)"
   ]
  },
  {
   "cell_type": "code",
   "execution_count": 68,
   "metadata": {},
   "outputs": [],
   "source": [
    "# (10 ** (np.log10(train[\"Amount (Million Naira)\"])) == train[\"Amount (Million Naira)\"]).sum()"
   ]
  },
  {
   "cell_type": "code",
   "execution_count": 69,
   "metadata": {},
   "outputs": [],
   "source": [
    "# (np.exp(np.log(train[\"Amount (Million Naira)\"])) == train[\"Amount (Million Naira)\"]).sum()"
   ]
  },
  {
   "cell_type": "code",
   "execution_count": 70,
   "metadata": {},
   "outputs": [
    {
     "data": {
      "text/plain": [
       "LGBMRegressor(colsample_bytree=0.384606276881856,\n",
       "              learning_rate=0.23251453473545997, max_depth=7, random_state=419,\n",
       "              subsample=0.3530887571489526)"
      ]
     },
     "execution_count": 70,
     "metadata": {},
     "output_type": "execute_result"
    }
   ],
   "source": [
    "from lightgbm import LGBMRegressor\n",
    "\n",
    "params = {'colsample_bytree': 0.384606276881856,\n",
    " 'learning_rate': 0.23251453473545997,\n",
    " 'max_depth': 7,\n",
    " 'subsample': 0.3530887571489526}\n",
    "\n",
    "lgb_model = LGBMRegressor(**params, random_state=419)\n",
    "lgb_model.fit(X_train, y_train)"
   ]
  },
  {
   "cell_type": "code",
   "execution_count": 71,
   "metadata": {},
   "outputs": [
    {
     "data": {
      "text/plain": [
       "12.620285882263985"
      ]
     },
     "execution_count": 71,
     "metadata": {},
     "output_type": "execute_result"
    }
   ],
   "source": [
    "mean_squared_error(y_test, lgb_model.predict(X_test), squared=False) "
   ]
  },
  {
   "cell_type": "code",
   "execution_count": 72,
   "metadata": {},
   "outputs": [
    {
     "data": {
      "image/png": "[encoded data removed]",
      "text/plain": [
       "<Figure size 1440x1080 with 1 Axes>"
      ]
     },
     "metadata": {
      "needs_background": "light"
     },
     "output_type": "display_data"
    }
   ],
   "source": [
    "feat_importance(lgb_model)"
   ]
  },
  {
   "cell_type": "code",
   "execution_count": null,
   "metadata": {},
   "outputs": [],
   "source": []
  },
  {
   "cell_type": "code",
   "execution_count": 73,
   "metadata": {},
   "outputs": [
    {
     "name": "stdout",
     "output_type": "stream",
     "text": [
      "err:  10.58801712226156\n",
      "err:  11.111475327531297\n",
      "err:  12.248425699684141\n",
      "err:  13.546695906128612\n",
      "err:  17.35057434601013\n",
      "12.969037680323149\n"
     ]
    }
   ],
   "source": [
    "from sklearn.model_selection import KFold\n",
    "from xgboost import XGBRegressor\n",
    "from catboost import CatBoostRegressor\n",
    "\n",
    "fold_pred = []\n",
    "oof_pred = []\n",
    "\n",
    "\n",
    "fold = KFold(n_splits=5)\n",
    "i = 1\n",
    "for train_index, test_index in fold.split(X,y):     \n",
    "  \n",
    "    X_train, X_test = X.iloc[train_index], X.iloc[test_index]\n",
    "    # y_train, y_test = np.log1p(y.iloc[train_index]), y.iloc[test_index]\n",
    "    y_train, y_test = y.iloc[train_index], y.iloc[test_index]\n",
    "\n",
    "    model = CatBoostRegressor(random_state=267)\n",
    "    model.fit(X_train,y_train,eval_set=[(X_train,y_train),(X_test, y_test)], early_stopping_rounds=300, verbose = False) #erly100\n",
    "    # model.fit(X_train,y_train)\n",
    "    \n",
    "    preds= model.predict(X_test)\n",
    "    # print(\"err: \",(mean_squared_error(y_test,np.expm1(preds), squared=False)))  #Reverse transformation\n",
    "    # oof_pred.append(mean_squared_error(y_test,np.expm1(preds), squared=False))\n",
    "    \n",
    "    print(\"err: \",(mean_squared_error(y_test, preds, squared=False)))  \n",
    "    oof_pred.append(mean_squared_error(y_test, preds, squared=False))\n",
    "    p2 = model.predict(test[X.columns])\n",
    "    # fold_pred.append(np.expm1(p2))\n",
    "    fold_pred.append(p2) \n",
    "    \n",
    "\n",
    "print(np.mean(oof_pred))"
   ]
  },
  {
   "cell_type": "code",
   "execution_count": null,
   "metadata": {},
   "outputs": [],
   "source": []
  },
  {
   "cell_type": "markdown",
   "metadata": {},
   "source": [
    "#### Optuna"
   ]
  },
  {
   "cell_type": "code",
   "execution_count": 74,
   "metadata": {},
   "outputs": [],
   "source": [
    "def objective(trial):\n",
    "    fold_pred=[]\n",
    "    oof_pred = []\n",
    "\n",
    "\n",
    "    param = {}\n",
    "    # param['objective'] = \"rmse\"\n",
    "\n",
    "    param[\"learning_rate\"] = trial.suggest_float(\"learning_rate\", 1e-2, 0.25, log=True)\n",
    "    param['reg_lambda'] = trial.suggest_loguniform(\"reg_lambda\", 1e-8, 100.0)\n",
    "    # param['reg_alpha'] = trial.suggest_loguniform(\"reg_alpha\", 1e-8, 100.0)\n",
    "    param['subsample'] = trial.suggest_float(\"subsample\", 0.1, 1.0)\n",
    "    # param['colsample_bytree'] = trial.suggest_float(\"colsample_bytree\", 0.1, 1.0)\n",
    "    param['max_depth'] = trial.suggest_int(\"max_depth\", 5, 16)\n",
    "    # param['scale_pos_weight'] = trial.suggest_int('scale_pos_weight', 3, 10)\n",
    "\n",
    "    fold=KFold(n_splits=5)\n",
    "    i = 1\n",
    "    for train_index, test_index in fold.split(X,y):\n",
    "        \n",
    "        X_train, X_test = X.iloc[train_index], X.iloc[test_index]\n",
    "        y_train, y_test = np.log1p(y.iloc[train_index]), y.iloc[test_index]\n",
    "        m2 = CatBoostRegressor(**param)\n",
    "        # m2 = LGBMRegressor(**param)\n",
    "\n",
    "        m2.fit(X_train,y_train,eval_set=[(X_train,y_train),(X_test, y_test)], early_stopping_rounds=500, verbose = False)#erly100\n",
    "        preds = m2.predict(X_test)\n",
    "        oof_pred.append(mean_squared_error(y_test,np.expm1(preds), squared=False))\n",
    "\n",
    "\n",
    "    return np.mean(oof_pred)\n"
   ]
  },
  {
   "cell_type": "code",
   "execution_count": 75,
   "metadata": {},
   "outputs": [
    {
     "name": "stderr",
     "output_type": "stream",
     "text": [
      "\u001b[32m[I 2022-06-01 08:51:01,476]\u001b[0m A new study created in memory with name: no-name-a66accb6-65ee-484d-b4db-fffc3759dbe9\u001b[0m\n",
      "\u001b[32m[I 2022-06-01 08:51:31,760]\u001b[0m Trial 0 finished with value: 14.219057947793237 and parameters: {'learning_rate': 0.11755400841765147, 'reg_lambda': 0.002260141819640732, 'subsample': 0.9729989233469262, 'max_depth': 9}. Best is trial 0 with value: 14.219057947793237.\u001b[0m\n",
      "\u001b[32m[I 2022-06-01 08:51:38,489]\u001b[0m Trial 1 finished with value: 13.015464983372713 and parameters: {'learning_rate': 0.03409117102798327, 'reg_lambda': 0.14614772956232971, 'subsample': 0.4202165456828051, 'max_depth': 6}. Best is trial 1 with value: 13.015464983372713.\u001b[0m\n",
      "\u001b[32m[I 2022-06-01 08:51:50,140]\u001b[0m Trial 2 finished with value: 14.916533349574507 and parameters: {'learning_rate': 0.012876044480970336, 'reg_lambda': 11.645243329106973, 'subsample': 0.9784940913299637, 'max_depth': 7}. Best is trial 1 with value: 13.015464983372713.\u001b[0m\n",
      "\u001b[32m[I 2022-06-01 09:00:15,224]\u001b[0m Trial 3 finished with value: 15.198778167642143 and parameters: {'learning_rate': 0.016570484742096655, 'reg_lambda': 0.0001898785784159812, 'subsample': 0.8336410900281253, 'max_depth': 14}. Best is trial 1 with value: 13.015464983372713.\u001b[0m\n",
      "\u001b[32m[I 2022-06-01 09:00:24,767]\u001b[0m Trial 4 finished with value: 14.335236994372043 and parameters: {'learning_rate': 0.08812628727876178, 'reg_lambda': 3.5465990418375477e-06, 'subsample': 0.13530058395455996, 'max_depth': 7}. Best is trial 1 with value: 13.015464983372713.\u001b[0m\n"
     ]
    }
   ],
   "source": [
    "import optuna\n",
    "\n",
    "study = optuna.create_study(direction=\"minimize\")\n",
    "study.optimize(objective, n_trials=100)\n",
    "\n",
    "print(\"Number of finished trials: {}\".format(len(study.trials)))\n",
    "\n",
    "print(\"Best trial:\")\n",
    "trial = study.best_trial\n",
    "\n",
    "print(\"  Value: {}\".format(trial.value))\n",
    "\n",
    "print(\"  Params: \")\n",
    "for key, value in trial.params.items():\n",
    "    print(\"    {}: {}\".format(key, value))"
   ]
  },
  {
   "cell_type": "code",
   "execution_count": null,
   "metadata": {},
   "outputs": [
    {
     "data": {
      "text/plain": [
       "{'learning_rate': 0.24183802439019264,\n",
       " 'reg_lambda': 8.096662091063897e-06,\n",
       " 'reg_alpha': 4.674273632204234e-07,\n",
       " 'subsample': 0.6379749669523209,\n",
       " 'colsample_bytree': 0.3168825867975862,\n",
       " 'max_depth': 15,\n",
       " 'scale_pos_weight': 8}"
      ]
     },
     "execution_count": 186,
     "metadata": {},
     "output_type": "execute_result"
    }
   ],
   "source": [
    "trial.params"
   ]
  },
  {
   "cell_type": "code",
   "execution_count": null,
   "metadata": {},
   "outputs": [],
   "source": []
  },
  {
   "cell_type": "code",
   "execution_count": 188,
   "metadata": {},
   "outputs": [
    {
     "name": "stdout",
     "output_type": "stream",
     "text": [
      "err:  9.77185437239506\n",
      "err:  14.70087375167968\n",
      "err:  14.871054501199925\n",
      "err:  20.734596520401162\n",
      "err:  18.086055478647136\n",
      "15.632886924864593\n"
     ]
    }
   ],
   "source": [
    "from sklearn.model_selection import KFold\n",
    "from xgboost import XGBRegressor\n",
    "\n",
    "fold_pred = []\n",
    "oof_pred = []\n",
    "\n",
    "\n",
    "fold = KFold(n_splits=5)\n",
    "i = 1\n",
    "for train_index, test_index in fold.split(X,y):     \n",
    "  \n",
    "    X_train, X_test = X.iloc[train_index], X.iloc[test_index]\n",
    "    # y_train, y_test = np.log1p(y.iloc[train_index]), y.iloc[test_index]\n",
    "    y_train, y_test = y.iloc[train_index], y.iloc[test_index]\n",
    "\n",
    "    model = LGBMRegressor(**trial.params, random_state=267)\n",
    "    model.fit(X_train,y_train,eval_set=[(X_train,y_train),(X_test, y_test)], early_stopping_rounds=300, verbose = False) #erly100\n",
    "    # model.fit(X_train,y_train)\n",
    "    \n",
    "    preds= model.predict(X_test)\n",
    "    # print(\"err: \",(mean_squared_error(y_test,np.expm1(preds), squared=False)))  #Reverse transformation\n",
    "    # oof_pred.append(mean_squared_error(y_test,np.expm1(preds), squared=False))\n",
    "    \n",
    "    print(\"err: \",(mean_squared_error(y_test, preds, squared=False)))  \n",
    "    oof_pred.append(mean_squared_error(y_test, preds, squared=False))\n",
    "    p2 = model.predict(test[X.columns])\n",
    "    # fold_pred.append(np.expm1(p2))\n",
    "    fold_pred.append(p2) \n",
    "    \n",
    "\n",
    "print(np.mean(oof_pred))"
   ]
  },
  {
   "cell_type": "markdown",
   "metadata": {},
   "source": [
    "#### Submit"
   ]
  },
  {
   "cell_type": "code",
   "execution_count": 196,
   "metadata": {},
   "outputs": [
    {
     "data": {
      "text/html": [
       "<div>\n",
       "<style scoped>\n",
       "    .dataframe tbody tr th:only-of-type {\n",
       "        vertical-align: middle;\n",
       "    }\n",
       "\n",
       "    .dataframe tbody tr th {\n",
       "        vertical-align: top;\n",
       "    }\n",
       "\n",
       "    .dataframe thead th {\n",
       "        text-align: right;\n",
       "    }\n",
       "</style>\n",
       "<table border=\"1\" class=\"dataframe\">\n",
       "  <thead>\n",
       "    <tr style=\"text-align: right;\">\n",
       "      <th></th>\n",
       "      <th>VehicleID</th>\n",
       "      <th>Amount (Million Naira)</th>\n",
       "    </tr>\n",
       "  </thead>\n",
       "  <tbody>\n",
       "    <tr>\n",
       "      <th>0</th>\n",
       "      <td>VHL18518</td>\n",
       "      <td>6.481697</td>\n",
       "    </tr>\n",
       "    <tr>\n",
       "      <th>1</th>\n",
       "      <td>VHL17149</td>\n",
       "      <td>9.034231</td>\n",
       "    </tr>\n",
       "    <tr>\n",
       "      <th>2</th>\n",
       "      <td>VHL10927</td>\n",
       "      <td>4.062176</td>\n",
       "    </tr>\n",
       "    <tr>\n",
       "      <th>3</th>\n",
       "      <td>VHL12909</td>\n",
       "      <td>5.116837</td>\n",
       "    </tr>\n",
       "    <tr>\n",
       "      <th>4</th>\n",
       "      <td>VHL12348</td>\n",
       "      <td>11.377138</td>\n",
       "    </tr>\n",
       "  </tbody>\n",
       "</table>\n",
       "</div>"
      ],
      "text/plain": [
       "  VehicleID  Amount (Million Naira)\n",
       "0  VHL18518                6.481697\n",
       "1  VHL17149                9.034231\n",
       "2  VHL10927                4.062176\n",
       "3  VHL12909                5.116837\n",
       "4  VHL12348               11.377138"
      ]
     },
     "execution_count": 196,
     "metadata": {},
     "output_type": "execute_result"
    }
   ],
   "source": [
    "sample_sub['Amount (Million Naira)'] = np.mean(fold_pred, axis = 0)\n",
    "sample_sub.head()"
   ]
  },
  {
   "cell_type": "code",
   "execution_count": 197,
   "metadata": {},
   "outputs": [],
   "source": [
    "sample_sub.to_csv(\"catboost_oof_transform.csv\", index=False) "
   ]
  }
 ],
 "metadata": {
  "interpreter": {
   "hash": "63ac5ec983ecf14944098a465d7e90bc04353217efa8e4c25af5542595c4c5a3"
  },
  "kernelspec": {
   "display_name": "Python 3.9.9 ('base')",
   "language": "python",
   "name": "python3"
  },
  "language_info": {
   "codemirror_mode": {
    "name": "ipython",
    "version": 3
   },
   "file_extension": ".py",
   "mimetype": "text/x-python",
   "name": "python",
   "nbconvert_exporter": "python",
   "pygments_lexer": "ipython3",
   "version": "3.9.9"
  },
  "orig_nbformat": 4
 },
 "nbformat": 4,
 "nbformat_minor": 2
}
