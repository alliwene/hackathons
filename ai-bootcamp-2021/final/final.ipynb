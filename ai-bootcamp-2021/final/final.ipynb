{
 "cells": [
  {
   "cell_type": "code",
   "execution_count": 1,
   "id": "brazilian-casino",
   "metadata": {},
   "outputs": [],
   "source": [
    "import pandas as pd\n",
    "import numpy as np\n",
    "import seaborn as sns\n",
    "\n",
    "import warnings\n",
    "warnings.filterwarnings('ignore')\n",
    "\n",
    "import matplotlib.pyplot as plt\n",
    "import seaborn as sns\n",
    "\n",
    "pd.set_option(\"display.max_rows\", None, \"display.max_columns\", None)"
   ]
  },
  {
   "cell_type": "code",
   "execution_count": 2,
   "id": "appreciated-arctic",
   "metadata": {},
   "outputs": [
    {
     "data": {
      "text/plain": [
       "60964.2"
      ]
     },
     "execution_count": 2,
     "metadata": {},
     "output_type": "execute_result"
    }
   ],
   "source": [
    "train = pd.read_csv(\"data/Train.csv\", parse_dates=['Date_Customer'])\n",
    "test = pd.read_csv(\"data/Test.csv\", parse_dates=['Date_Customer'])\n",
    "\n",
    "train.Disposable_Income.median()"
   ]
  },
  {
   "cell_type": "code",
   "execution_count": 3,
   "id": "still-factor",
   "metadata": {},
   "outputs": [],
   "source": [
    "train.Disposable_Income.fillna( train.Disposable_Income.median(), inplace=True)\n",
    "test.Disposable_Income.fillna( test.Disposable_Income.median(), inplace= True)\n",
    "\n",
    "train['year'] = train.Date_Customer.dt.year\n",
    "train['month'] = train.Date_Customer.dt.month\n",
    "train['quater'] = train.Date_Customer.dt.quarter\n",
    "\n",
    "test['year'] = test.Date_Customer.dt.year\n",
    "test['month'] = test.Date_Customer.dt.month\n",
    "test['quater'] = test.Date_Customer.dt.quarter\n",
    "\n",
    "today = pd.to_datetime('2015-1-1')\n",
    "\n",
    "train['duration_days'] = (today - train['Date_Customer']).dt.days\n",
    "train['duration_months'] = ((today- train.Date_Customer)/np.timedelta64(1, 'M'))\n",
    "train['duration_months'] = train['duration_months'].astype(int)\n",
    "\n",
    "train['is_month_end'] = train.Date_Customer.dt.is_month_end.astype(int)\n",
    "train['is_month_start'] = train.Date_Customer.dt.is_month_start.astype(int)\n",
    "\n",
    "test['duration_days'] = (today - test['Date_Customer']).dt.days\n",
    "test['duration_months'] = ((today- test.Date_Customer)/np.timedelta64(1, 'M'))\n",
    "test['duration_months'] = test['duration_months'].astype(int)\n",
    "\n",
    "test['is_month_end'] = test.Date_Customer.dt.is_month_end.astype(int)\n",
    "test['is_month_start'] = test.Date_Customer.dt.is_month_start.astype(int)\n",
    "\n",
    "train = train.drop(190)\n",
    "\n",
    "education = {\n",
    "    \"Graduation\": 1,\n",
    "    \"PhD\": 2,\n",
    "    \"Master\": 3,\n",
    "    \"2n Cycle\": 4,\n",
    "    \"Basic\": 5\n",
    "}\n",
    "\n",
    "train.Education_Level = train.Education_Level.map(education)\n",
    "test.Education_Level = test.Education_Level.map(education)\n",
    "\n",
    "feature = train.columns.drop(['Response', 'ID', 'Date_Customer'])\n",
    "\n",
    "\n",
    "mar = {\n",
    "    \"Married\"  :   1,\n",
    "\"Together\":    2,\n",
    "\"Single\":      3,\n",
    "\"Divorced\":    4,\n",
    "\"Widow\":        5,\n",
    "\"Alone\":         6,\n",
    "\"YOLO\":          7,\n",
    "\"Absurd\":        8\n",
    "\n",
    "}\n",
    "\n",
    "train.Marital_Status = train.Marital_Status.map(mar)\n",
    "test.Marital_Status = test.Marital_Status.map(mar)"
   ]
  },
  {
   "cell_type": "code",
   "execution_count": 4,
   "id": "atomic-scout",
   "metadata": {},
   "outputs": [
    {
     "data": {
      "text/plain": [
       "Index(['ID', 'Year_of_Birth', 'Education_Level', 'Marital_Status',\n",
       "       'Disposable_Income', 'No_of_Kids_in_home', 'No_of_Teen_in_home',\n",
       "       'Date_Customer', 'Recency', 'Discounted_Purchases', 'WebPurchases',\n",
       "       'CatalogPurchases', 'StorePurchases', 'Amount_on_Wines',\n",
       "       'Amount_on_Fruits', 'Amount_on_MeatProducts', 'Amount_on_FishProducts',\n",
       "       'Amount_on_SweetProducts', 'Amount_on_GoldProds', 'WebVisitsMonth',\n",
       "       'Cmp3Accepted', 'Cmp4Accepted', 'Cmp5Accepted', 'Cmp1Accepted',\n",
       "       'Cmp2Accepted', 'Any_Complain', 'year', 'month', 'quater',\n",
       "       'duration_days', 'duration_months', 'is_month_end', 'is_month_start'],\n",
       "      dtype='object')"
      ]
     },
     "execution_count": 4,
     "metadata": {},
     "output_type": "execute_result"
    }
   ],
   "source": [
    "test.columns"
   ]
  },
  {
   "cell_type": "code",
   "execution_count": 5,
   "id": "generous-processing",
   "metadata": {},
   "outputs": [
    {
     "data": {
      "text/plain": [
       "Index(['ID', 'Year_of_Birth', 'Education_Level', 'Marital_Status',\n",
       "       'Disposable_Income', 'No_of_Kids_in_home', 'No_of_Teen_in_home',\n",
       "       'Date_Customer', 'Recency', 'Discounted_Purchases', 'WebPurchases',\n",
       "       'CatalogPurchases', 'StorePurchases', 'Amount_on_Wines',\n",
       "       'Amount_on_Fruits', 'Amount_on_MeatProducts', 'Amount_on_FishProducts',\n",
       "       'Amount_on_SweetProducts', 'Amount_on_GoldProds', 'WebVisitsMonth',\n",
       "       'Cmp3Accepted', 'Cmp4Accepted', 'Cmp5Accepted', 'Cmp1Accepted',\n",
       "       'Cmp2Accepted', 'Any_Complain', 'Response', 'year', 'month', 'quater',\n",
       "       'duration_days', 'duration_months', 'is_month_end', 'is_month_start'],\n",
       "      dtype='object')"
      ]
     },
     "execution_count": 5,
     "metadata": {},
     "output_type": "execute_result"
    }
   ],
   "source": [
    "train.columns"
   ]
  },
  {
   "cell_type": "code",
   "execution_count": 6,
   "id": "growing-myrtle",
   "metadata": {},
   "outputs": [
    {
     "data": {
      "text/plain": [
       "Index(['ID', 'Year_of_Birth', 'Education_Level', 'Marital_Status',\n",
       "       'Disposable_Income', 'No_of_Kids_in_home', 'No_of_Teen_in_home',\n",
       "       'Date_Customer', 'Recency', 'Discounted_Purchases', 'WebPurchases',\n",
       "       'CatalogPurchases', 'StorePurchases', 'Amount_on_Wines',\n",
       "       'Amount_on_Fruits', 'Amount_on_MeatProducts', 'Amount_on_FishProducts',\n",
       "       'Amount_on_SweetProducts', 'Amount_on_GoldProds', 'WebVisitsMonth',\n",
       "       'Cmp3Accepted', 'Cmp4Accepted', 'Cmp5Accepted', 'Cmp1Accepted',\n",
       "       'Cmp2Accepted', 'Any_Complain', 'Response', 'year', 'month', 'quater',\n",
       "       'duration_days', 'duration_months', 'is_month_end', 'is_month_start'],\n",
       "      dtype='object')"
      ]
     },
     "execution_count": 6,
     "metadata": {},
     "output_type": "execute_result"
    }
   ],
   "source": [
    "train.columns"
   ]
  },
  {
   "cell_type": "code",
   "execution_count": 7,
   "id": "adequate-winning",
   "metadata": {},
   "outputs": [],
   "source": [
    "features = test.columns.drop(['Date_Customer', 'ID'])"
   ]
  },
  {
   "cell_type": "code",
   "execution_count": 8,
   "id": "remarkable-council",
   "metadata": {},
   "outputs": [],
   "source": [
    "test = test[features]"
   ]
  },
  {
   "cell_type": "code",
   "execution_count": 9,
   "id": "coupled-moderator",
   "metadata": {},
   "outputs": [],
   "source": [
    "test['Response'] = 'test'\n",
    "data = pd.concat([train, test]).reset_index(drop = True)"
   ]
  },
  {
   "cell_type": "code",
   "execution_count": 10,
   "id": "surprising-example",
   "metadata": {},
   "outputs": [
    {
     "data": {
      "text/plain": [
       "Index(['ID', 'Year_of_Birth', 'Education_Level', 'Marital_Status',\n",
       "       'Disposable_Income', 'No_of_Kids_in_home', 'No_of_Teen_in_home',\n",
       "       'Date_Customer', 'Recency', 'Discounted_Purchases', 'WebPurchases',\n",
       "       'CatalogPurchases', 'StorePurchases', 'Amount_on_Wines',\n",
       "       'Amount_on_Fruits', 'Amount_on_MeatProducts', 'Amount_on_FishProducts',\n",
       "       'Amount_on_SweetProducts', 'Amount_on_GoldProds', 'WebVisitsMonth',\n",
       "       'Cmp3Accepted', 'Cmp4Accepted', 'Cmp5Accepted', 'Cmp1Accepted',\n",
       "       'Cmp2Accepted', 'Any_Complain', 'Response', 'year', 'month', 'quater',\n",
       "       'duration_days', 'duration_months', 'is_month_end', 'is_month_start'],\n",
       "      dtype='object')"
      ]
     },
     "execution_count": 10,
     "metadata": {},
     "output_type": "execute_result"
    }
   ],
   "source": [
    "data.columns"
   ]
  },
  {
   "cell_type": "code",
   "execution_count": 11,
   "id": "arranged-shannon",
   "metadata": {},
   "outputs": [],
   "source": [
    "data['total_children'] = data['No_of_Kids_in_home'] + data['No_of_Teen_in_home']"
   ]
  },
  {
   "cell_type": "code",
   "execution_count": 12,
   "id": "friendly-recall",
   "metadata": {},
   "outputs": [],
   "source": [
    "poly_feature_1 = ['Discounted_Purchases', 'WebPurchases', 'CatalogPurchases',\n",
    "       'StorePurchases']\n",
    "poly_feature_2 = ['Amount_on_Wines', 'Amount_on_Fruits',\n",
    "       'Amount_on_MeatProducts', 'Amount_on_FishProducts',\n",
    "       'Amount_on_SweetProducts', 'Amount_on_GoldProds']"
   ]
  },
  {
   "cell_type": "code",
   "execution_count": 13,
   "id": "determined-absorption",
   "metadata": {},
   "outputs": [],
   "source": [
    "from sklearn.preprocessing import PolynomialFeatures"
   ]
  },
  {
   "cell_type": "code",
   "execution_count": 14,
   "id": "healthy-delaware",
   "metadata": {},
   "outputs": [],
   "source": [
    "poly = PolynomialFeatures(degree=2, interaction_only=True, include_bias=False)\n",
    "\n",
    "poly1 = poly.fit_transform(data[poly_feature_1])\n",
    "poly2 = poly.fit_transform(data[poly_feature_2])"
   ]
  },
  {
   "cell_type": "code",
   "execution_count": 15,
   "id": "engaging-services",
   "metadata": {},
   "outputs": [],
   "source": [
    "df_poly1 = pd.DataFrame(poly1, columns=[f\"poly1_{i}\" for i in range(poly1.shape[1])])\n",
    "df_poly2 = pd.DataFrame(poly2, columns=[f\"poly2_{i}\" for i in range(poly2.shape[1])])"
   ]
  },
  {
   "cell_type": "code",
   "execution_count": 16,
   "id": "modified-funds",
   "metadata": {},
   "outputs": [],
   "source": [
    "new_data = pd.concat([data, df_poly1], axis = 1)\n",
    "new_data = pd.concat([new_data, df_poly2], axis = 1)"
   ]
  },
  {
   "cell_type": "code",
   "execution_count": 17,
   "id": "downtown-choir",
   "metadata": {},
   "outputs": [],
   "source": [
    "# new_data = data.copy()"
   ]
  },
  {
   "cell_type": "code",
   "execution_count": 18,
   "id": "altered-square",
   "metadata": {},
   "outputs": [],
   "source": [
    "new_data['total_purchase'] = new_data[poly_feature_1].sum(axis = 1)\n",
    "new_data['total_amount_on'] = new_data[poly_feature_2].sum(axis = 1)"
   ]
  },
  {
   "cell_type": "code",
   "execution_count": 19,
   "id": "revolutionary-rebecca",
   "metadata": {},
   "outputs": [],
   "source": [
    "# new_data['year_month'] = \n",
    "new_data['year_month'] = new_data['year'].apply(str) + \"_\"  + new_data['month'].apply(str)"
   ]
  },
  {
   "cell_type": "code",
   "execution_count": 20,
   "id": "prostate-problem",
   "metadata": {},
   "outputs": [],
   "source": [
    "# (new_data['year'].apply(str) + \"_\"  + new_data['month'].apply(str)).value_counts()"
   ]
  },
  {
   "cell_type": "code",
   "execution_count": 21,
   "id": "private-network",
   "metadata": {},
   "outputs": [],
   "source": [
    "# bin_label = [1,2,3,4,5]\n",
    "new_data['Recency_bin'] = pd.qcut(new_data.Recency, q = [0, .2, .4, .6, .8, 1], labels=False)"
   ]
  },
  {
   "cell_type": "code",
   "execution_count": 22,
   "id": "incorrect-filing",
   "metadata": {},
   "outputs": [],
   "source": [
    "new_data['Recency' + '_mean_on_yr_mth'] = new_data['Recency'].groupby(new_data['year_month']).transform('mean')\n",
    "new_data['Recency' + '_std_on_yr_mth'] = new_data['Recency'].groupby(new_data['year_month']).transform('std')\n",
    "new_data['Recency' + '_max_on_yr_mth'] = new_data['Recency'].groupby(new_data['year_month']).transform('max')\n",
    "new_data['Recency' + '_min_on_yr_mth'] = new_data['Recency'].groupby(new_data['year_month']).transform('min')\n",
    "\n",
    "# new_data.head(12)"
   ]
  },
  {
   "cell_type": "code",
   "execution_count": 23,
   "id": "quiet-moses",
   "metadata": {},
   "outputs": [],
   "source": [
    "new_data['year_month_int'], _ = pd.factorize(new_data['year_month'])"
   ]
  },
  {
   "cell_type": "code",
   "execution_count": 24,
   "id": "plastic-electric",
   "metadata": {},
   "outputs": [],
   "source": [
    "# df_poly1.colu"
   ]
  },
  {
   "cell_type": "code",
   "execution_count": 25,
   "id": "amino-baseball",
   "metadata": {},
   "outputs": [],
   "source": [
    "# new_data['year_month_int']"
   ]
  },
  {
   "cell_type": "code",
   "execution_count": 26,
   "id": "alternate-complex",
   "metadata": {},
   "outputs": [
    {
     "data": {
      "text/plain": [
       "Index(['ID', 'Year_of_Birth', 'Education_Level', 'Marital_Status',\n",
       "       'Disposable_Income', 'No_of_Kids_in_home', 'No_of_Teen_in_home',\n",
       "       'Date_Customer', 'Recency', 'Discounted_Purchases', 'WebPurchases',\n",
       "       'CatalogPurchases', 'StorePurchases', 'Amount_on_Wines',\n",
       "       'Amount_on_Fruits', 'Amount_on_MeatProducts', 'Amount_on_FishProducts',\n",
       "       'Amount_on_SweetProducts', 'Amount_on_GoldProds', 'WebVisitsMonth',\n",
       "       'Cmp3Accepted', 'Cmp4Accepted', 'Cmp5Accepted', 'Cmp1Accepted',\n",
       "       'Cmp2Accepted', 'Any_Complain', 'Response', 'year', 'month', 'quater',\n",
       "       'duration_days', 'duration_months', 'is_month_end', 'is_month_start',\n",
       "       'total_children', 'poly1_0', 'poly1_1', 'poly1_2', 'poly1_3', 'poly1_4',\n",
       "       'poly1_5', 'poly1_6', 'poly1_7', 'poly1_8', 'poly1_9', 'poly2_0',\n",
       "       'poly2_1', 'poly2_2', 'poly2_3', 'poly2_4', 'poly2_5', 'poly2_6',\n",
       "       'poly2_7', 'poly2_8', 'poly2_9', 'poly2_10', 'poly2_11', 'poly2_12',\n",
       "       'poly2_13', 'poly2_14', 'poly2_15', 'poly2_16', 'poly2_17', 'poly2_18',\n",
       "       'poly2_19', 'poly2_20', 'total_purchase', 'total_amount_on',\n",
       "       'year_month', 'Recency_bin', 'Recency_mean_on_yr_mth',\n",
       "       'Recency_std_on_yr_mth', 'Recency_max_on_yr_mth',\n",
       "       'Recency_min_on_yr_mth', 'year_month_int'],\n",
       "      dtype='object')"
      ]
     },
     "execution_count": 26,
     "metadata": {},
     "output_type": "execute_result"
    }
   ],
   "source": [
    "new_data.columns"
   ]
  },
  {
   "cell_type": "code",
   "execution_count": 37,
   "id": "assigned-reporter",
   "metadata": {},
   "outputs": [],
   "source": [
    "features = new_data.select_dtypes(include = 'number').columns"
   ]
  },
  {
   "cell_type": "code",
   "execution_count": 50,
   "id": "continuing-concert",
   "metadata": {},
   "outputs": [
    {
     "data": {
      "text/plain": [
       "Index(['Year_of_Birth', 'Education_Level', 'Marital_Status',\n",
       "       'Disposable_Income', 'No_of_Kids_in_home', 'No_of_Teen_in_home',\n",
       "       'Recency', 'Discounted_Purchases', 'WebPurchases', 'CatalogPurchases',\n",
       "       'StorePurchases', 'Amount_on_Wines', 'Amount_on_Fruits',\n",
       "       'Amount_on_MeatProducts', 'Amount_on_FishProducts',\n",
       "       'Amount_on_SweetProducts', 'Amount_on_GoldProds', 'WebVisitsMonth',\n",
       "       'Cmp3Accepted', 'Cmp4Accepted', 'Cmp5Accepted', 'Cmp1Accepted',\n",
       "       'Cmp2Accepted', 'Any_Complain', 'year', 'month', 'quater',\n",
       "       'duration_days', 'duration_months', 'is_month_end', 'is_month_start',\n",
       "       'total_children', 'poly1_0', 'poly1_1', 'poly1_2', 'poly1_3', 'poly1_4',\n",
       "       'poly1_5', 'poly1_6', 'poly1_7', 'poly1_8', 'poly1_9', 'poly2_0',\n",
       "       'poly2_1', 'poly2_2', 'poly2_3', 'poly2_4', 'poly2_5', 'poly2_6',\n",
       "       'poly2_7', 'poly2_8', 'poly2_9', 'poly2_10', 'poly2_11', 'poly2_12',\n",
       "       'poly2_13', 'poly2_14', 'poly2_15', 'poly2_16', 'poly2_17', 'poly2_18',\n",
       "       'poly2_19', 'poly2_20', 'total_purchase', 'total_amount_on',\n",
       "       'Recency_bin', 'Recency_mean_on_yr_mth', 'Recency_std_on_yr_mth',\n",
       "       'Recency_max_on_yr_mth', 'Recency_min_on_yr_mth', 'year_month_int'],\n",
       "      dtype='object')"
      ]
     },
     "execution_count": 50,
     "metadata": {},
     "output_type": "execute_result"
    }
   ],
   "source": [
    "features"
   ]
  },
  {
   "cell_type": "code",
   "execution_count": 39,
   "id": "increasing-reading",
   "metadata": {},
   "outputs": [],
   "source": [
    "# new_data.isna().sum()"
   ]
  },
  {
   "cell_type": "code",
   "execution_count": 40,
   "id": "sharp-launch",
   "metadata": {},
   "outputs": [],
   "source": [
    "train_df = new_data.loc[(new_data['Response'] != 'test')].reset_index(drop = True)\n",
    "test_df = new_data.loc[(new_data['Response'] == 'test')].reset_index(drop = True)"
   ]
  },
  {
   "cell_type": "code",
   "execution_count": 41,
   "id": "monthly-closing",
   "metadata": {},
   "outputs": [],
   "source": [
    "train_df['Response'] = train_df['Response'].apply(int)"
   ]
  },
  {
   "cell_type": "code",
   "execution_count": 42,
   "id": "parallel-official",
   "metadata": {},
   "outputs": [],
   "source": [
    "target = 'Response'"
   ]
  },
  {
   "cell_type": "code",
   "execution_count": 43,
   "id": "adaptive-petroleum",
   "metadata": {},
   "outputs": [],
   "source": [
    "from catboost import CatBoostClassifier\n",
    "from sklearn.model_selection import StratifiedKFold\n",
    "from sklearn.metrics import log_loss, f1_score\n",
    "from xgboost import XGBClassifier\n",
    "from lightgbm import LGBMClassifier\n",
    "from sklearn.model_selection import train_test_split, cross_val_score"
   ]
  },
  {
   "cell_type": "code",
   "execution_count": 44,
   "id": "current-premiere",
   "metadata": {},
   "outputs": [],
   "source": [
    "X = train_df[features]\n",
    "y = train_df[target]"
   ]
  },
  {
   "cell_type": "code",
   "execution_count": 45,
   "id": "organizational-elite",
   "metadata": {},
   "outputs": [],
   "source": [
    "X_train, X_test, y_train, y_test = train_test_split(X, y, test_size=0.2, random_state=42)"
   ]
  },
  {
   "cell_type": "code",
   "execution_count": 46,
   "id": "accepted-identifier",
   "metadata": {},
   "outputs": [
    {
     "name": "stdout",
     "output_type": "stream",
     "text": [
      "0.5617977528089888\n"
     ]
    }
   ],
   "source": [
    "model = XGBClassifier(scale_pos_weight = 8,max_depth = 8, n_estimators = 500, eval_metric = 'logloss')\n",
    "model.fit(X_train, y_train)\n",
    "prediction = model.predict(X_test)\n",
    "\n",
    "print(f1_score(prediction, y_test))"
   ]
  },
  {
   "cell_type": "code",
   "execution_count": 47,
   "id": "finished-twenty",
   "metadata": {},
   "outputs": [],
   "source": [
    "from imblearn.over_sampling import SMOTE\n",
    "\n",
    "sm = SMOTE(random_state=42)\n",
    "X_train_res, y_train_res = sm.fit_resample(X_train, y_train)"
   ]
  },
  {
   "cell_type": "code",
   "execution_count": 48,
   "id": "animal-foundation",
   "metadata": {},
   "outputs": [
    {
     "name": "stdout",
     "output_type": "stream",
     "text": [
      "0.5263157894736842\n"
     ]
    }
   ],
   "source": [
    "model = LGBMClassifier(scale_pos_weight = 1,max_depth=6, n_estimators = 1000, learning_rate=0.01)\n",
    "model.fit(X_train_res, y_train_res)\n",
    "prediction = model.predict(X_test)\n",
    "\n",
    "print(f1_score(prediction, y_test))"
   ]
  },
  {
   "cell_type": "code",
   "execution_count": 49,
   "id": "hired-hearts",
   "metadata": {},
   "outputs": [],
   "source": [
    "def eval_metric(y, pred):\n",
    "#     return log_loss(y, pred, labels=[0, 1])\n",
    "    return f1_score(y, pred)\n",
    "\n",
    "k = 10\n",
    "kf = StratifiedKFold(k)\n",
    "\n",
    "# params = {\n",
    "#     'n_estimators': 1000,\n",
    "#     'learning_rate': 0.1,\n",
    "#     'objective': 'CrossEntropy',\n",
    "#     'rsm': 0.7,\n",
    "#     'random_seed': 0,\n",
    "#     'early_stopping_rounds': 300,\n",
    "#     'use_best_model': True,\n",
    "# #     'metrics': 'F1',\n",
    "# }\n",
    "\n",
    "# params = {\n",
    "#     'learning_rate': 0.024,\n",
    "#     'depth': 4,\n",
    "#     'l2_leaf_reg': 3.0,\n",
    "#     'min_child_samples': 1,\n",
    "#     'colsample_bylevel': 0.010217852176927477,\n",
    "#     'scale_pos_weight': 5,\n",
    "#     'bootstrap_type': 'Bayesian',\n",
    "#     'use_best_model': True,\n",
    "\n",
    "# }\n",
    "\n",
    "# params = {'learning_rate': 0.17189002889743385,\n",
    "#  'reg_lambda': 88.96105444304975,\n",
    "#  'reg_alpha': 3.246030226067426e-05,\n",
    "#  'subsample': 0.4245917826890226,\n",
    "#  'colsample_bytree': 0.6017070515886215,\n",
    "#  'max_depth': 5,\n",
    "#  'scale_pos_weight': 8}"
   ]
  },
  {
   "cell_type": "code",
   "execution_count": 160,
   "id": "actual-david",
   "metadata": {
    "jupyter": {
     "source_hidden": true
    }
   },
   "outputs": [
    {
     "data": {
      "text/plain": [
       "(71,)"
      ]
     },
     "execution_count": 160,
     "metadata": {},
     "output_type": "execute_result"
    }
   ],
   "source": [
    "features.shape"
   ]
  },
  {
   "cell_type": "code",
   "execution_count": 195,
   "id": "incorrect-pathology",
   "metadata": {},
   "outputs": [
    {
     "data": {
      "text/plain": [
       "30"
      ]
     },
     "execution_count": 195,
     "metadata": {},
     "output_type": "execute_result"
    }
   ],
   "source": [
    "len(new_feat)"
   ]
  },
  {
   "cell_type": "code",
   "execution_count": 53,
   "id": "polished-mirror",
   "metadata": {},
   "outputs": [],
   "source": [
    "#   Value: 0.6504678443688615\n",
    "#   Params: \n",
    "#     learning_rate: 0.024\n",
    "#     depth: 4\n",
    "#     l2_leaf_reg: 3.0\n",
    "#     min_child_samples: 1\n",
    "#     colsample_bylevel: 0.010217852176927477\n",
    "#     scale_pos_weight: 5\n",
    "#     bootstrap_type: Bayesian"
   ]
  },
  {
   "cell_type": "code",
   "execution_count": null,
   "id": "incoming-amber",
   "metadata": {},
   "outputs": [],
   "source": [
    "train_df = X"
   ]
  },
  {
   "cell_type": "code",
   "execution_count": 103,
   "id": "suffering-grammar",
   "metadata": {},
   "outputs": [
    {
     "name": "stdout",
     "output_type": "stream",
     "text": [
      "1.3.3\n"
     ]
    }
   ],
   "source": [
    "import xgboost\n",
    "print(xgboost.__version__)"
   ]
  },
  {
   "cell_type": "code",
   "execution_count": null,
   "id": "democratic-committee",
   "metadata": {},
   "outputs": [],
   "source": []
  },
  {
   "cell_type": "code",
   "execution_count": 54,
   "id": "sticky-gregory",
   "metadata": {},
   "outputs": [],
   "source": [
    "# new_feat = feature_importance_df.sort_values(by = ['importance'], ascending = False).head(30)['feature'].to_list()\n",
    "# new_feat = features"
   ]
  },
  {
   "cell_type": "code",
   "execution_count": 81,
   "id": "peripheral-living",
   "metadata": {},
   "outputs": [],
   "source": [
    "from imblearn.over_sampling import SMOTE\n",
    "sm =SMOTE(sampling_strategy={1:300, 0:1400},random_state=50)\n",
    "#     sm = SMOTE(random_state=42)\n",
    "X_, y_ = sm.fit_resample(train_df[features], train_df[target])"
   ]
  },
  {
   "cell_type": "code",
   "execution_count": 96,
   "id": "separate-latest",
   "metadata": {},
   "outputs": [
    {
     "name": "stdout",
     "output_type": "stream",
     "text": [
      "err:  0.983050847457627\n",
      "err:  0.9917355371900827\n",
      "err:  0.9833333333333333\n",
      "err:  0.9672131147540983\n",
      "err:  0.7843137254901961\n",
      "0.9419293116450674\n"
     ]
    }
   ],
   "source": [
    "errcb2=[]\n",
    "y_pred_totcb2=[]\n",
    "\n",
    "params = {'learning_rate': 0.3,\n",
    "#  'subsample': 0.7845527188607021,\n",
    "#  'colsample_bytree': 0.6474680443294045,\n",
    " 'max_depth': 8,\n",
    " 'scale_pos_weight': 1}\n",
    "fold=StratifiedKFold(n_splits=5)#15#5#10\n",
    "i=1\n",
    "for train_index, test_index in fold.split(X_,y_):\n",
    "        \n",
    "    X_train, X_test = X_.iloc[train_index], X_.iloc[test_index]\n",
    "    y_train, y_test = y_.iloc[train_index], y_.iloc[test_index]\n",
    "#     sm = SMOTE(k_neighbors=7)\n",
    "#     X_train_oversampled, y_train_oversampled = sm.fit_resample(X_train, y_train)\n",
    "#     m2  = XGBClassifier(   n_estimators=500, random_seed= 42, use_best_model=True, scale_pos_weight = 5, max_depth = 4)\n",
    "    m2 = LGBMClassifier(**params, eval_metric = 'logloss', n_estimators=1000)\n",
    "#     m2 = XGBClassifier(n_estimators=500, scale_pos_weight = 4)\n",
    "#         m2 = XGBClassifier(**param)\n",
    "    \n",
    "#     m2 = LGBMClassifier(silent=True, n_estimators=1500, learning_rate = 0.01, scale_pos_weight = 8, max_depth = 9, subsample=0.5)\n",
    "    m2.fit(X_train_oversampled,y_train_oversampled,eval_set=[(X_train_oversampled,y_train_oversampled),(X_test, y_test)], early_stopping_rounds=300, verbose = False)#erly100\n",
    "    preds=m2.predict(X_test)\n",
    "    print(\"err: \",(f1_score(y_test,preds)))\n",
    "    errcb2.append(f1_score(y_test,preds))\n",
    "    p2 = m2.predict_proba(test_df[features])[:, -1]\n",
    "    y_pred_totcb2.append(p2)\n",
    "    \n",
    "\n",
    "print(np.mean(errcb2))"
   ]
  },
  {
   "cell_type": "code",
   "execution_count": 97,
   "id": "mathematical-diesel",
   "metadata": {},
   "outputs": [],
   "source": [
    "pred = np.mean(y_pred_totcb2, axis = 0)"
   ]
  },
  {
   "cell_type": "code",
   "execution_count": 98,
   "id": "confident-insertion",
   "metadata": {},
   "outputs": [],
   "source": [
    "pred = np.where(pred > 0.5, 1, 0)"
   ]
  },
  {
   "cell_type": "code",
   "execution_count": 100,
   "id": "hungarian-duncan",
   "metadata": {},
   "outputs": [],
   "source": [
    "sub = pd.read_csv('data/SampleSubmission.csv')"
   ]
  },
  {
   "cell_type": "code",
   "execution_count": 101,
   "id": "leading-spank",
   "metadata": {},
   "outputs": [],
   "source": [
    "sub.Response = pred"
   ]
  },
  {
   "cell_type": "code",
   "execution_count": 102,
   "id": "speaking-giving",
   "metadata": {},
   "outputs": [],
   "source": [
    "sub.to_csv('smote3.csv', index = False)"
   ]
  },
  {
   "cell_type": "code",
   "execution_count": null,
   "id": "varying-furniture",
   "metadata": {},
   "outputs": [],
   "source": [
    "Avg log :  0.6410329899405849"
   ]
  },
  {
   "cell_type": "code",
   "execution_count": 199,
   "id": "genetic-spotlight",
   "metadata": {},
   "outputs": [
    {
     "data": {
      "text/plain": [
       "Text(0.5, 1.0, 'CatboostClassifier features importance (top 50):')"
      ]
     },
     "execution_count": 199,
     "metadata": {},
     "output_type": "execute_result"
    },
    {
     "data": {
      "image/png": "[encoded data removed]",
      "text/plain": [
       "<Figure size 1440x864 with 1 Axes>"
      ]
     },
     "metadata": {
      "needs_background": "light"
     },
     "output_type": "display_data"
    }
   ],
   "source": [
    "# 0.7831404345536787\n",
    "feature_importance_df = pd.DataFrame(model.feature_importances_, columns=['importance'])\n",
    "feature_importance_df['feature'] = new_data[features].columns\n",
    "\n",
    "plt.figure(figsize=(20, 12));\n",
    "sns.barplot(x=\"importance\", y=\"feature\", data=feature_importance_df.sort_values(by = ['importance'], ascending = False).head(60))\n",
    "plt.title('CatboostClassifier features importance (top 50):')"
   ]
  },
  {
   "cell_type": "code",
   "execution_count": 148,
   "id": "funny-serial",
   "metadata": {},
   "outputs": [],
   "source": [
    "new_feat = feature_importance_df.sort_values(by = ['importance'], ascending = False).head(50)['feature'].to_list()"
   ]
  },
  {
   "cell_type": "code",
   "execution_count": 70,
   "id": "adjusted-concern",
   "metadata": {},
   "outputs": [],
   "source": [
    "# # 0.7831404345536787\n",
    "# feature_importance_df = pd.DataFrame(model.feature_importances_, columns=['importance'])\n",
    "# feature_importance_df['feature'] = new_data[features].columns\n",
    "\n",
    "# plt.figure(figsize=(20, 12));\n",
    "# sns.barplot(x=\"importance\", y=\"feature\", data=feature_importance_df.sort_values(by = ['importance'], ascending = False).head(70))\n",
    "# plt.title('CatboostClassifier features importance (top 50):')"
   ]
  },
  {
   "cell_type": "code",
   "execution_count": 71,
   "id": "pointed-cancer",
   "metadata": {},
   "outputs": [],
   "source": [
    "# # 0.7831404345536787\n",
    "# feature_importance_df = pd.DataFrame(model.feature_importances_, columns=['importance'])\n",
    "# feature_importance_df['feature'] = new_data[features].columns\n",
    "\n",
    "# plt.figure(figsize=(20, 12));\n",
    "# sns.barplot(x=\"importance\", y=\"feature\", data=feature_importance_df.sort_values(by = ['importance'], ascending = False).head(70))\n",
    "# plt.title('CatboostClassifier features importance (top 50):')"
   ]
  },
  {
   "cell_type": "code",
   "execution_count": 77,
   "id": "approved-marketplace",
   "metadata": {},
   "outputs": [],
   "source": [
    "import optuna"
   ]
  },
  {
   "cell_type": "code",
   "execution_count": 43,
   "id": "virgin-reality",
   "metadata": {},
   "outputs": [],
   "source": [
    "X = train_df[features]\n",
    "y = train_df[target]"
   ]
  },
  {
   "cell_type": "code",
   "execution_count": 184,
   "id": "devoted-domestic",
   "metadata": {},
   "outputs": [],
   "source": [
    "X = train_df[new_feat2]"
   ]
  },
  {
   "cell_type": "code",
   "execution_count": 44,
   "id": "painted-origin",
   "metadata": {},
   "outputs": [],
   "source": [
    "def objective(trial):\n",
    "    errcb2=[]\n",
    "    y_pred_totcb2=[]\n",
    "\n",
    "\n",
    "    param = {}\n",
    "    param['objective'] = \"Logloss\"\n",
    "    param['learning_rate'] = trial.suggest_discrete_uniform(\"learning_rate\", 0.001, 0.1, 0.001)\n",
    "    param['depth'] = trial.suggest_int('depth', 3, 15)\n",
    "    param['l2_leaf_reg'] = trial.suggest_discrete_uniform('l2_leaf_reg', 1.0, 5.5, 0.5)\n",
    "    param['min_child_samples'] = trial.suggest_categorical('min_child_samples', [1, 4, 8, 16, 32])\n",
    "    param['iterations'] = trial.suggest_discrete_uniform(\"iterations\", 200, 2000, 50)\n",
    "    param['use_best_model'] = True\n",
    "    param[\"colsample_bylevel\"] =  trial.suggest_float(\"colsample_bylevel\", 0.01, 0.1)\n",
    "    param['random_state'] = 0\n",
    "    param['scale_pos_weight'] = trial.suggest_int('scale_pos_weight', 1, 10)\n",
    "    param['bootstrap_type'] = trial.suggest_categorical(\"bootstrap_type\", [\"Bayesian\", \"Bernoulli\", \"MVS\"])\n",
    "    param['logging_level'] = 'Silent'\n",
    "\n",
    "\n",
    "\n",
    "\n",
    "    fold=StratifiedKFold(n_splits=5)#15#5#10\n",
    "    i=1\n",
    "    for train_index, test_index in fold.split(X,y):\n",
    "        \n",
    "        X_train, X_test = X.iloc[train_index], X.iloc[test_index]\n",
    "        y_train, y_test = y.iloc[train_index], y.iloc[test_index]\n",
    "#     m2  = XGBClassifier(   n_estimators=500, random_seed= 42, use_best_model=True, scale_pos_weight = 5, max_depth = 4)\n",
    "        m2 = CatBoostClassifier(**param)\n",
    "#         m2 = XGBClassifier(**param)\n",
    "    \n",
    "#     m2 = LGBMClassifier(silent=True, n_estimators=1500, learning_rate = 0.01, scale_pos_weight = 8, max_depth = 9, subsample=0.5)\n",
    "        m2.fit(X_train,y_train,eval_set=[(X_train,y_train),(X_test, y_test)], early_stopping_rounds=500, verbose = False)#erly100\n",
    "        preds=m2.predict(X_test)\n",
    "#         print(\"err: \",np.sqrt(f1_score(y_test,preds)))\n",
    "        errcb2.append(f1_score(y_test,preds))\n",
    "#     p2 = m2.predict(test[feature])\n",
    "#     y_pred_totcb2.append(p2)\n",
    "    \n",
    "\n",
    "    return np.mean(errcb2)"
   ]
  },
  {
   "cell_type": "code",
   "execution_count": null,
   "id": "according-phenomenon",
   "metadata": {
    "scrolled": true
   },
   "outputs": [],
   "source": [
    "study = optuna.create_study(direction=\"maximize\")\n",
    "study.optimize(objective, n_trials=10000)"
   ]
  },
  {
   "cell_type": "code",
   "execution_count": 75,
   "id": "narrow-branch",
   "metadata": {},
   "outputs": [],
   "source": [
    "# print(\"Number of finished trials: {}\".format(len(study.trials)))\n",
    "\n",
    "# print(\"Best trial:\")\n",
    "# trial = study.best_trial\n",
    "\n",
    "# print(\"  Value: {}\".format(trial.value))\n",
    "\n",
    "# print(\"  Params: \")\n",
    "# for key, value in trial.params.items():\n",
    "#     print(\"    {}: {}\".format(key, value))"
   ]
  },
  {
   "cell_type": "code",
   "execution_count": 183,
   "id": "complicated-bidder",
   "metadata": {},
   "outputs": [],
   "source": [
    "new_feat2 = ['Year_of_Birth', 'Education_Level', 'Marital_Status',\n",
    "       'Disposable_Income', 'No_of_Kids_in_home', 'No_of_Teen_in_home',\n",
    "       'Recency', 'Discounted_Purchases', 'WebPurchases', 'CatalogPurchases',\n",
    "       'StorePurchases', 'Amount_on_Wines', 'Amount_on_Fruits',\n",
    "       'Amount_on_MeatProducts', 'Amount_on_FishProducts',\n",
    "       'Amount_on_SweetProducts', 'Amount_on_GoldProds', 'WebVisitsMonth',\n",
    "       'Cmp3Accepted', 'Cmp4Accepted', 'Cmp5Accepted', 'Cmp1Accepted',\n",
    "       'Cmp2Accepted', 'Any_Complain', 'year', 'month', 'quater',\n",
    "       'duration_days', 'duration_months', 'is_month_end', 'is_month_start']"
   ]
  },
  {
   "cell_type": "code",
   "execution_count": 187,
   "id": "featured-nowhere",
   "metadata": {},
   "outputs": [],
   "source": [
    "def objective(trial):\n",
    "    errcb2=[]\n",
    "    y_pred_totcb2=[]\n",
    "\n",
    "\n",
    "    param = {}\n",
    "#     param['objective'] = \"Logloss\"\n",
    "#     param['learning_rate'] = trial.suggest_discrete_uniform(\"learning_rate\", 0.001, 0.1, 0.001)\n",
    "#     param['depth'] = trial.suggest_int('depth', 3, 15)\n",
    "#     param['l2_leaf_reg'] = trial.suggest_discrete_uniform('l2_leaf_reg', 1.0, 5.5, 0.5)\n",
    "#     param['min_child_samples'] = trial.suggest_categorical('min_child_samples', [1, 4, 8, 16, 32])\n",
    "#     param['iterations'] = trial.suggest_discrete_uniform(\"iterations\", 200, 2000, 50)\n",
    "#     param['use_best_model'] = True\n",
    "#     param[\"colsample_bylevel\"] =  trial.suggest_float(\"colsample_bylevel\", 0.01, 0.1)\n",
    "#     param['random_state'] = 0\n",
    "    \n",
    "#     param['bootstrap_type'] = trial.suggest_categorical(\"bootstrap_type\", [\"Bayesian\", \"Bernoulli\", \"MVS\"])\n",
    "#     param['logging_level'] = 'Silent'\n",
    "    \n",
    "    param[\"learning_rate\"] = trial.suggest_float(\"learning_rate\", 1e-2, 0.25, log=True)\n",
    "#     param['reg_lambda'] = trial.suggest_loguniform(\"reg_lambda\", 1e-8, 100.0)\n",
    "#     param['reg_alpha'] = trial.suggest_loguniform(\"reg_alpha\", 1e-8, 100.0)\n",
    "    param['subsample'] = trial.suggest_float(\"subsample\", 0.1, 1.0)\n",
    "    param['colsample_bytree'] = trial.suggest_float(\"colsample_bytree\", 0.1, 1.0)\n",
    "    param['max_depth'] = trial.suggest_int(\"max_depth\", 5, 20)\n",
    "    param['scale_pos_weight'] = trial.suggest_int('scale_pos_weight', 3, 10)\n",
    "#     param['eval_metric'] = 'logloss'\n",
    "\n",
    "\n",
    "\n",
    "\n",
    "    fold=StratifiedKFold(n_splits=5)#15#5#10\n",
    "    i=1\n",
    "    for train_index, test_index in fold.split(X,y):\n",
    "        \n",
    "        X_train, X_test = X.iloc[train_index], X.iloc[test_index]\n",
    "        y_train, y_test = y.iloc[train_index], y.iloc[test_index]\n",
    "#     m2  = XGBClassifier(   n_estimators=500, random_seed= 42, use_best_model=True, scale_pos_weight = 5, max_depth = 4)\n",
    "        m2 = LGBMClassifier(**param ,n_estimators=10000)\n",
    "#         m2 = XGBClassifier(**param)\n",
    "    \n",
    "#     m2 = LGBMClassifier(silent=True, n_estimators=1500, learning_rate = 0.01, scale_pos_weight = 8, max_depth = 9, subsample=0.5)\n",
    "        m2.fit(X_train,y_train,eval_set=[(X_train,y_train),(X_test, y_test)], early_stopping_rounds=300, verbose = False)#erly100\n",
    "        preds=m2.predict(X_test)\n",
    "#         print(\"err: \",np.sqrt(f1_score(y_test,preds)))\n",
    "        errcb2.append(f1_score(y_test,preds))\n",
    "#     p2 = m2.predict(test[feature])\n",
    "#     y_pred_totcb2.append(p2)\n",
    "    \n",
    "\n",
    "    return np.mean(errcb2)"
   ]
  },
  {
   "cell_type": "code",
   "execution_count": null,
   "id": "aggressive-associate",
   "metadata": {
    "scrolled": true
   },
   "outputs": [],
   "source": [
    "study = optuna.create_study(direction=\"maximize\")\n",
    "study.optimize(objective, n_trials=10000)"
   ]
  },
  {
   "cell_type": "code",
   "execution_count": 137,
   "id": "native-carnival",
   "metadata": {},
   "outputs": [
    {
     "name": "stdout",
     "output_type": "stream",
     "text": [
      "Number of finished trials: 50\n",
      "Best trial:\n",
      "  Value: 0.6409386972699005\n",
      "  Params: \n",
      "    learning_rate: 0.17189002889743385\n",
      "    reg_lambda: 88.96105444304975\n",
      "    reg_alpha: 3.246030226067426e-05\n",
      "    subsample: 0.4245917826890226\n",
      "    colsample_bytree: 0.6017070515886215\n",
      "    max_depth: 5\n",
      "    scale_pos_weight: 8\n"
     ]
    }
   ],
   "source": [
    "print(\"Number of finished trials: {}\".format(len(study.trials)))\n",
    "\n",
    "print(\"Best trial:\")\n",
    "trial = study.best_trial\n",
    "\n",
    "print(\"  Value: {}\".format(trial.value))\n",
    "\n",
    "print(\"  Params: \")\n",
    "for key, value in trial.params.items():\n",
    "    print(\"    {}: {}\".format(key, value))"
   ]
  },
  {
   "cell_type": "code",
   "execution_count": 138,
   "id": "alert-composite",
   "metadata": {},
   "outputs": [
    {
     "data": {
      "text/plain": [
       "{'learning_rate': 0.17189002889743385,\n",
       " 'reg_lambda': 88.96105444304975,\n",
       " 'reg_alpha': 3.246030226067426e-05,\n",
       " 'subsample': 0.4245917826890226,\n",
       " 'colsample_bytree': 0.6017070515886215,\n",
       " 'max_depth': 5,\n",
       " 'scale_pos_weight': 8}"
      ]
     },
     "execution_count": 138,
     "metadata": {},
     "output_type": "execute_result"
    }
   ],
   "source": [
    "trial.params"
   ]
  },
  {
   "cell_type": "code",
   "execution_count": null,
   "id": "egyptian-action",
   "metadata": {},
   "outputs": [],
   "source": [
    "errcb2=[]\n",
    "y_pred_totcb2=[]\n",
    "\n",
    "# param = {'learning_rate': 0.04727378849339339,\n",
    "#  'reg_lambda': 0.00016849354710582758,\n",
    "#  'reg_alpha': 8.87809309843409e-05,\n",
    "#  'subsample': 0.7571962972282198,\n",
    "#  'colsample_bytree': 0.9447906803804901,\n",
    "#  'max_depth': 2,\n",
    "#  'scale_pos_weight': 8}\n",
    "param = {'learning_rate': 0.017607944236537856,\n",
    " 'reg_lambda': 4.820815992854445e-05,\n",
    " 'reg_alpha': 4.477109243679438e-05,\n",
    " 'subsample': 0.9514920089965258,\n",
    " 'colsample_bytree': 0.560450228453528,\n",
    " 'max_depth': 2,\n",
    " 'scale_pos_weight': 6}\n",
    "\n",
    "\n",
    "\n",
    "fold=StratifiedKFold(n_splits=5)#15#5#10\n",
    "i=1\n",
    "\n",
    "for train_index, test_index in fold.split(X,y):\n",
    "        \n",
    "    X_train, X_test = X.iloc[train_index], X.iloc[test_index]\n",
    "    y_train, y_test = y.iloc[train_index], y.iloc[test_index]\n",
    "#     m2  = XGBClassifier(   n_estimators=500, random_seed= 42, use_best_model=True, scale_pos_weight = 5, max_depth = 4)\n",
    "    m2 = LGBMClassifier(**param ,n_estimators=10000)\n",
    "#         m2 = XGBClassifier(**param)\n",
    "    \n",
    "#     m2 = LGBMClassifier(silent=True, n_estimators=1500, learning_rate = 0.01, scale_pos_weight = 8, max_depth = 9, subsample=0.5)\n",
    "    m2.fit(X_train,y_train,eval_set=[(X_train,y_train),(X_test, y_test)], early_stopping_rounds=500, verbose = False)#erly100\n",
    "    preds=m2.predict(X_test)\n",
    "    print(\"err: \",f1_score(y_test,preds))\n",
    "    errcb2.append(f1_score(y_test,preds))\n",
    "    p2 = m2.predict(test_df[features])\n",
    "    y_pred_totcb2.append(p2)\n",
    "    \n",
    "print(np.mean(errcb2))"
   ]
  },
  {
   "cell_type": "code",
   "execution_count": null,
   "id": "extended-breathing",
   "metadata": {},
   "outputs": [],
   "source": [
    "trial.params"
   ]
  },
  {
   "cell_type": "code",
   "execution_count": null,
   "id": "senior-louisville",
   "metadata": {},
   "outputs": [],
   "source": [
    "Trial 3100 finished with value: 0.9395282013444826 and parameters: {'learning_rate': 0.042, 'depth': 3,\n",
    "                                                                  'l2_leaf_reg': 1.5, 'min_child_samples': 8, \n",
    "                                                                  'iterations': 1400.0, 'colsample_bylevel': 0.03307446978765261,\n",
    "                                                                  'scale_pos_weight': 4, 'bootstrap_type': 'MVS'}. Best is trial 31 with value: 0.9795282013444826."
   ]
  },
  {
   "cell_type": "code",
   "execution_count": 200,
   "id": "closed-tiger",
   "metadata": {},
   "outputs": [],
   "source": [
    "pred = np.max(test_oofs, axis=0)"
   ]
  },
  {
   "cell_type": "code",
   "execution_count": 94,
   "id": "established-fifty",
   "metadata": {},
   "outputs": [],
   "source": [
    "sub = pd.read_csv('data/SampleSubmission.csv')"
   ]
  },
  {
   "cell_type": "code",
   "execution_count": 117,
   "id": "brave-toyota",
   "metadata": {},
   "outputs": [],
   "source": [
    "sub.Response = pd.DataFrame(y_pred_totcb2).T.mode(1)\n",
    "# sub.Response = round(sub.Response)"
   ]
  },
  {
   "cell_type": "code",
   "execution_count": 201,
   "id": "critical-arkansas",
   "metadata": {},
   "outputs": [],
   "source": [
    "sub['Response'] = pred"
   ]
  },
  {
   "cell_type": "code",
   "execution_count": 202,
   "id": "surgical-planning",
   "metadata": {},
   "outputs": [],
   "source": [
    "sub.to_csv('submit_fe_cat10.csv', index = False)"
   ]
  }
 ],
 "metadata": {
  "kernelspec": {
   "display_name": "Python 3",
   "language": "python",
   "name": "python3"
  },
  "language_info": {
   "codemirror_mode": {
    "name": "ipython",
    "version": 3
   },
   "file_extension": ".py",
   "mimetype": "text/x-python",
   "name": "python",
   "nbconvert_exporter": "python",
   "pygments_lexer": "ipython3",
   "version": "3.8.5"
  }
 },
 "nbformat": 4,
 "nbformat_minor": 5
}
