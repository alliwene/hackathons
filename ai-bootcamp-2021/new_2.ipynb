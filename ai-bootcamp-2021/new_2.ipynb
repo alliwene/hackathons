{
 "cells": [
  {
   "cell_type": "code",
   "execution_count": 1,
   "metadata": {
    "ExecuteTime": {
     "end_time": "2021-10-18T07:11:51.759795Z",
     "start_time": "2021-10-18T07:11:50.662936Z"
    }
   },
   "outputs": [],
   "source": [
    "import numpy as np\n",
    "import pandas as pd\n",
    "import matplotlib.pyplot as plt\n",
    "import seaborn as sns\n",
    "import warnings\n",
    "import xgboost as xgb\n",
    "import lightgbm as lgb\n",
    "from sklearn.model_selection import ( StratifiedKFold, RepeatedStratifiedKFold,\n",
    "                                     GridSearchCV, KFold )\n",
    "from sklearn.metrics import f1_score, roc_auc_score \n",
    "from collections import Counter "
   ]
  },
  {
   "cell_type": "code",
   "execution_count": 2,
   "metadata": {
    "ExecuteTime": {
     "end_time": "2021-10-18T07:11:51.767372Z",
     "start_time": "2021-10-18T07:11:51.762229Z"
    }
   },
   "outputs": [],
   "source": [
    "warnings.simplefilter(action='ignore')\n",
    "%matplotlib inline\n",
    "plt.style.use('seaborn-notebook')\n",
    "plt.rcParams[\"figure.figsize\"] = (12, 6)\n",
    "sns.set(context=\"paper\", font=\"monospace\") "
   ]
  },
  {
   "cell_type": "code",
   "execution_count": 3,
   "metadata": {
    "ExecuteTime": {
     "end_time": "2021-10-18T07:11:51.780767Z",
     "start_time": "2021-10-18T07:11:51.768305Z"
    }
   },
   "outputs": [],
   "source": [
    "def check_stats(data):\n",
    "    stats = []\n",
    "    for col in data.columns:\n",
    "        stats.append((col, data[col].nunique(), data[col].isnull().sum() * 100 / data.shape[0],\n",
    "                    round((data[col].value_counts(normalize=True, dropna=False).values[0] * 100),2), \n",
    "                    data[col].dtype))\n",
    "        \n",
    "    stats_df = pd.DataFrame(stats, columns=['Feature', 'Unique_values', 'missing values %', \n",
    "                                            'biggest category %', 'type']) \n",
    "    return stats_df.sort_values('missing values %', ascending=False) "
   ]
  },
  {
   "cell_type": "code",
   "execution_count": 4,
   "metadata": {
    "ExecuteTime": {
     "end_time": "2021-10-18T07:11:51.801204Z",
     "start_time": "2021-10-18T07:11:51.782916Z"
    }
   },
   "outputs": [
    {
     "name": "stdout",
     "output_type": "stream",
     "text": [
      "(1568, 27) (672, 26)\n"
     ]
    }
   ],
   "source": [
    "train_df = pd.read_csv('Train.csv')\n",
    "test_df = pd.read_csv('Test.csv')\n",
    "sub_df = pd.read_csv('SampleSubmission.csv') \n",
    "print(train_df.shape, test_df.shape) "
   ]
  },
  {
   "cell_type": "code",
   "execution_count": 5,
   "metadata": {
    "ExecuteTime": {
     "end_time": "2021-10-18T07:11:51.918100Z",
     "start_time": "2021-10-18T07:11:51.804605Z"
    }
   },
   "outputs": [
    {
     "data": {
      "image/png": "[encoded data removed]",
      "text/plain": [
       "<Figure size 864x432 with 1 Axes>"
      ]
     },
     "metadata": {},
     "output_type": "display_data"
    }
   ],
   "source": [
    "sns.countplot(train_df['Response']); "
   ]
  },
  {
   "cell_type": "code",
   "execution_count": 6,
   "metadata": {
    "ExecuteTime": {
     "end_time": "2021-10-18T07:11:51.924151Z",
     "start_time": "2021-10-18T07:11:51.919222Z"
    }
   },
   "outputs": [
    {
     "data": {
      "text/plain": [
       "Married     615\n",
       "Together    409\n",
       "Single      329\n",
       "Divorced    159\n",
       "Widow        50\n",
       "Alone         3\n",
       "YOLO          2\n",
       "Absurd        1\n",
       "Name: Marital_Status, dtype: int64"
      ]
     },
     "execution_count": 6,
     "metadata": {},
     "output_type": "execute_result"
    }
   ],
   "source": [
    "train_df['Marital_Status'].value_counts() "
   ]
  },
  {
   "cell_type": "code",
   "execution_count": 7,
   "metadata": {
    "ExecuteTime": {
     "end_time": "2021-10-18T07:11:51.932531Z",
     "start_time": "2021-10-18T07:11:51.925178Z"
    }
   },
   "outputs": [
    {
     "data": {
      "text/plain": [
       "Married     249\n",
       "Together    171\n",
       "Single      151\n",
       "Divorced     73\n",
       "Widow        27\n",
       "Absurd        1\n",
       "Name: Marital_Status, dtype: int64"
      ]
     },
     "execution_count": 7,
     "metadata": {},
     "output_type": "execute_result"
    }
   ],
   "source": [
    "test_df['Marital_Status'].value_counts() "
   ]
  },
  {
   "cell_type": "code",
   "execution_count": 8,
   "metadata": {
    "ExecuteTime": {
     "end_time": "2021-10-18T07:11:51.941769Z",
     "start_time": "2021-10-18T07:11:51.933429Z"
    }
   },
   "outputs": [],
   "source": [
    "for i in ['Absurd', 'YOLO']: \n",
    "    train_df.loc[train_df['Marital_Status'] == i, ['Marital_Status']] = 'others'\n",
    "    test_df.loc[test_df['Marital_Status'] == i, ['Marital_Status']] = 'others'"
   ]
  },
  {
   "cell_type": "code",
   "execution_count": 9,
   "metadata": {
    "ExecuteTime": {
     "end_time": "2021-10-18T07:11:51.949341Z",
     "start_time": "2021-10-18T07:11:51.942813Z"
    }
   },
   "outputs": [],
   "source": [
    "value = train_df['Disposable_Income'].median()\n",
    "train_df.fillna(value, inplace=True)\n",
    "test_df.fillna(value, inplace=True) "
   ]
  },
  {
   "cell_type": "code",
   "execution_count": 10,
   "metadata": {
    "ExecuteTime": {
     "end_time": "2021-10-18T07:11:51.955064Z",
     "start_time": "2021-10-18T07:11:51.951123Z"
    }
   },
   "outputs": [],
   "source": [
    "# train_df['Disposable_Income'] = train_df['Disposable_Income'].interpolate(method=\"linear\")\n",
    "# test_df['Disposable_Income'] = test_df['Disposable_Income'].interpolate(method=\"linear\")"
   ]
  },
  {
   "cell_type": "code",
   "execution_count": 11,
   "metadata": {
    "ExecuteTime": {
     "end_time": "2021-10-18T07:11:51.972767Z",
     "start_time": "2021-10-18T07:11:51.956129Z"
    }
   },
   "outputs": [],
   "source": [
    "ntrain = train_df.shape[0]\n",
    "\n",
    "data = pd.concat((train_df, test_df)).reset_index(drop=True)\n",
    "data['Date_Customer'] = pd.to_datetime(data['Date_Customer'])\n",
    "data['date_year'] = data['Date_Customer'].dt.year\n",
    "data['date_month'] = data['Date_Customer'].dt.month\n",
    "data['date_quat'] = data['Date_Customer'].dt.quarter \n",
    "data['date_day'] = data['Date_Customer'].dt.day "
   ]
  },
  {
   "cell_type": "code",
   "execution_count": 12,
   "metadata": {
    "ExecuteTime": {
     "end_time": "2021-10-18T07:11:51.986560Z",
     "start_time": "2021-10-18T07:11:51.973899Z"
    }
   },
   "outputs": [],
   "source": [
    "data['rec_web'] = data['Recency'] / (data['WebVisitsMonth'] + 1)\n",
    "data['meat_cat'] = data['Amount_on_MeatProducts'] / (data['CatalogPurchases'] + 1)\n",
    "data['yearly_expenses'] = (data[['Amount_on_Fruits', 'Amount_on_MeatProducts', 'Amount_on_FishProducts',\n",
    "                                'Amount_on_SweetProducts', 'Amount_on_GoldProds']].sum(axis=1)) / 3\n",
    "data['spending_ratio'] = data['Disposable_Income'] / data['yearly_expenses'] "
   ]
  },
  {
   "cell_type": "code",
   "execution_count": 13,
   "metadata": {
    "ExecuteTime": {
     "end_time": "2021-10-18T07:11:52.029554Z",
     "start_time": "2021-10-18T07:11:51.988808Z"
    }
   },
   "outputs": [
    {
     "data": {
      "text/html": [
       "<div>\n",
       "<style scoped>\n",
       "    .dataframe tbody tr th:only-of-type {\n",
       "        vertical-align: middle;\n",
       "    }\n",
       "\n",
       "    .dataframe tbody tr th {\n",
       "        vertical-align: top;\n",
       "    }\n",
       "\n",
       "    .dataframe thead th {\n",
       "        text-align: right;\n",
       "    }\n",
       "</style>\n",
       "<table border=\"1\" class=\"dataframe\">\n",
       "  <thead>\n",
       "    <tr style=\"text-align: right;\">\n",
       "      <th></th>\n",
       "      <th>Feature</th>\n",
       "      <th>Unique_values</th>\n",
       "      <th>missing values %</th>\n",
       "      <th>biggest category %</th>\n",
       "      <th>type</th>\n",
       "    </tr>\n",
       "  </thead>\n",
       "  <tbody>\n",
       "    <tr>\n",
       "      <th>26</th>\n",
       "      <td>Response</td>\n",
       "      <td>2</td>\n",
       "      <td>30.0</td>\n",
       "      <td>59.33</td>\n",
       "      <td>float64</td>\n",
       "    </tr>\n",
       "    <tr>\n",
       "      <th>0</th>\n",
       "      <td>ID</td>\n",
       "      <td>2240</td>\n",
       "      <td>0.0</td>\n",
       "      <td>0.04</td>\n",
       "      <td>object</td>\n",
       "    </tr>\n",
       "    <tr>\n",
       "      <th>20</th>\n",
       "      <td>Cmp3Accepted</td>\n",
       "      <td>2</td>\n",
       "      <td>0.0</td>\n",
       "      <td>92.72</td>\n",
       "      <td>int64</td>\n",
       "    </tr>\n",
       "    <tr>\n",
       "      <th>21</th>\n",
       "      <td>Cmp4Accepted</td>\n",
       "      <td>2</td>\n",
       "      <td>0.0</td>\n",
       "      <td>92.54</td>\n",
       "      <td>int64</td>\n",
       "    </tr>\n",
       "    <tr>\n",
       "      <th>22</th>\n",
       "      <td>Cmp5Accepted</td>\n",
       "      <td>2</td>\n",
       "      <td>0.0</td>\n",
       "      <td>92.72</td>\n",
       "      <td>int64</td>\n",
       "    </tr>\n",
       "    <tr>\n",
       "      <th>23</th>\n",
       "      <td>Cmp1Accepted</td>\n",
       "      <td>2</td>\n",
       "      <td>0.0</td>\n",
       "      <td>93.57</td>\n",
       "      <td>int64</td>\n",
       "    </tr>\n",
       "    <tr>\n",
       "      <th>24</th>\n",
       "      <td>Cmp2Accepted</td>\n",
       "      <td>2</td>\n",
       "      <td>0.0</td>\n",
       "      <td>98.66</td>\n",
       "      <td>int64</td>\n",
       "    </tr>\n",
       "    <tr>\n",
       "      <th>25</th>\n",
       "      <td>Any_Complain</td>\n",
       "      <td>2</td>\n",
       "      <td>0.0</td>\n",
       "      <td>99.06</td>\n",
       "      <td>int64</td>\n",
       "    </tr>\n",
       "    <tr>\n",
       "      <th>27</th>\n",
       "      <td>date_year</td>\n",
       "      <td>3</td>\n",
       "      <td>0.0</td>\n",
       "      <td>53.08</td>\n",
       "      <td>int64</td>\n",
       "    </tr>\n",
       "    <tr>\n",
       "      <th>18</th>\n",
       "      <td>Amount_on_GoldProds</td>\n",
       "      <td>213</td>\n",
       "      <td>0.0</td>\n",
       "      <td>3.26</td>\n",
       "      <td>int64</td>\n",
       "    </tr>\n",
       "    <tr>\n",
       "      <th>28</th>\n",
       "      <td>date_month</td>\n",
       "      <td>12</td>\n",
       "      <td>0.0</td>\n",
       "      <td>9.42</td>\n",
       "      <td>int64</td>\n",
       "    </tr>\n",
       "    <tr>\n",
       "      <th>29</th>\n",
       "      <td>date_quat</td>\n",
       "      <td>4</td>\n",
       "      <td>0.0</td>\n",
       "      <td>26.61</td>\n",
       "      <td>int64</td>\n",
       "    </tr>\n",
       "    <tr>\n",
       "      <th>30</th>\n",
       "      <td>date_day</td>\n",
       "      <td>31</td>\n",
       "      <td>0.0</td>\n",
       "      <td>4.42</td>\n",
       "      <td>int64</td>\n",
       "    </tr>\n",
       "    <tr>\n",
       "      <th>31</th>\n",
       "      <td>rec_web</td>\n",
       "      <td>533</td>\n",
       "      <td>0.0</td>\n",
       "      <td>1.65</td>\n",
       "      <td>float64</td>\n",
       "    </tr>\n",
       "    <tr>\n",
       "      <th>32</th>\n",
       "      <td>meat_cat</td>\n",
       "      <td>788</td>\n",
       "      <td>0.0</td>\n",
       "      <td>2.81</td>\n",
       "      <td>float64</td>\n",
       "    </tr>\n",
       "    <tr>\n",
       "      <th>33</th>\n",
       "      <td>yearly_expenses</td>\n",
       "      <td>781</td>\n",
       "      <td>0.0</td>\n",
       "      <td>1.12</td>\n",
       "      <td>float64</td>\n",
       "    </tr>\n",
       "    <tr>\n",
       "      <th>19</th>\n",
       "      <td>WebVisitsMonth</td>\n",
       "      <td>16</td>\n",
       "      <td>0.0</td>\n",
       "      <td>17.54</td>\n",
       "      <td>int64</td>\n",
       "    </tr>\n",
       "    <tr>\n",
       "      <th>17</th>\n",
       "      <td>Amount_on_SweetProducts</td>\n",
       "      <td>177</td>\n",
       "      <td>0.0</td>\n",
       "      <td>18.71</td>\n",
       "      <td>int64</td>\n",
       "    </tr>\n",
       "    <tr>\n",
       "      <th>1</th>\n",
       "      <td>Year_of_Birth</td>\n",
       "      <td>59</td>\n",
       "      <td>0.0</td>\n",
       "      <td>3.97</td>\n",
       "      <td>int64</td>\n",
       "    </tr>\n",
       "    <tr>\n",
       "      <th>8</th>\n",
       "      <td>Recency</td>\n",
       "      <td>100</td>\n",
       "      <td>0.0</td>\n",
       "      <td>1.65</td>\n",
       "      <td>int64</td>\n",
       "    </tr>\n",
       "    <tr>\n",
       "      <th>2</th>\n",
       "      <td>Education_Level</td>\n",
       "      <td>5</td>\n",
       "      <td>0.0</td>\n",
       "      <td>50.31</td>\n",
       "      <td>object</td>\n",
       "    </tr>\n",
       "    <tr>\n",
       "      <th>3</th>\n",
       "      <td>Marital_Status</td>\n",
       "      <td>7</td>\n",
       "      <td>0.0</td>\n",
       "      <td>38.57</td>\n",
       "      <td>object</td>\n",
       "    </tr>\n",
       "    <tr>\n",
       "      <th>4</th>\n",
       "      <td>Disposable_Income</td>\n",
       "      <td>1975</td>\n",
       "      <td>0.0</td>\n",
       "      <td>1.07</td>\n",
       "      <td>float64</td>\n",
       "    </tr>\n",
       "    <tr>\n",
       "      <th>5</th>\n",
       "      <td>No_of_Kids_in_home</td>\n",
       "      <td>3</td>\n",
       "      <td>0.0</td>\n",
       "      <td>57.72</td>\n",
       "      <td>int64</td>\n",
       "    </tr>\n",
       "    <tr>\n",
       "      <th>6</th>\n",
       "      <td>No_of_Teen_in_home</td>\n",
       "      <td>3</td>\n",
       "      <td>0.0</td>\n",
       "      <td>51.70</td>\n",
       "      <td>int64</td>\n",
       "    </tr>\n",
       "    <tr>\n",
       "      <th>7</th>\n",
       "      <td>Date_Customer</td>\n",
       "      <td>663</td>\n",
       "      <td>0.0</td>\n",
       "      <td>0.54</td>\n",
       "      <td>datetime64[ns]</td>\n",
       "    </tr>\n",
       "    <tr>\n",
       "      <th>9</th>\n",
       "      <td>Discounted_Purchases</td>\n",
       "      <td>15</td>\n",
       "      <td>0.0</td>\n",
       "      <td>43.30</td>\n",
       "      <td>int64</td>\n",
       "    </tr>\n",
       "    <tr>\n",
       "      <th>16</th>\n",
       "      <td>Amount_on_FishProducts</td>\n",
       "      <td>182</td>\n",
       "      <td>0.0</td>\n",
       "      <td>17.14</td>\n",
       "      <td>int64</td>\n",
       "    </tr>\n",
       "    <tr>\n",
       "      <th>10</th>\n",
       "      <td>WebPurchases</td>\n",
       "      <td>15</td>\n",
       "      <td>0.0</td>\n",
       "      <td>16.65</td>\n",
       "      <td>int64</td>\n",
       "    </tr>\n",
       "    <tr>\n",
       "      <th>11</th>\n",
       "      <td>CatalogPurchases</td>\n",
       "      <td>14</td>\n",
       "      <td>0.0</td>\n",
       "      <td>26.16</td>\n",
       "      <td>int64</td>\n",
       "    </tr>\n",
       "    <tr>\n",
       "      <th>12</th>\n",
       "      <td>StorePurchases</td>\n",
       "      <td>14</td>\n",
       "      <td>0.0</td>\n",
       "      <td>21.88</td>\n",
       "      <td>int64</td>\n",
       "    </tr>\n",
       "    <tr>\n",
       "      <th>13</th>\n",
       "      <td>Amount_on_Wines</td>\n",
       "      <td>776</td>\n",
       "      <td>0.0</td>\n",
       "      <td>1.88</td>\n",
       "      <td>int64</td>\n",
       "    </tr>\n",
       "    <tr>\n",
       "      <th>14</th>\n",
       "      <td>Amount_on_Fruits</td>\n",
       "      <td>158</td>\n",
       "      <td>0.0</td>\n",
       "      <td>17.86</td>\n",
       "      <td>int64</td>\n",
       "    </tr>\n",
       "    <tr>\n",
       "      <th>15</th>\n",
       "      <td>Amount_on_MeatProducts</td>\n",
       "      <td>558</td>\n",
       "      <td>0.0</td>\n",
       "      <td>2.37</td>\n",
       "      <td>int64</td>\n",
       "    </tr>\n",
       "    <tr>\n",
       "      <th>34</th>\n",
       "      <td>spending_ratio</td>\n",
       "      <td>2033</td>\n",
       "      <td>0.0</td>\n",
       "      <td>0.18</td>\n",
       "      <td>float64</td>\n",
       "    </tr>\n",
       "  </tbody>\n",
       "</table>\n",
       "</div>"
      ],
      "text/plain": [
       "                    Feature  Unique_values  missing values %  \\\n",
       "26                 Response              2              30.0   \n",
       "0                        ID           2240               0.0   \n",
       "20             Cmp3Accepted              2               0.0   \n",
       "21             Cmp4Accepted              2               0.0   \n",
       "22             Cmp5Accepted              2               0.0   \n",
       "23             Cmp1Accepted              2               0.0   \n",
       "24             Cmp2Accepted              2               0.0   \n",
       "25             Any_Complain              2               0.0   \n",
       "27                date_year              3               0.0   \n",
       "18      Amount_on_GoldProds            213               0.0   \n",
       "28               date_month             12               0.0   \n",
       "29                date_quat              4               0.0   \n",
       "30                 date_day             31               0.0   \n",
       "31                  rec_web            533               0.0   \n",
       "32                 meat_cat            788               0.0   \n",
       "33          yearly_expenses            781               0.0   \n",
       "19           WebVisitsMonth             16               0.0   \n",
       "17  Amount_on_SweetProducts            177               0.0   \n",
       "1             Year_of_Birth             59               0.0   \n",
       "8                   Recency            100               0.0   \n",
       "2           Education_Level              5               0.0   \n",
       "3            Marital_Status              7               0.0   \n",
       "4         Disposable_Income           1975               0.0   \n",
       "5        No_of_Kids_in_home              3               0.0   \n",
       "6        No_of_Teen_in_home              3               0.0   \n",
       "7             Date_Customer            663               0.0   \n",
       "9      Discounted_Purchases             15               0.0   \n",
       "16   Amount_on_FishProducts            182               0.0   \n",
       "10             WebPurchases             15               0.0   \n",
       "11         CatalogPurchases             14               0.0   \n",
       "12           StorePurchases             14               0.0   \n",
       "13          Amount_on_Wines            776               0.0   \n",
       "14         Amount_on_Fruits            158               0.0   \n",
       "15   Amount_on_MeatProducts            558               0.0   \n",
       "34           spending_ratio           2033               0.0   \n",
       "\n",
       "    biggest category %            type  \n",
       "26               59.33         float64  \n",
       "0                 0.04          object  \n",
       "20               92.72           int64  \n",
       "21               92.54           int64  \n",
       "22               92.72           int64  \n",
       "23               93.57           int64  \n",
       "24               98.66           int64  \n",
       "25               99.06           int64  \n",
       "27               53.08           int64  \n",
       "18                3.26           int64  \n",
       "28                9.42           int64  \n",
       "29               26.61           int64  \n",
       "30                4.42           int64  \n",
       "31                1.65         float64  \n",
       "32                2.81         float64  \n",
       "33                1.12         float64  \n",
       "19               17.54           int64  \n",
       "17               18.71           int64  \n",
       "1                 3.97           int64  \n",
       "8                 1.65           int64  \n",
       "2                50.31          object  \n",
       "3                38.57          object  \n",
       "4                 1.07         float64  \n",
       "5                57.72           int64  \n",
       "6                51.70           int64  \n",
       "7                 0.54  datetime64[ns]  \n",
       "9                43.30           int64  \n",
       "16               17.14           int64  \n",
       "10               16.65           int64  \n",
       "11               26.16           int64  \n",
       "12               21.88           int64  \n",
       "13                1.88           int64  \n",
       "14               17.86           int64  \n",
       "15                2.37           int64  \n",
       "34                0.18         float64  "
      ]
     },
     "execution_count": 13,
     "metadata": {},
     "output_type": "execute_result"
    }
   ],
   "source": [
    "check_stats(data)"
   ]
  },
  {
   "cell_type": "code",
   "execution_count": 14,
   "metadata": {
    "ExecuteTime": {
     "end_time": "2021-10-18T07:11:52.032253Z",
     "start_time": "2021-10-18T07:11:52.030411Z"
    }
   },
   "outputs": [],
   "source": [
    "# drop_list = [f'Cmp{i}Accepted' for i in range(1,6)]\n",
    "# # drop_list = drop_list + ['Any_Complain', 'Disposable_Income','WebVisitsMonth','Year_of_Birth'] \n",
    "# drop_list = drop_list + ['Any_Complain'] \n",
    "# data.drop(drop_list, axis=1, inplace=True) "
   ]
  },
  {
   "cell_type": "code",
   "execution_count": 15,
   "metadata": {
    "ExecuteTime": {
     "end_time": "2021-10-18T07:11:52.038185Z",
     "start_time": "2021-10-18T07:11:52.033537Z"
    }
   },
   "outputs": [],
   "source": [
    "# data['Disposable_Income'] = data['Disposable_Income'].interpolate(method=\"linear\")"
   ]
  },
  {
   "cell_type": "code",
   "execution_count": 16,
   "metadata": {
    "ExecuteTime": {
     "end_time": "2021-10-18T07:11:52.046517Z",
     "start_time": "2021-10-18T07:11:52.039517Z"
    }
   },
   "outputs": [],
   "source": [
    "for feat in ['Marital_Status', 'Education_Level']:\n",
    "    data[feat] = pd.factorize(data[feat])[0] "
   ]
  },
  {
   "cell_type": "code",
   "execution_count": 17,
   "metadata": {
    "ExecuteTime": {
     "end_time": "2021-10-18T07:11:52.053004Z",
     "start_time": "2021-10-18T07:11:52.047685Z"
    }
   },
   "outputs": [],
   "source": [
    "data.drop(['ID', 'Date_Customer'], axis=1, inplace=True) "
   ]
  },
  {
   "cell_type": "code",
   "execution_count": 18,
   "metadata": {
    "ExecuteTime": {
     "end_time": "2021-10-18T07:11:52.059199Z",
     "start_time": "2021-10-18T07:11:52.054367Z"
    }
   },
   "outputs": [
    {
     "name": "stdout",
     "output_type": "stream",
     "text": [
      "(1568, 33) (672, 33) (1568,)\n"
     ]
    }
   ],
   "source": [
    "train = data[:ntrain]\n",
    "test = data[ntrain:]\n",
    "target = train['Response'] \n",
    "print(train.shape, test.shape, target.shape) "
   ]
  },
  {
   "cell_type": "code",
   "execution_count": 19,
   "metadata": {
    "ExecuteTime": {
     "end_time": "2021-10-18T07:11:52.066770Z",
     "start_time": "2021-10-18T07:11:52.060098Z"
    }
   },
   "outputs": [
    {
     "name": "stdout",
     "output_type": "stream",
     "text": [
      "(1568, 32) (672, 32) (1568,)\n"
     ]
    }
   ],
   "source": [
    "train.drop('Response', axis=1, inplace=True)\n",
    "test.drop('Response', axis=1, inplace=True)\n",
    "print(train.shape, test.shape, target.shape) "
   ]
  },
  {
   "cell_type": "markdown",
   "metadata": {},
   "source": [
    "### Xgb "
   ]
  },
  {
   "cell_type": "code",
   "execution_count": 20,
   "metadata": {
    "ExecuteTime": {
     "end_time": "2021-10-18T07:11:52.073217Z",
     "start_time": "2021-10-18T07:11:52.067935Z"
    }
   },
   "outputs": [],
   "source": [
    "weight = Counter(target)[0] / Counter(target)[1]\n",
    "skf = StratifiedKFold(n_splits=10, shuffle=True, random_state=24) \n",
    "xgb_ = xgb.XGBClassifier(scale_pos_weight=weight, n_jobs=-1, max_depth=4, \n",
    "                        random_state=64, sub_sample=0.8, n_estimators=500,\n",
    "                        gamma=1, min_child_weight=10, colsample_bytree=0.8) \n"
   ]
  },
  {
   "cell_type": "code",
   "execution_count": 21,
   "metadata": {
    "ExecuteTime": {
     "end_time": "2021-10-18T07:11:55.334652Z",
     "start_time": "2021-10-18T07:11:52.074116Z"
    }
   },
   "outputs": [
    {
     "name": "stdout",
     "output_type": "stream",
     "text": [
      "=====================Fold1=====================\n",
      "[08:11:52] WARNING: ../src/learner.cc:573: \n",
      "Parameters: { \"sub_sample\" } might not be used.\n",
      "\n",
      "  This may not be accurate due to some parameters are only used in language bindings but\n",
      "  passed down to XGBoost core.  Or some parameters are not used but slip through this\n",
      "  verification. Please open an issue if you find above cases.\n",
      "\n",
      "\n",
      "[0]\tvalidation_0-auc:0.79120\n",
      "[218]\tvalidation_0-auc:0.88409\n",
      "\n",
      "Train score: 0.9824453605040057\n",
      "\n",
      "Test score: 0.9035087719298245\n",
      "=====================Fold2=====================\n",
      "[08:11:52] WARNING: ../src/learner.cc:573: \n",
      "Parameters: { \"sub_sample\" } might not be used.\n",
      "\n",
      "  This may not be accurate due to some parameters are only used in language bindings but\n",
      "  passed down to XGBoost core.  Or some parameters are not used but slip through this\n",
      "  verification. Please open an issue if you find above cases.\n",
      "\n",
      "\n",
      "[0]\tvalidation_0-auc:0.77976\n",
      "[213]\tvalidation_0-auc:0.87218\n",
      "\n",
      "Train score: 0.9712549583884265\n",
      "\n",
      "Test score: 0.8984962406015038\n",
      "=====================Fold3=====================\n",
      "[08:11:53] WARNING: ../src/learner.cc:573: \n",
      "Parameters: { \"sub_sample\" } might not be used.\n",
      "\n",
      "  This may not be accurate due to some parameters are only used in language bindings but\n",
      "  passed down to XGBoost core.  Or some parameters are not used but slip through this\n",
      "  verification. Please open an issue if you find above cases.\n",
      "\n",
      "\n",
      "[0]\tvalidation_0-auc:0.82315\n",
      "[250]\tvalidation_0-auc:0.91698\n",
      "[271]\tvalidation_0-auc:0.91698\n",
      "\n",
      "Train score: 0.9991016566850743\n",
      "\n",
      "Test score: 0.924812030075188\n",
      "=====================Fold4=====================\n",
      "[08:11:53] WARNING: ../src/learner.cc:573: \n",
      "Parameters: { \"sub_sample\" } might not be used.\n",
      "\n",
      "  This may not be accurate due to some parameters are only used in language bindings but\n",
      "  passed down to XGBoost core.  Or some parameters are not used but slip through this\n",
      "  verification. Please open an issue if you find above cases.\n",
      "\n",
      "\n",
      "[0]\tvalidation_0-auc:0.69549\n",
      "[250]\tvalidation_0-auc:0.87375\n",
      "[453]\tvalidation_0-auc:0.87657\n",
      "\n",
      "Train score: 0.9998308314536828\n",
      "\n",
      "Test score: 0.8765664160401002\n",
      "=====================Fold5=====================\n",
      "[08:11:53] WARNING: ../src/learner.cc:573: \n",
      "Parameters: { \"sub_sample\" } might not be used.\n",
      "\n",
      "  This may not be accurate due to some parameters are only used in language bindings but\n",
      "  passed down to XGBoost core.  Or some parameters are not used but slip through this\n",
      "  verification. Please open an issue if you find above cases.\n",
      "\n",
      "\n",
      "[0]\tvalidation_0-auc:0.76191\n",
      "[212]\tvalidation_0-auc:0.88878\n",
      "\n",
      "Train score: 0.9661565684063156\n",
      "\n",
      "Test score: 0.9107142857142857\n",
      "=====================Fold6=====================\n",
      "[08:11:54] WARNING: ../src/learner.cc:573: \n",
      "Parameters: { \"sub_sample\" } might not be used.\n",
      "\n",
      "  This may not be accurate due to some parameters are only used in language bindings but\n",
      "  passed down to XGBoost core.  Or some parameters are not used but slip through this\n",
      "  verification. Please open an issue if you find above cases.\n",
      "\n",
      "\n",
      "[0]\tvalidation_0-auc:0.83349\n",
      "[231]\tvalidation_0-auc:0.92951\n",
      "\n",
      "Train score: 0.9909368437427082\n",
      "\n",
      "Test score: 0.943922305764411\n",
      "=====================Fold7=====================\n",
      "[08:11:54] WARNING: ../src/learner.cc:573: \n",
      "Parameters: { \"sub_sample\" } might not be used.\n",
      "\n",
      "  This may not be accurate due to some parameters are only used in language bindings but\n",
      "  passed down to XGBoost core.  Or some parameters are not used but slip through this\n",
      "  verification. Please open an issue if you find above cases.\n",
      "\n",
      "\n",
      "[0]\tvalidation_0-auc:0.75924\n",
      "[250]\tvalidation_0-auc:0.91949\n",
      "[262]\tvalidation_0-auc:0.91823\n",
      "\n",
      "Train score: 0.9982402582250913\n",
      "\n",
      "Test score: 0.9285714285714286\n",
      "=====================Fold8=====================\n",
      "[08:11:54] WARNING: ../src/learner.cc:573: \n",
      "Parameters: { \"sub_sample\" } might not be used.\n",
      "\n",
      "  This may not be accurate due to some parameters are only used in language bindings but\n",
      "  passed down to XGBoost core.  Or some parameters are not used but slip through this\n",
      "  verification. Please open an issue if you find above cases.\n",
      "\n",
      "\n",
      "[0]\tvalidation_0-auc:0.83866\n",
      "[246]\tvalidation_0-auc:0.93954\n",
      "\n",
      "Train score: 0.9959185657618418\n",
      "\n",
      "Test score: 0.9511278195488722\n",
      "=====================Fold9=====================\n",
      "[08:11:54] WARNING: ../src/learner.cc:573: \n",
      "Parameters: { \"sub_sample\" } might not be used.\n",
      "\n",
      "  This may not be accurate due to some parameters are only used in language bindings but\n",
      "  passed down to XGBoost core.  Or some parameters are not used but slip through this\n",
      "  verification. Please open an issue if you find above cases.\n",
      "\n",
      "\n",
      "[0]\tvalidation_0-auc:0.81187\n",
      "[202]\tvalidation_0-auc:0.82592\n",
      "\n",
      "Train score: 0.9188072897312028\n",
      "\n",
      "Test score: 0.8824779339653481\n",
      "=====================Fold10=====================\n",
      "[08:11:55] WARNING: ../src/learner.cc:573: \n",
      "Parameters: { \"sub_sample\" } might not be used.\n",
      "\n",
      "  This may not be accurate due to some parameters are only used in language bindings but\n",
      "  passed down to XGBoost core.  Or some parameters are not used but slip through this\n",
      "  verification. Please open an issue if you find above cases.\n",
      "\n",
      "\n",
      "[0]\tvalidation_0-auc:0.75631\n",
      "[220]\tvalidation_0-auc:0.87879\n",
      "\n",
      "Train score: 0.9836063025781507\n",
      "\n",
      "Test score: 0.9018308080808081\n",
      "Average Train score for 10 folds split: 0.98062986354765\n",
      "Average Test score for 10 folds split: 0.912202804029177\n",
      "Standard deviation for 10 folds split: 0.02339867129884153\n"
     ]
    }
   ],
   "source": [
    "mean_train, mean_test_val = [], []\n",
    "test_pred = np.zeros(test.shape[0])\n",
    "val_pred = np.zeros(train.shape[0])\n",
    "\n",
    "\n",
    "for fold, (train_index, test_index) in enumerate(skf.split(train, target)):\n",
    "    X_train, X_test = train.iloc[train_index], train.iloc[test_index]\n",
    "    y_train, y_test = target.iloc[train_index], target.iloc[test_index]\n",
    "\n",
    "    print(f'=====================Fold{fold +1}=====================')\n",
    "    xgb_.fit(X_train, y_train, early_stopping_rounds=200, eval_metric='auc',\n",
    "            eval_set=[(X_test, y_test)], verbose=250)\n",
    "    train_predict = xgb_.predict_proba(X_train)[:,1]\n",
    "    test_predict = xgb_.predict_proba(X_test)[:,1]\n",
    "    val_pred[test_index] = test_predict\n",
    "    test_pred += xgb_.predict_proba(test)[:,1]\n",
    "\n",
    "    print(f'\\nTrain score: {roc_auc_score(y_train, train_predict)}')\n",
    "    print(f'\\nTest score: {roc_auc_score(y_test, test_predict)}')\n",
    "\n",
    "    mean_train.append(roc_auc_score(y_train, train_predict))\n",
    "    mean_test_val.append(roc_auc_score(y_test, test_predict))\n",
    "\n",
    "test_pred = test_pred / 10\n",
    "print(f'Average Train score for 10 folds split: {np.mean(mean_train)}') \n",
    "print(f'Average Test score for 10 folds split: {np.mean(mean_test_val)}')\n",
    "print(f'Standard deviation for 10 folds split: {np.std(mean_test_val)}') "
   ]
  },
  {
   "cell_type": "code",
   "execution_count": 22,
   "metadata": {
    "ExecuteTime": {
     "end_time": "2021-10-18T07:11:55.768859Z",
     "start_time": "2021-10-18T07:11:55.338567Z"
    }
   },
   "outputs": [
    {
     "data": {
      "image/png": "[encoded data removed]",
      "text/plain": [
       "<Figure size 1440x1080 with 1 Axes>"
      ]
     },
     "metadata": {},
     "output_type": "display_data"
    }
   ],
   "source": [
    "feat_imp = pd.DataFrame(sorted(zip(xgb_.feature_importances_, train.columns)),\n",
    "                                columns=['Value', 'Feature'])\n",
    "plt.figure(figsize=(20, 15))\n",
    "imp_data = feat_imp.sort_values(by=\"Value\", ascending=False)\n",
    "sns.barplot(x=\"Value\", y=\"Feature\", data=imp_data.iloc[:50])\n",
    "plt.ylabel('Feature Importance Score')\n",
    "plt.show() "
   ]
  },
  {
   "cell_type": "code",
   "execution_count": 23,
   "metadata": {
    "ExecuteTime": {
     "end_time": "2021-10-18T07:11:55.775108Z",
     "start_time": "2021-10-18T07:11:55.769965Z"
    }
   },
   "outputs": [
    {
     "data": {
      "text/plain": [
       "count    672.000000\n",
       "mean       0.253034\n",
       "std        0.247304\n",
       "min        0.025796\n",
       "25%        0.062912\n",
       "50%        0.138714\n",
       "75%        0.381589\n",
       "max        0.957333\n",
       "dtype: float64"
      ]
     },
     "execution_count": 23,
     "metadata": {},
     "output_type": "execute_result"
    }
   ],
   "source": [
    "pd.Series(test_pred).describe() "
   ]
  },
  {
   "cell_type": "code",
   "execution_count": 24,
   "metadata": {
    "ExecuteTime": {
     "end_time": "2021-10-18T07:11:55.783482Z",
     "start_time": "2021-10-18T07:11:55.776078Z"
    }
   },
   "outputs": [],
   "source": [
    "threshold = 0.42\n",
    "predictions = [1 if p > threshold else 0 for p in test_pred] "
   ]
  },
  {
   "cell_type": "code",
   "execution_count": 25,
   "metadata": {
    "ExecuteTime": {
     "end_time": "2021-10-18T07:11:55.795668Z",
     "start_time": "2021-10-18T07:11:55.784558Z"
    }
   },
   "outputs": [
    {
     "data": {
      "text/plain": [
       "0    517\n",
       "1    155\n",
       "Name: Response, dtype: int64"
      ]
     },
     "execution_count": 25,
     "metadata": {},
     "output_type": "execute_result"
    }
   ],
   "source": [
    "sub_df['Response'] = predictions\n",
    "sub_df['Response'].value_counts() "
   ]
  },
  {
   "cell_type": "code",
   "execution_count": 26,
   "metadata": {
    "ExecuteTime": {
     "end_time": "2021-10-18T07:11:55.804172Z",
     "start_time": "2021-10-18T07:11:55.797638Z"
    }
   },
   "outputs": [],
   "source": [
    "sub_df.to_csv('csv/new-xgboost.csv', index=False)  "
   ]
  },
  {
   "cell_type": "code",
   "execution_count": null,
   "metadata": {},
   "outputs": [],
   "source": []
  },
  {
   "cell_type": "code",
   "execution_count": null,
   "metadata": {},
   "outputs": [],
   "source": []
  }
 ],
 "metadata": {
  "hide_input": false,
  "interpreter": {
   "hash": "ee89bb07d3fa5f9c0a8bd127b3056783b076f56308f3ae1a55a1b4c1c97796ac"
  },
  "kernelspec": {
   "display_name": "Python 3.8.8 64-bit ('base': conda)",
   "name": "python3"
  },
  "language_info": {
   "codemirror_mode": {
    "name": "ipython",
    "version": 3
   },
   "file_extension": ".py",
   "mimetype": "text/x-python",
   "name": "python",
   "nbconvert_exporter": "python",
   "pygments_lexer": "ipython3",
   "version": "3.8.8"
  },
  "latex_envs": {
   "LaTeX_envs_menu_present": true,
   "autoclose": false,
   "autocomplete": true,
   "bibliofile": "biblio.bib",
   "cite_by": "apalike",
   "current_citInitial": 1,
   "eqLabelWithNumbers": true,
   "eqNumInitial": 1,
   "hotkeys": {
    "equation": "Ctrl-E",
    "itemize": "Ctrl-I"
   },
   "labels_anchors": false,
   "latex_user_defs": false,
   "report_style_numbering": false,
   "user_envs_cfg": false
  },
  "nbTranslate": {
   "displayLangs": [
    "*"
   ],
   "hotkey": "alt-t",
   "langInMainMenu": true,
   "sourceLang": "en",
   "targetLang": "fr",
   "useGoogleTranslate": true
  },
  "toc": {
   "base_numbering": 1,
   "nav_menu": {},
   "number_sections": true,
   "sideBar": true,
   "skip_h1_title": false,
   "title_cell": "Table of Contents",
   "title_sidebar": "Contents",
   "toc_cell": false,
   "toc_position": {},
   "toc_section_display": true,
   "toc_window_display": false
  },
  "varInspector": {
   "cols": {
    "lenName": 16,
    "lenType": 16,
    "lenVar": 40
   },
   "kernels_config": {
    "python": {
     "delete_cmd_postfix": "",
     "delete_cmd_prefix": "del ",
     "library": "var_list.py",
     "varRefreshCmd": "print(var_dic_list())"
    },
    "r": {
     "delete_cmd_postfix": ") ",
     "delete_cmd_prefix": "rm(",
     "library": "var_list.r",
     "varRefreshCmd": "cat(var_dic_list()) "
    }
   },
   "types_to_exclude": [
    "module",
    "function",
    "builtin_function_or_method",
    "instance",
    "_Feature"
   ],
   "window_display": false
  }
 },
 "nbformat": 4,
 "nbformat_minor": 2
}
