{
 "cells": [
  {
   "cell_type": "code",
   "execution_count": 3,
   "id": "6bc20c94",
   "metadata": {},
   "outputs": [],
   "source": [
    "import numpy as np\n",
    "import pandas as pd\n",
    "import matplotlib.pyplot as plt\n",
    "import seaborn as sns\n",
    "import sklearn\n",
    "%matplotlib inline\n",
    "from sklearn.model_selection import StratifiedKFold\n",
    "from sklearn.metrics import roc_auc_score,f1_score\n",
    "import xgboost as xgb\n",
    "import lightgbm as lgbm"
   ]
  },
  {
   "cell_type": "code",
   "execution_count": 4,
   "id": "3359ac41",
   "metadata": {},
   "outputs": [],
   "source": [
    "Train = pd.read_csv('Train.csv')\n",
    "Test = pd.read_csv('Test.csv')\n",
    "submission = pd.read_csv('SampleSubmission.csv')"
   ]
  },
  {
   "cell_type": "code",
   "execution_count": 5,
   "id": "b8acb4e5",
   "metadata": {},
   "outputs": [
    {
     "name": "stdout",
     "output_type": "stream",
     "text": [
      "Train size (1568, 27), Test size (672, 26)\n"
     ]
    },
    {
     "data": {
      "text/html": [
       "<div>\n",
       "<style scoped>\n",
       "    .dataframe tbody tr th:only-of-type {\n",
       "        vertical-align: middle;\n",
       "    }\n",
       "\n",
       "    .dataframe tbody tr th {\n",
       "        vertical-align: top;\n",
       "    }\n",
       "\n",
       "    .dataframe thead th {\n",
       "        text-align: right;\n",
       "    }\n",
       "</style>\n",
       "<table border=\"1\" class=\"dataframe\">\n",
       "  <thead>\n",
       "    <tr style=\"text-align: right;\">\n",
       "      <th></th>\n",
       "      <th>ID</th>\n",
       "      <th>Year_of_Birth</th>\n",
       "      <th>Education_Level</th>\n",
       "      <th>Marital_Status</th>\n",
       "      <th>Disposable_Income</th>\n",
       "      <th>No_of_Kids_in_home</th>\n",
       "      <th>No_of_Teen_in_home</th>\n",
       "      <th>Date_Customer</th>\n",
       "      <th>Recency</th>\n",
       "      <th>Discounted_Purchases</th>\n",
       "      <th>...</th>\n",
       "      <th>Amount_on_SweetProducts</th>\n",
       "      <th>Amount_on_GoldProds</th>\n",
       "      <th>WebVisitsMonth</th>\n",
       "      <th>Cmp3Accepted</th>\n",
       "      <th>Cmp4Accepted</th>\n",
       "      <th>Cmp5Accepted</th>\n",
       "      <th>Cmp1Accepted</th>\n",
       "      <th>Cmp2Accepted</th>\n",
       "      <th>Any_Complain</th>\n",
       "      <th>Response</th>\n",
       "    </tr>\n",
       "  </thead>\n",
       "  <tbody>\n",
       "    <tr>\n",
       "      <th>0</th>\n",
       "      <td>ID_4A9AR6FQ</td>\n",
       "      <td>1955</td>\n",
       "      <td>Graduation</td>\n",
       "      <td>Divorced</td>\n",
       "      <td>77504.4</td>\n",
       "      <td>1</td>\n",
       "      <td>1</td>\n",
       "      <td>22-06-2014</td>\n",
       "      <td>56</td>\n",
       "      <td>2</td>\n",
       "      <td>...</td>\n",
       "      <td>6</td>\n",
       "      <td>20</td>\n",
       "      <td>3</td>\n",
       "      <td>0</td>\n",
       "      <td>0</td>\n",
       "      <td>0</td>\n",
       "      <td>0</td>\n",
       "      <td>0</td>\n",
       "      <td>0</td>\n",
       "      <td>0</td>\n",
       "    </tr>\n",
       "    <tr>\n",
       "      <th>1</th>\n",
       "      <td>ID_X28T3VEK</td>\n",
       "      <td>1958</td>\n",
       "      <td>Graduation</td>\n",
       "      <td>Together</td>\n",
       "      <td>56784.0</td>\n",
       "      <td>0</td>\n",
       "      <td>1</td>\n",
       "      <td>01-08-2013</td>\n",
       "      <td>17</td>\n",
       "      <td>6</td>\n",
       "      <td>...</td>\n",
       "      <td>15</td>\n",
       "      <td>19</td>\n",
       "      <td>6</td>\n",
       "      <td>0</td>\n",
       "      <td>0</td>\n",
       "      <td>0</td>\n",
       "      <td>0</td>\n",
       "      <td>0</td>\n",
       "      <td>0</td>\n",
       "      <td>0</td>\n",
       "    </tr>\n",
       "    <tr>\n",
       "      <th>2</th>\n",
       "      <td>ID_AWXARH57</td>\n",
       "      <td>1962</td>\n",
       "      <td>Graduation</td>\n",
       "      <td>Single</td>\n",
       "      <td>103714.8</td>\n",
       "      <td>0</td>\n",
       "      <td>0</td>\n",
       "      <td>21-11-2013</td>\n",
       "      <td>17</td>\n",
       "      <td>0</td>\n",
       "      <td>...</td>\n",
       "      <td>18</td>\n",
       "      <td>37</td>\n",
       "      <td>2</td>\n",
       "      <td>0</td>\n",
       "      <td>0</td>\n",
       "      <td>0</td>\n",
       "      <td>1</td>\n",
       "      <td>0</td>\n",
       "      <td>0</td>\n",
       "      <td>1</td>\n",
       "    </tr>\n",
       "    <tr>\n",
       "      <th>3</th>\n",
       "      <td>ID_FQVZHE81</td>\n",
       "      <td>1979</td>\n",
       "      <td>2n Cycle</td>\n",
       "      <td>Single</td>\n",
       "      <td>46311.6</td>\n",
       "      <td>1</td>\n",
       "      <td>0</td>\n",
       "      <td>13-09-2013</td>\n",
       "      <td>49</td>\n",
       "      <td>3</td>\n",
       "      <td>...</td>\n",
       "      <td>24</td>\n",
       "      <td>24</td>\n",
       "      <td>8</td>\n",
       "      <td>0</td>\n",
       "      <td>0</td>\n",
       "      <td>0</td>\n",
       "      <td>0</td>\n",
       "      <td>0</td>\n",
       "      <td>0</td>\n",
       "      <td>0</td>\n",
       "    </tr>\n",
       "    <tr>\n",
       "      <th>4</th>\n",
       "      <td>ID_QVLWGPRN</td>\n",
       "      <td>1959</td>\n",
       "      <td>Graduation</td>\n",
       "      <td>Married</td>\n",
       "      <td>87486.0</td>\n",
       "      <td>0</td>\n",
       "      <td>0</td>\n",
       "      <td>21-01-2014</td>\n",
       "      <td>59</td>\n",
       "      <td>1</td>\n",
       "      <td>...</td>\n",
       "      <td>165</td>\n",
       "      <td>203</td>\n",
       "      <td>1</td>\n",
       "      <td>0</td>\n",
       "      <td>0</td>\n",
       "      <td>0</td>\n",
       "      <td>1</td>\n",
       "      <td>0</td>\n",
       "      <td>0</td>\n",
       "      <td>0</td>\n",
       "    </tr>\n",
       "  </tbody>\n",
       "</table>\n",
       "<p>5 rows × 27 columns</p>\n",
       "</div>"
      ],
      "text/plain": [
       "            ID  Year_of_Birth Education_Level Marital_Status  \\\n",
       "0  ID_4A9AR6FQ           1955      Graduation       Divorced   \n",
       "1  ID_X28T3VEK           1958      Graduation       Together   \n",
       "2  ID_AWXARH57           1962      Graduation         Single   \n",
       "3  ID_FQVZHE81           1979        2n Cycle         Single   \n",
       "4  ID_QVLWGPRN           1959      Graduation        Married   \n",
       "\n",
       "   Disposable_Income  No_of_Kids_in_home  No_of_Teen_in_home Date_Customer  \\\n",
       "0            77504.4                   1                   1    22-06-2014   \n",
       "1            56784.0                   0                   1    01-08-2013   \n",
       "2           103714.8                   0                   0    21-11-2013   \n",
       "3            46311.6                   1                   0    13-09-2013   \n",
       "4            87486.0                   0                   0    21-01-2014   \n",
       "\n",
       "   Recency  Discounted_Purchases  ...  Amount_on_SweetProducts  \\\n",
       "0       56                     2  ...                        6   \n",
       "1       17                     6  ...                       15   \n",
       "2       17                     0  ...                       18   \n",
       "3       49                     3  ...                       24   \n",
       "4       59                     1  ...                      165   \n",
       "\n",
       "   Amount_on_GoldProds  WebVisitsMonth  Cmp3Accepted  Cmp4Accepted  \\\n",
       "0                   20               3             0             0   \n",
       "1                   19               6             0             0   \n",
       "2                   37               2             0             0   \n",
       "3                   24               8             0             0   \n",
       "4                  203               1             0             0   \n",
       "\n",
       "   Cmp5Accepted  Cmp1Accepted  Cmp2Accepted  Any_Complain  Response  \n",
       "0             0             0             0             0         0  \n",
       "1             0             0             0             0         0  \n",
       "2             0             1             0             0         1  \n",
       "3             0             0             0             0         0  \n",
       "4             0             1             0             0         0  \n",
       "\n",
       "[5 rows x 27 columns]"
      ]
     },
     "execution_count": 5,
     "metadata": {},
     "output_type": "execute_result"
    }
   ],
   "source": [
    "print(f'Train size {Train.shape}, Test size {Test.shape}')\n",
    "Train.head()"
   ]
  },
  {
   "cell_type": "code",
   "execution_count": 6,
   "id": "bfc025f9",
   "metadata": {},
   "outputs": [
    {
     "data": {
      "image/png": "[encoded data removed]",
      "text/plain": [
       "<Figure size 360x288 with 1 Axes>"
      ]
     },
     "metadata": {
      "needs_background": "light"
     },
     "output_type": "display_data"
    }
   ],
   "source": [
    "f, ax = plt.subplots(figsize=(5, 4))\n",
    "ax = sns.countplot(x=\"Response\", data=Train)\n",
    "plt.title(f'Distribution of Target')\n",
    "plt.show()"
   ]
  },
  {
   "cell_type": "code",
   "execution_count": 7,
   "id": "70253111",
   "metadata": {},
   "outputs": [],
   "source": [
    "for i in ['Absurd','YOLO']:\n",
    "    Train.loc[Train['Marital_Status'] == i,['Marital_Status']] ='others'\n",
    "    Test.loc[Test['Marital_Status'] == i,['Marital_Status']] ='others'"
   ]
  },
  {
   "cell_type": "code",
   "execution_count": 8,
   "id": "0c6a672d",
   "metadata": {},
   "outputs": [],
   "source": [
    "ntrain = Train.shape[0]\n",
    "ntest = Test.shape[0]\n",
    "all_data = pd.concat((Train, Test)).reset_index(drop=True)\n",
    "all_data['Date_Customer'] = pd.to_datetime(all_data['Date_Customer'])\n",
    "all_data['date_year'] = all_data['Date_Customer'].dt.year\n",
    "all_data['date_quart']=all_data['Date_Customer'].dt.quarter\n",
    "all_data['date_month'] = all_data['Date_Customer'].dt.month\n",
    "all_data['rwp']= all_data['Recency']/all_data['WebVisitsMonth']\n",
    "all_data['cata'] =all_data['Amount_on_MeatProducts']/all_data['CatalogPurchases']\n",
    "all_data['yearly_expenses'] = (all_data[['Amount_on_Fruits', 'Amount_on_MeatProducts', 'Amount_on_FishProducts',\n",
    "       'Amount_on_SweetProducts', 'Amount_on_GoldProds']].sum(axis=1))/3\n",
    "all_data['spending_ration'] = all_data['Disposable_Income']/all_data['yearly_expenses']"
   ]
  },
  {
   "cell_type": "code",
   "execution_count": 9,
   "id": "82755c43",
   "metadata": {},
   "outputs": [],
   "source": [
    "all_data = pd.get_dummies(all_data,columns=['Education_Level', 'Marital_Status'],drop_first=True)\n"
   ]
  },
  {
   "cell_type": "code",
   "execution_count": 10,
   "id": "f8a4fa5c",
   "metadata": {},
   "outputs": [],
   "source": [
    "drop = [\"ID\",'Date_Customer']\n",
    "all_data.drop(drop, axis=1, inplace = True)\n",
    "test = all_data[ntrain:].copy()\n",
    "train = all_data[:ntrain].copy()\n",
    "target = train.Response.copy()"
   ]
  },
  {
   "cell_type": "code",
   "execution_count": 11,
   "id": "d8d96b3e",
   "metadata": {},
   "outputs": [],
   "source": [
    "value = train['Disposable_Income'].median()\n",
    "train['Disposable_Income'].fillna(value,inplace=True)\n",
    "test['Disposable_Income'].fillna(value,inplace= True)"
   ]
  },
  {
   "cell_type": "code",
   "execution_count": 12,
   "id": "a0ffe927",
   "metadata": {},
   "outputs": [
    {
     "data": {
      "text/plain": [
       "Index(['Year_of_Birth', 'Disposable_Income', 'No_of_Kids_in_home',\n",
       "       'No_of_Teen_in_home', 'Recency', 'Discounted_Purchases', 'WebPurchases',\n",
       "       'CatalogPurchases', 'StorePurchases', 'Amount_on_Wines',\n",
       "       'Amount_on_Fruits', 'Amount_on_MeatProducts', 'Amount_on_FishProducts',\n",
       "       'Amount_on_SweetProducts', 'Amount_on_GoldProds', 'WebVisitsMonth',\n",
       "       'Cmp3Accepted', 'Cmp4Accepted', 'Cmp5Accepted', 'Cmp1Accepted',\n",
       "       'Cmp2Accepted', 'Any_Complain', 'date_year', 'date_quart', 'date_month',\n",
       "       'rwp', 'cata', 'yearly_expenses', 'spending_ration',\n",
       "       'Education_Level_Basic', 'Education_Level_Graduation',\n",
       "       'Education_Level_Master', 'Education_Level_PhD',\n",
       "       'Marital_Status_Divorced', 'Marital_Status_Married',\n",
       "       'Marital_Status_Single', 'Marital_Status_Together',\n",
       "       'Marital_Status_Widow', 'Marital_Status_others'],\n",
       "      dtype='object')"
      ]
     },
     "execution_count": 12,
     "metadata": {},
     "output_type": "execute_result"
    }
   ],
   "source": [
    "train.drop(['Response'] ,axis=1, inplace=True)\n",
    "\n",
    "test.drop(['Response'], axis=1, inplace=True)\n",
    "test = test.reset_index(drop=True)\n",
    "train.columns"
   ]
  },
  {
   "cell_type": "code",
   "execution_count": 13,
   "id": "87d939ce",
   "metadata": {},
   "outputs": [],
   "source": [
    "from math import sqrt\n",
    "weight = np.bincount(target)[0]/np.bincount(target)[1]\n",
    "estimator = lgbm.LGBMClassifier(random_state=84, n_estimators=1500,colsample_bytree=0.8,min_child_samples=10,\n",
    "    subsample=0.7,subsample_freq=5,num_leaves=120,metric='auc', learning_rate=0.01,max_depth=7,scale_pos_weight=weight)\n",
    "skfolds = StratifiedKFold(n_splits = 10,shuffle=True,random_state=652)"
   ]
  },
  {
   "cell_type": "code",
   "execution_count": 14,
   "id": "3301fa9b",
   "metadata": {},
   "outputs": [
    {
     "name": "stdout",
     "output_type": "stream",
     "text": [
      "========================Fold1==========================\n",
      "Training until validation scores don't improve for 200 rounds\n",
      "[250]\tvalid_0's auc: 0.913847\n",
      "[500]\tvalid_0's auc: 0.916667\n",
      "[750]\tvalid_0's auc: 0.919173\n",
      "Early stopping, best iteration is:\n",
      "[732]\tvalid_0's auc: 0.920113\n",
      "\n",
      "Testing scores 0.9201127819548872\n",
      "\n",
      "Training scores 0.9998619429104767\n",
      "========================Fold2==========================\n",
      "Training until validation scores don't improve for 200 rounds\n",
      "[250]\tvalid_0's auc: 0.860589\n",
      "[500]\tvalid_0's auc: 0.859336\n",
      "Early stopping, best iteration is:\n",
      "[380]\tvalid_0's auc: 0.864662\n",
      "\n",
      "Testing scores 0.8646616541353384\n",
      "\n",
      "Training scores 0.9989363770708564\n",
      "========================Fold3==========================\n",
      "Training until validation scores don't improve for 200 rounds\n",
      "[250]\tvalid_0's auc: 0.872494\n",
      "[500]\tvalid_0's auc: 0.880013\n",
      "[750]\tvalid_0's auc: 0.883145\n",
      "[1000]\tvalid_0's auc: 0.881266\n",
      "Early stopping, best iteration is:\n",
      "[833]\tvalid_0's auc: 0.885965\n",
      "\n",
      "Testing scores 0.8859649122807018\n",
      "\n",
      "Training scores 0.9998911099012211\n",
      "========================Fold4==========================\n",
      "Training until validation scores don't improve for 200 rounds\n",
      "[250]\tvalid_0's auc: 0.914474\n",
      "[500]\tvalid_0's auc: 0.915414\n",
      "Early stopping, best iteration is:\n",
      "[522]\tvalid_0's auc: 0.91698\n",
      "\n",
      "Testing scores 0.9169799498746868\n",
      "\n",
      "Training scores 0.999391382126468\n",
      "========================Fold5==========================\n",
      "Training until validation scores don't improve for 200 rounds\n",
      "[250]\tvalid_0's auc: 0.940476\n",
      "Early stopping, best iteration is:\n",
      "[151]\tvalid_0's auc: 0.941416\n",
      "\n",
      "Testing scores 0.9414160401002506\n",
      "\n",
      "Training scores 0.9941160457338415\n",
      "========================Fold6==========================\n",
      "Training until validation scores don't improve for 200 rounds\n",
      "[250]\tvalid_0's auc: 0.881266\n",
      "Early stopping, best iteration is:\n",
      "[278]\tvalid_0's auc: 0.885965\n",
      "\n",
      "Testing scores 0.8859649122807017\n",
      "\n",
      "Training scores 0.9983374815275725\n",
      "========================Fold7==========================\n",
      "Training until validation scores don't improve for 200 rounds\n",
      "[250]\tvalid_0's auc: 0.932644\n",
      "[500]\tvalid_0's auc: 0.937343\n",
      "Early stopping, best iteration is:\n",
      "[471]\tvalid_0's auc: 0.938596\n",
      "\n",
      "Testing scores 0.9385964912280702\n",
      "\n",
      "Training scores 0.9996052733919266\n",
      "========================Fold8==========================\n",
      "Training until validation scores don't improve for 200 rounds\n",
      "[250]\tvalid_0's auc: 0.907581\n",
      "[500]\tvalid_0's auc: 0.905388\n",
      "Early stopping, best iteration is:\n",
      "[373]\tvalid_0's auc: 0.911654\n",
      "\n",
      "Testing scores 0.9116541353383458\n",
      "\n",
      "Training scores 0.9990763786264292\n",
      "========================Fold9==========================\n",
      "Training until validation scores don't improve for 200 rounds\n",
      "[250]\tvalid_0's auc: 0.879372\n",
      "[500]\tvalid_0's auc: 0.888853\n",
      "[750]\tvalid_0's auc: 0.887545\n",
      "Early stopping, best iteration is:\n",
      "[614]\tvalid_0's auc: 0.890487\n",
      "\n",
      "Testing scores 0.8904870872834261\n",
      "\n",
      "Training scores 0.9996941967050663\n",
      "========================Fold10==========================\n",
      "Training until validation scores don't improve for 200 rounds\n",
      "[250]\tvalid_0's auc: 0.927083\n",
      "[500]\tvalid_0's auc: 0.940341\n",
      "Early stopping, best iteration is:\n",
      "[540]\tvalid_0's auc: 0.942551\n",
      "\n",
      "Testing scores 0.942550505050505\n",
      "\n",
      "Training scores 0.9995337180159702\n",
      "Average Testing ROC score for 10 folds split: 0.9098388469526913\n",
      "Average Training ROC score for 10 folds split: 0.998844390600983\n",
      "standard Deviation for 10 folds split: 0.025708786507240792\n"
     ]
    }
   ],
   "source": [
    "mean_train,mean_test_val = [],[]\n",
    "test_pred = np.zeros(test.shape[0])\n",
    "val_pred = np.zeros(train.shape[0])\n",
    "for count, (train_index,test_index) in enumerate(skfolds.split(train,target)):\n",
    "    x_train,x_test = train.iloc[train_index],train.iloc[test_index]\n",
    "    y_train,y_test = target.iloc[train_index],target.iloc[test_index]\n",
    "    print(f'========================Fold{count +1}==========================')\n",
    "    estimator.fit(x_train,y_train,eval_set=[(x_test,y_test)],early_stopping_rounds=200,\n",
    "                           verbose=250)\n",
    "    train_predict = estimator.predict_proba(x_train)[:,1]\n",
    "    test_predict = estimator.predict_proba(x_test)[:,1]\n",
    "    val_pred[test_index] = test_predict\n",
    "    test_pred+= estimator.predict_proba(test)[:,1]\n",
    "\n",
    "    print('\\nTesting scores', roc_auc_score(y_test,test_predict))\n",
    "    print('\\nTraining scores', roc_auc_score(y_train,train_predict))\n",
    "    mean_train.append(roc_auc_score(y_train, train_predict))\n",
    "    mean_test_val.append(roc_auc_score(y_test,test_predict))\n",
    "test_pred = test_pred/10\n",
    "print('Average Testing ROC score for 10 folds split:',np.mean(mean_test_val))\n",
    "print('Average Training ROC score for 10 folds split:',np.mean(mean_train))\n",
    "print('standard Deviation for 10 folds split:',np.std(mean_test_val))"
   ]
  },
  {
   "cell_type": "code",
   "execution_count": 15,
   "id": "f55babb3",
   "metadata": {},
   "outputs": [
    {
     "data": {
      "text/plain": [
       "count    672.000000\n",
       "mean       0.184473\n",
       "std        0.237385\n",
       "min        0.005824\n",
       "25%        0.021208\n",
       "50%        0.067659\n",
       "75%        0.244293\n",
       "max        0.936410\n",
       "dtype: float64"
      ]
     },
     "execution_count": 15,
     "metadata": {},
     "output_type": "execute_result"
    }
   ],
   "source": [
    "pd.Series(test_pred).describe()"
   ]
  },
  {
   "cell_type": "code",
   "execution_count": 16,
   "id": "2175b68b",
   "metadata": {},
   "outputs": [],
   "source": [
    "threshold= 0.36\n",
    "predictions = [1  if prediction > threshold else 0 for prediction in test_pred]"
   ]
  },
  {
   "cell_type": "code",
   "execution_count": 17,
   "id": "9800d044",
   "metadata": {},
   "outputs": [],
   "source": [
    "submission['Response'] = predictions\n",
    "\n",
    "submission.to_csv(\"csv/lgbm_pred_22.csv\",index=False)\n",
    "\n",
    "##DO NOT SUBMIT THIS ITS FOR THE WEIGHTGED AVERAGE EXAMPLE\n",
    "submission['Response'] = test_pred\n",
    "\n",
    "submission.to_csv(\"csv/to_be_weighted_lgb.csv\",index=False)"
   ]
  },
  {
   "cell_type": "code",
   "execution_count": 18,
   "id": "a32ae089",
   "metadata": {},
   "outputs": [
    {
     "name": "stdout",
     "output_type": "stream",
     "text": [
      "0    549\n",
      "1    123\n",
      "Name: Response, dtype: int64\n"
     ]
    }
   ],
   "source": [
    "g = pd.read_csv(\"csv/lgbm_pred_22.csv\")\n",
    "print(g['Response'].value_counts())"
   ]
  },
  {
   "cell_type": "markdown",
   "id": "6e7f1a77",
   "metadata": {},
   "source": [
    "**LB: 0.711111111111111**"
   ]
  },
  {
   "cell_type": "code",
   "execution_count": 22,
   "id": "f49e0d89",
   "metadata": {},
   "outputs": [],
   "source": [
    "### AN EXAMPLE OF WEIGHTED AVERAGE\n",
    "lgbm_predictions= pd.read_csv(\"csv/to_be_weighted_lgb.csv\")\n",
    "# xgb_predictions= pd.read_csv(\"to_be_weighted_xgb.csv\")\n",
    "xgb_predictions = pd.read_csv('/home/alli/Desktop/Folder/Competitions/ai-bootcamp-2021/csv/to-weight-xgboost.csv')\n",
    "## Assign weights.\n",
    "# pred = ((0.8*lgbm_predictions[\"Response\"] + 0.2* xgb_predictions[\"Response\"]) + (0.65 * lgbm_predictions[\"Response\"] + 0.35* xgb_predictions[\"Response\"]))/2\n",
    "pred = ((0.4*lgbm_predictions[\"Response\"] + 0.6* xgb_predictions[\"Response\"]) + (0.35 * lgbm_predictions[\"Response\"] + 0.65* xgb_predictions[\"Response\"]))/2 "
   ]
  },
  {
   "cell_type": "code",
   "execution_count": 23,
   "id": "7f23c810",
   "metadata": {},
   "outputs": [],
   "source": [
    "threshold= 0.36\n",
    "predictions = [1  if prediction > threshold else 0 for prediction in pred ]\n",
    "submission['Response'] = predictions\n",
    "\n",
    "submission.to_csv(\"csv/weighted.csv\",index=False)"
   ]
  },
  {
   "cell_type": "code",
   "execution_count": 24,
   "id": "244f4529",
   "metadata": {},
   "outputs": [
    {
     "name": "stdout",
     "output_type": "stream",
     "text": [
      "0    527\n",
      "1    145\n",
      "Name: Response, dtype: int64\n"
     ]
    }
   ],
   "source": [
    "g = pd.read_csv(\"csv/weighted.csv\")\n",
    "print(g['Response'].value_counts())"
   ]
  },
  {
   "cell_type": "markdown",
   "id": "f695586d",
   "metadata": {},
   "source": [
    "**Score after averaging LB: 0.723404255319149**"
   ]
  },
  {
   "cell_type": "markdown",
   "id": "cb86485c",
   "metadata": {},
   "source": [
    "### ALL THE BEST!!!!!"
   ]
  }
 ],
 "metadata": {
  "interpreter": {
   "hash": "ee89bb07d3fa5f9c0a8bd127b3056783b076f56308f3ae1a55a1b4c1c97796ac"
  },
  "kernelspec": {
   "display_name": "Python 3.8.8 64-bit ('base': conda)",
   "name": "python3"
  },
  "language_info": {
   "codemirror_mode": {
    "name": "ipython",
    "version": 3
   },
   "file_extension": ".py",
   "mimetype": "text/x-python",
   "name": "python",
   "nbconvert_exporter": "python",
   "pygments_lexer": "ipython3",
   "version": "3.8.8"
  }
 },
 "nbformat": 4,
 "nbformat_minor": 5
}
